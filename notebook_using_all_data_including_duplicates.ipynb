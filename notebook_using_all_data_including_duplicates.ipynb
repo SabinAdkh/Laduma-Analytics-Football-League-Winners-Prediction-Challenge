{
 "cells": [
  {
   "cell_type": "code",
   "execution_count": 1,
   "id": "67493bb3-e12f-45b1-8bba-a5d4e67c6ef6",
   "metadata": {},
   "outputs": [],
   "source": [
    "import numpy as np\n",
    "import pandas as pd\n",
    "import matplotlib.pyplot as plt\n",
    "import seaborn as sns\n",
    "import missingno as msn\n",
    "from pandas_profiling import profile_report\n",
    "\n",
    "SEED =100\n",
    "np.random.seed(SEED)\n",
    "\n",
    "from sklearn.preprocessing import LabelEncoder, OrdinalEncoder\n",
    "from sklearn.preprocessing import StandardScaler\n",
    "from sklearn.model_selection import train_test_split, StratifiedShuffleSplit\n",
    "from sklearn.metrics import accuracy_score\n",
    "from sklearn.ensemble import RandomForestClassifier\n",
    "from xgboost import XGBClassifier\n",
    "from catboost import CatBoostClassifier\n",
    "from lightgbm import LGBMClassifier"
   ]
  },
  {
   "cell_type": "code",
   "execution_count": 2,
   "id": "568a6f05-8b2f-4308-8fe5-ae2b66197f16",
   "metadata": {},
   "outputs": [],
   "source": [
    "%matplotlib inline"
   ]
  },
  {
   "cell_type": "code",
   "execution_count": 3,
   "id": "6c732087-cd6b-4742-997f-c83254440bf4",
   "metadata": {},
   "outputs": [
    {
     "name": "stderr",
     "output_type": "stream",
     "text": [
      "/home/sadkh/miniconda3/lib/python3.9/site-packages/IPython/core/interactiveshell.py:3444: DtypeWarning: Columns (19,20,24) have mixed types.Specify dtype option on import or set low_memory=False.\n",
      "  exec(code_obj, self.user_global_ns, self.user_ns)\n"
     ]
    }
   ],
   "source": [
    "train = pd.read_csv(\"Train.csv\")\n",
    "test = pd.read_csv(\"Test.csv\")\n",
    "game_statistics = pd.read_csv(\"game_statistics.csv\")"
   ]
  },
  {
   "cell_type": "code",
   "execution_count": 4,
   "id": "d35f5203-c169-4921-b70a-bba41e3678ae",
   "metadata": {},
   "outputs": [
    {
     "data": {
      "text/html": [
       "<div>\n",
       "<style scoped>\n",
       "    .dataframe tbody tr th:only-of-type {\n",
       "        vertical-align: middle;\n",
       "    }\n",
       "\n",
       "    .dataframe tbody tr th {\n",
       "        vertical-align: top;\n",
       "    }\n",
       "\n",
       "    .dataframe thead th {\n",
       "        text-align: right;\n",
       "    }\n",
       "</style>\n",
       "<table border=\"1\" class=\"dataframe\">\n",
       "  <thead>\n",
       "    <tr style=\"text-align: right;\">\n",
       "      <th></th>\n",
       "      <th>Date</th>\n",
       "      <th>Season</th>\n",
       "      <th>Match_ID</th>\n",
       "      <th>Game_ID</th>\n",
       "      <th>Home Team</th>\n",
       "      <th>Away Team</th>\n",
       "      <th>Score</th>\n",
       "    </tr>\n",
       "  </thead>\n",
       "  <tbody>\n",
       "    <tr>\n",
       "      <th>0</th>\n",
       "      <td>2017-02-15</td>\n",
       "      <td>1</td>\n",
       "      <td>1.0</td>\n",
       "      <td>ID_KAG4KAE9</td>\n",
       "      <td>Antennae</td>\n",
       "      <td>Andromeda</td>\n",
       "      <td>Away win</td>\n",
       "    </tr>\n",
       "    <tr>\n",
       "      <th>1</th>\n",
       "      <td>2016-09-14</td>\n",
       "      <td>1</td>\n",
       "      <td>12.0</td>\n",
       "      <td>ID_T7H1XN5Z</td>\n",
       "      <td>Andromeda</td>\n",
       "      <td>Antennae</td>\n",
       "      <td>Draw</td>\n",
       "    </tr>\n",
       "    <tr>\n",
       "      <th>2</th>\n",
       "      <td>2016-12-12</td>\n",
       "      <td>1</td>\n",
       "      <td>13.0</td>\n",
       "      <td>ID_O1P9FGN4</td>\n",
       "      <td>Andromeda</td>\n",
       "      <td>Butterfly</td>\n",
       "      <td>Away win</td>\n",
       "    </tr>\n",
       "    <tr>\n",
       "      <th>3</th>\n",
       "      <td>2017-01-25</td>\n",
       "      <td>1</td>\n",
       "      <td>14.0</td>\n",
       "      <td>ID_TR5M4KQV</td>\n",
       "      <td>Andromeda</td>\n",
       "      <td>Cigar</td>\n",
       "      <td>Away win</td>\n",
       "    </tr>\n",
       "    <tr>\n",
       "      <th>4</th>\n",
       "      <td>2016-08-24</td>\n",
       "      <td>1</td>\n",
       "      <td>15.0</td>\n",
       "      <td>ID_EOIECRE2</td>\n",
       "      <td>Andromeda</td>\n",
       "      <td>Circinus</td>\n",
       "      <td>Home Win</td>\n",
       "    </tr>\n",
       "  </tbody>\n",
       "</table>\n",
       "</div>"
      ],
      "text/plain": [
       "         Date  Season  Match_ID      Game_ID  Home Team  Away Team     Score\n",
       "0  2017-02-15       1       1.0  ID_KAG4KAE9   Antennae  Andromeda  Away win\n",
       "1  2016-09-14       1      12.0  ID_T7H1XN5Z  Andromeda   Antennae      Draw\n",
       "2  2016-12-12       1      13.0  ID_O1P9FGN4  Andromeda  Butterfly  Away win\n",
       "3  2017-01-25       1      14.0  ID_TR5M4KQV  Andromeda      Cigar  Away win\n",
       "4  2016-08-24       1      15.0  ID_EOIECRE2  Andromeda   Circinus  Home Win"
      ]
     },
     "execution_count": 4,
     "metadata": {},
     "output_type": "execute_result"
    }
   ],
   "source": [
    "train.head()"
   ]
  },
  {
   "cell_type": "code",
   "execution_count": 5,
   "id": "3464cab9-4e21-4b35-ab2b-85a37d421838",
   "metadata": {},
   "outputs": [
    {
     "data": {
      "text/html": [
       "<div>\n",
       "<style scoped>\n",
       "    .dataframe tbody tr th:only-of-type {\n",
       "        vertical-align: middle;\n",
       "    }\n",
       "\n",
       "    .dataframe tbody tr th {\n",
       "        vertical-align: top;\n",
       "    }\n",
       "\n",
       "    .dataframe thead th {\n",
       "        text-align: right;\n",
       "    }\n",
       "</style>\n",
       "<table border=\"1\" class=\"dataframe\">\n",
       "  <thead>\n",
       "    <tr style=\"text-align: right;\">\n",
       "      <th></th>\n",
       "      <th>Date</th>\n",
       "      <th>Season</th>\n",
       "      <th>Match_ID</th>\n",
       "      <th>Game_ID</th>\n",
       "      <th>Home Team</th>\n",
       "      <th>Away Team</th>\n",
       "    </tr>\n",
       "  </thead>\n",
       "  <tbody>\n",
       "    <tr>\n",
       "      <th>0</th>\n",
       "      <td>2018-12-08</td>\n",
       "      <td>3</td>\n",
       "      <td>102.0</td>\n",
       "      <td>ID_8518U587</td>\n",
       "      <td>Antennae</td>\n",
       "      <td>Cosmos Redshift 7</td>\n",
       "    </tr>\n",
       "    <tr>\n",
       "      <th>1</th>\n",
       "      <td>2018-09-11</td>\n",
       "      <td>3</td>\n",
       "      <td>18.0</td>\n",
       "      <td>ID_H49BIKG7</td>\n",
       "      <td>Cosmos Redshift 7</td>\n",
       "      <td>Tadpole</td>\n",
       "    </tr>\n",
       "    <tr>\n",
       "      <th>2</th>\n",
       "      <td>2018-09-25</td>\n",
       "      <td>3</td>\n",
       "      <td>32.0</td>\n",
       "      <td>ID_PO6SP4VA</td>\n",
       "      <td>Cosmos Redshift 7</td>\n",
       "      <td>Medusa Merger</td>\n",
       "    </tr>\n",
       "    <tr>\n",
       "      <th>3</th>\n",
       "      <td>2018-10-02</td>\n",
       "      <td>3</td>\n",
       "      <td>40.0</td>\n",
       "      <td>ID_MZRCNBAQ</td>\n",
       "      <td>Cartwheel</td>\n",
       "      <td>Cosmos Redshift 7</td>\n",
       "    </tr>\n",
       "    <tr>\n",
       "      <th>4</th>\n",
       "      <td>2018-12-20</td>\n",
       "      <td>3</td>\n",
       "      <td>123.0</td>\n",
       "      <td>ID_CV9VOLIU</td>\n",
       "      <td>Cosmos Redshift 7</td>\n",
       "      <td>Needle</td>\n",
       "    </tr>\n",
       "  </tbody>\n",
       "</table>\n",
       "</div>"
      ],
      "text/plain": [
       "         Date  Season  Match_ID      Game_ID          Home Team  \\\n",
       "0  2018-12-08       3     102.0  ID_8518U587           Antennae   \n",
       "1  2018-09-11       3      18.0  ID_H49BIKG7  Cosmos Redshift 7   \n",
       "2  2018-09-25       3      32.0  ID_PO6SP4VA  Cosmos Redshift 7   \n",
       "3  2018-10-02       3      40.0  ID_MZRCNBAQ          Cartwheel   \n",
       "4  2018-12-20       3     123.0  ID_CV9VOLIU  Cosmos Redshift 7   \n",
       "\n",
       "           Away Team  \n",
       "0  Cosmos Redshift 7  \n",
       "1            Tadpole  \n",
       "2      Medusa Merger  \n",
       "3  Cosmos Redshift 7  \n",
       "4             Needle  "
      ]
     },
     "execution_count": 5,
     "metadata": {},
     "output_type": "execute_result"
    }
   ],
   "source": [
    "test.head()"
   ]
  },
  {
   "cell_type": "code",
   "execution_count": 6,
   "id": "51b1eef5-bd5a-463b-bd58-853cf8864991",
   "metadata": {},
   "outputs": [
    {
     "data": {
      "text/html": [
       "<div>\n",
       "<style scoped>\n",
       "    .dataframe tbody tr th:only-of-type {\n",
       "        vertical-align: middle;\n",
       "    }\n",
       "\n",
       "    .dataframe tbody tr th {\n",
       "        vertical-align: top;\n",
       "    }\n",
       "\n",
       "    .dataframe thead th {\n",
       "        text-align: right;\n",
       "    }\n",
       "</style>\n",
       "<table border=\"1\" class=\"dataframe\">\n",
       "  <thead>\n",
       "    <tr style=\"text-align: right;\">\n",
       "      <th></th>\n",
       "      <th>Game_ID</th>\n",
       "      <th>Player_ID</th>\n",
       "      <th>id</th>\n",
       "      <th>X</th>\n",
       "      <th>Y</th>\n",
       "      <th>Team</th>\n",
       "      <th>Action</th>\n",
       "      <th>Half</th>\n",
       "      <th>Manager</th>\n",
       "      <th>Opposition_Team</th>\n",
       "      <th>...</th>\n",
       "      <th>Start_minutes</th>\n",
       "      <th>End_minutes</th>\n",
       "      <th>next_player</th>\n",
       "      <th>next_action</th>\n",
       "      <th>next_x</th>\n",
       "      <th>next_y</th>\n",
       "      <th>event_id</th>\n",
       "      <th>next_team</th>\n",
       "      <th>next_event_id</th>\n",
       "      <th>xt_value</th>\n",
       "    </tr>\n",
       "  </thead>\n",
       "  <tbody>\n",
       "    <tr>\n",
       "      <th>0</th>\n",
       "      <td>ID_ZZKYYPVY</td>\n",
       "      <td>Player_O7HO1NOB</td>\n",
       "      <td>1.0</td>\n",
       "      <td>52.5</td>\n",
       "      <td>34.0</td>\n",
       "      <td>Circinus</td>\n",
       "      <td>Accurate passes</td>\n",
       "      <td>1st half</td>\n",
       "      <td>Ryoichi</td>\n",
       "      <td>Backward</td>\n",
       "      <td>...</td>\n",
       "      <td>0.03</td>\n",
       "      <td>0.37</td>\n",
       "      <td>NaN</td>\n",
       "      <td>NaN</td>\n",
       "      <td>NaN</td>\n",
       "      <td>NaN</td>\n",
       "      <td>NaN</td>\n",
       "      <td>NaN</td>\n",
       "      <td>NaN</td>\n",
       "      <td>NaN</td>\n",
       "    </tr>\n",
       "    <tr>\n",
       "      <th>1</th>\n",
       "      <td>ID_ZZKYYPVY</td>\n",
       "      <td>Player_O7HO1NOB</td>\n",
       "      <td>2.0</td>\n",
       "      <td>52.5</td>\n",
       "      <td>34.0</td>\n",
       "      <td>Circinus</td>\n",
       "      <td>Positional attacks</td>\n",
       "      <td>1st half</td>\n",
       "      <td>Ryoichi</td>\n",
       "      <td>Backward</td>\n",
       "      <td>...</td>\n",
       "      <td>0.03</td>\n",
       "      <td>0.37</td>\n",
       "      <td>NaN</td>\n",
       "      <td>NaN</td>\n",
       "      <td>NaN</td>\n",
       "      <td>NaN</td>\n",
       "      <td>NaN</td>\n",
       "      <td>NaN</td>\n",
       "      <td>NaN</td>\n",
       "      <td>NaN</td>\n",
       "    </tr>\n",
       "    <tr>\n",
       "      <th>2</th>\n",
       "      <td>ID_ZZKYYPVY</td>\n",
       "      <td>Player_J0V7B0YE</td>\n",
       "      <td>3.0</td>\n",
       "      <td>37.0</td>\n",
       "      <td>32.7</td>\n",
       "      <td>Circinus</td>\n",
       "      <td>Positional attacks</td>\n",
       "      <td>1st half</td>\n",
       "      <td>Ryoichi</td>\n",
       "      <td>Backward</td>\n",
       "      <td>...</td>\n",
       "      <td>0.05</td>\n",
       "      <td>0.38</td>\n",
       "      <td>NaN</td>\n",
       "      <td>NaN</td>\n",
       "      <td>NaN</td>\n",
       "      <td>NaN</td>\n",
       "      <td>NaN</td>\n",
       "      <td>NaN</td>\n",
       "      <td>NaN</td>\n",
       "      <td>NaN</td>\n",
       "    </tr>\n",
       "    <tr>\n",
       "      <th>3</th>\n",
       "      <td>ID_ZZKYYPVY</td>\n",
       "      <td>Player_J0V7B0YE</td>\n",
       "      <td>4.0</td>\n",
       "      <td>39.5</td>\n",
       "      <td>33.0</td>\n",
       "      <td>Circinus</td>\n",
       "      <td>Positional attacks</td>\n",
       "      <td>1st half</td>\n",
       "      <td>Ryoichi</td>\n",
       "      <td>Backward</td>\n",
       "      <td>...</td>\n",
       "      <td>0.07</td>\n",
       "      <td>0.40</td>\n",
       "      <td>NaN</td>\n",
       "      <td>NaN</td>\n",
       "      <td>NaN</td>\n",
       "      <td>NaN</td>\n",
       "      <td>NaN</td>\n",
       "      <td>NaN</td>\n",
       "      <td>NaN</td>\n",
       "      <td>NaN</td>\n",
       "    </tr>\n",
       "    <tr>\n",
       "      <th>4</th>\n",
       "      <td>ID_ZZKYYPVY</td>\n",
       "      <td>Player_J0V7B0YE</td>\n",
       "      <td>5.0</td>\n",
       "      <td>39.5</td>\n",
       "      <td>33.0</td>\n",
       "      <td>Circinus</td>\n",
       "      <td>Inaccurate passes</td>\n",
       "      <td>1st half</td>\n",
       "      <td>Ryoichi</td>\n",
       "      <td>Backward</td>\n",
       "      <td>...</td>\n",
       "      <td>0.07</td>\n",
       "      <td>0.40</td>\n",
       "      <td>NaN</td>\n",
       "      <td>NaN</td>\n",
       "      <td>NaN</td>\n",
       "      <td>NaN</td>\n",
       "      <td>NaN</td>\n",
       "      <td>NaN</td>\n",
       "      <td>NaN</td>\n",
       "      <td>NaN</td>\n",
       "    </tr>\n",
       "  </tbody>\n",
       "</table>\n",
       "<p>5 rows × 27 columns</p>\n",
       "</div>"
      ],
      "text/plain": [
       "       Game_ID        Player_ID   id     X     Y      Team  \\\n",
       "0  ID_ZZKYYPVY  Player_O7HO1NOB  1.0  52.5  34.0  Circinus   \n",
       "1  ID_ZZKYYPVY  Player_O7HO1NOB  2.0  52.5  34.0  Circinus   \n",
       "2  ID_ZZKYYPVY  Player_J0V7B0YE  3.0  37.0  32.7  Circinus   \n",
       "3  ID_ZZKYYPVY  Player_J0V7B0YE  4.0  39.5  33.0  Circinus   \n",
       "4  ID_ZZKYYPVY  Player_J0V7B0YE  5.0  39.5  33.0  Circinus   \n",
       "\n",
       "               Action      Half  Manager Opposition_Team  ...  Start_minutes  \\\n",
       "0     Accurate passes  1st half  Ryoichi        Backward  ...           0.03   \n",
       "1  Positional attacks  1st half  Ryoichi        Backward  ...           0.03   \n",
       "2  Positional attacks  1st half  Ryoichi        Backward  ...           0.05   \n",
       "3  Positional attacks  1st half  Ryoichi        Backward  ...           0.07   \n",
       "4   Inaccurate passes  1st half  Ryoichi        Backward  ...           0.07   \n",
       "\n",
       "   End_minutes  next_player  next_action  next_x  next_y  event_id  next_team  \\\n",
       "0         0.37          NaN          NaN     NaN     NaN       NaN        NaN   \n",
       "1         0.37          NaN          NaN     NaN     NaN       NaN        NaN   \n",
       "2         0.38          NaN          NaN     NaN     NaN       NaN        NaN   \n",
       "3         0.40          NaN          NaN     NaN     NaN       NaN        NaN   \n",
       "4         0.40          NaN          NaN     NaN     NaN       NaN        NaN   \n",
       "\n",
       "   next_event_id xt_value  \n",
       "0            NaN      NaN  \n",
       "1            NaN      NaN  \n",
       "2            NaN      NaN  \n",
       "3            NaN      NaN  \n",
       "4            NaN      NaN  \n",
       "\n",
       "[5 rows x 27 columns]"
      ]
     },
     "execution_count": 6,
     "metadata": {},
     "output_type": "execute_result"
    }
   ],
   "source": [
    "game_statistics.head()"
   ]
  },
  {
   "cell_type": "code",
   "execution_count": 7,
   "id": "d9b1b961-0f7f-44d4-9abf-5b5a3598e989",
   "metadata": {},
   "outputs": [
    {
     "name": "stdout",
     "output_type": "stream",
     "text": [
      "<class 'pandas.core.frame.DataFrame'>\n",
      "RangeIndex: 412 entries, 0 to 411\n",
      "Data columns (total 7 columns):\n",
      " #   Column     Non-Null Count  Dtype  \n",
      "---  ------     --------------  -----  \n",
      " 0   Date       412 non-null    object \n",
      " 1   Season     412 non-null    int64  \n",
      " 2   Match_ID   412 non-null    float64\n",
      " 3   Game_ID    412 non-null    object \n",
      " 4   Home Team  412 non-null    object \n",
      " 5   Away Team  412 non-null    object \n",
      " 6   Score      412 non-null    object \n",
      "dtypes: float64(1), int64(1), object(5)\n",
      "memory usage: 22.7+ KB\n"
     ]
    }
   ],
   "source": [
    "train.info()"
   ]
  },
  {
   "cell_type": "code",
   "execution_count": 8,
   "id": "6835bf91-38cf-4375-976f-80e884c1d1fb",
   "metadata": {},
   "outputs": [
    {
     "name": "stdout",
     "output_type": "stream",
     "text": [
      "<class 'pandas.core.frame.DataFrame'>\n",
      "RangeIndex: 234 entries, 0 to 233\n",
      "Data columns (total 6 columns):\n",
      " #   Column     Non-Null Count  Dtype  \n",
      "---  ------     --------------  -----  \n",
      " 0   Date       234 non-null    object \n",
      " 1   Season     234 non-null    int64  \n",
      " 2   Match_ID   234 non-null    float64\n",
      " 3   Game_ID    234 non-null    object \n",
      " 4   Home Team  234 non-null    object \n",
      " 5   Away Team  234 non-null    object \n",
      "dtypes: float64(1), int64(1), object(4)\n",
      "memory usage: 11.1+ KB\n"
     ]
    }
   ],
   "source": [
    "test.info()"
   ]
  },
  {
   "cell_type": "code",
   "execution_count": 9,
   "id": "0b563d8a-0ceb-4181-a996-5ab20be7057a",
   "metadata": {},
   "outputs": [
    {
     "name": "stdout",
     "output_type": "stream",
     "text": [
      "<class 'pandas.core.frame.DataFrame'>\n",
      "RangeIndex: 2428101 entries, 0 to 2428100\n",
      "Data columns (total 27 columns):\n",
      " #   Column             Dtype  \n",
      "---  ------             -----  \n",
      " 0   Game_ID            object \n",
      " 1   Player_ID          object \n",
      " 2   id                 float64\n",
      " 3   X                  float64\n",
      " 4   Y                  float64\n",
      " 5   Team               object \n",
      " 6   Action             object \n",
      " 7   Half               object \n",
      " 8   Manager            object \n",
      " 9   Opposition_Team    object \n",
      " 10  Shots              float64\n",
      " 11  SoT                float64\n",
      " 12  Goals_scored       float64\n",
      " 13  Goals_conceded     float64\n",
      " 14  Accurate passes    float64\n",
      " 15  Inaccurate passes  float64\n",
      " 16  Passes             float64\n",
      " 17  Start_minutes      float64\n",
      " 18  End_minutes        float64\n",
      " 19  next_player        object \n",
      " 20  next_action        object \n",
      " 21  next_x             float64\n",
      " 22  next_y             float64\n",
      " 23  event_id           float64\n",
      " 24  next_team          object \n",
      " 25  next_event_id      float64\n",
      " 26  xt_value           float64\n",
      "dtypes: float64(17), object(10)\n",
      "memory usage: 500.2+ MB\n"
     ]
    }
   ],
   "source": [
    "game_statistics.info()"
   ]
  },
  {
   "cell_type": "markdown",
   "id": "a9c71438-d950-4cd7-aa5c-dbb52fd34026",
   "metadata": {},
   "source": [
    "## Data Analyis & Visualization"
   ]
  },
  {
   "cell_type": "code",
   "execution_count": 10,
   "id": "a11ae20a-016b-409b-93f7-cfbfb2120b7d",
   "metadata": {},
   "outputs": [],
   "source": [
    "# train.profile_report()"
   ]
  },
  {
   "cell_type": "code",
   "execution_count": 11,
   "id": "99c4ada5-1f11-4403-b33c-454e49b35f57",
   "metadata": {},
   "outputs": [
    {
     "name": "stderr",
     "output_type": "stream",
     "text": [
      "/home/sadkh/miniconda3/lib/python3.9/site-packages/seaborn/_decorators.py:36: FutureWarning: Pass the following variable as a keyword arg: x. From version 0.12, the only valid positional argument will be `data`, and passing other arguments without an explicit keyword will result in an error or misinterpretation.\n",
      "  warnings.warn(\n"
     ]
    },
    {
     "data": {
      "text/plain": [
       "<AxesSubplot:xlabel='Score', ylabel='count'>"
      ]
     },
     "execution_count": 11,
     "metadata": {},
     "output_type": "execute_result"
    },
    {
     "data": {
      "image/png": "[encoded data removed]",
      "text/plain": [
       "<Figure size 432x288 with 1 Axes>"
      ]
     },
     "metadata": {
      "needs_background": "light"
     },
     "output_type": "display_data"
    }
   ],
   "source": [
    "sns.countplot(train['Score'])"
   ]
  },
  {
   "cell_type": "code",
   "execution_count": 12,
   "id": "40338755-5de6-460a-87fb-e891b5aa4b75",
   "metadata": {},
   "outputs": [
    {
     "name": "stderr",
     "output_type": "stream",
     "text": [
      "/home/sadkh/miniconda3/lib/python3.9/site-packages/seaborn/_decorators.py:36: FutureWarning: Pass the following variable as a keyword arg: x. From version 0.12, the only valid positional argument will be `data`, and passing other arguments without an explicit keyword will result in an error or misinterpretation.\n",
      "  warnings.warn(\n"
     ]
    },
    {
     "data": {
      "text/plain": [
       "<AxesSubplot:xlabel='Home Team', ylabel='count'>"
      ]
     },
     "execution_count": 12,
     "metadata": {},
     "output_type": "execute_result"
    },
    {
     "data": {
      "image/png": "[encoded data removed]",
      "text/plain": [
       "<Figure size 1944x576 with 1 Axes>"
      ]
     },
     "metadata": {
      "needs_background": "light"
     },
     "output_type": "display_data"
    }
   ],
   "source": [
    "plt.figure(figsize=(27, 8))\n",
    "sns.countplot(train['Home Team'])"
   ]
  },
  {
   "cell_type": "code",
   "execution_count": 13,
   "id": "20e32f20-03ba-430d-8872-78b63620a7b0",
   "metadata": {},
   "outputs": [
    {
     "name": "stderr",
     "output_type": "stream",
     "text": [
      "/home/sadkh/miniconda3/lib/python3.9/site-packages/seaborn/_decorators.py:36: FutureWarning: Pass the following variable as a keyword arg: x. From version 0.12, the only valid positional argument will be `data`, and passing other arguments without an explicit keyword will result in an error or misinterpretation.\n",
      "  warnings.warn(\n"
     ]
    },
    {
     "data": {
      "text/plain": [
       "<AxesSubplot:xlabel='Away Team', ylabel='count'>"
      ]
     },
     "execution_count": 13,
     "metadata": {},
     "output_type": "execute_result"
    },
    {
     "data": {
      "image/png": "[encoded data removed]",
      "text/plain": [
       "<Figure size 1944x576 with 1 Axes>"
      ]
     },
     "metadata": {
      "needs_background": "light"
     },
     "output_type": "display_data"
    }
   ],
   "source": [
    "plt.figure(figsize=(27, 8))\n",
    "sns.countplot(train['Away Team'])"
   ]
  },
  {
   "cell_type": "code",
   "execution_count": 14,
   "id": "f660ad4d-83e9-4e2a-9066-3c36f366eced",
   "metadata": {},
   "outputs": [
    {
     "name": "stderr",
     "output_type": "stream",
     "text": [
      "/home/sadkh/miniconda3/lib/python3.9/site-packages/seaborn/_decorators.py:36: FutureWarning: Pass the following variable as a keyword arg: x. From version 0.12, the only valid positional argument will be `data`, and passing other arguments without an explicit keyword will result in an error or misinterpretation.\n",
      "  warnings.warn(\n"
     ]
    },
    {
     "data": {
      "text/plain": [
       "<AxesSubplot:xlabel='Season', ylabel='count'>"
      ]
     },
     "execution_count": 14,
     "metadata": {},
     "output_type": "execute_result"
    },
    {
     "data": {
      "image/png": "[encoded data removed]",
      "text/plain": [
       "<Figure size 432x288 with 1 Axes>"
      ]
     },
     "metadata": {
      "needs_background": "light"
     },
     "output_type": "display_data"
    }
   ],
   "source": [
    "sns.countplot(train['Season'])"
   ]
  },
  {
   "cell_type": "code",
   "execution_count": 15,
   "id": "d2945f79-3327-4bac-ba79-1503eb9acc9f",
   "metadata": {},
   "outputs": [
    {
     "data": {
      "text/plain": [
       "19"
      ]
     },
     "execution_count": 15,
     "metadata": {},
     "output_type": "execute_result"
    }
   ],
   "source": [
    "train['Home Team'].nunique()"
   ]
  },
  {
   "cell_type": "code",
   "execution_count": 16,
   "id": "180ed739-bfb8-4f5c-abc4-4b58901967ae",
   "metadata": {},
   "outputs": [
    {
     "data": {
      "text/plain": [
       "19"
      ]
     },
     "execution_count": 16,
     "metadata": {},
     "output_type": "execute_result"
    }
   ],
   "source": [
    "train[\"Away Team\"].nunique()"
   ]
  },
  {
   "cell_type": "code",
   "execution_count": 17,
   "id": "1e1bdbdd-0948-4903-9690-b31d08a87355",
   "metadata": {},
   "outputs": [
    {
     "data": {
      "text/plain": [
       "224"
      ]
     },
     "execution_count": 17,
     "metadata": {},
     "output_type": "execute_result"
    }
   ],
   "source": [
    "train[\"Match_ID\"].nunique()"
   ]
  },
  {
   "cell_type": "code",
   "execution_count": 18,
   "id": "19d9bfd6-d43f-4516-a79a-cb259da969a2",
   "metadata": {},
   "outputs": [
    {
     "data": {
      "text/plain": [
       "412"
      ]
     },
     "execution_count": 18,
     "metadata": {},
     "output_type": "execute_result"
    }
   ],
   "source": [
    "train[\"Game_ID\"].nunique()"
   ]
  },
  {
   "cell_type": "code",
   "execution_count": 19,
   "id": "7c2a358d-a7b1-4d30-bb3f-a7d09dfc2141",
   "metadata": {},
   "outputs": [
    {
     "name": "stderr",
     "output_type": "stream",
     "text": [
      "/home/sadkh/miniconda3/lib/python3.9/site-packages/seaborn/_decorators.py:36: FutureWarning: Pass the following variable as a keyword arg: x. From version 0.12, the only valid positional argument will be `data`, and passing other arguments without an explicit keyword will result in an error or misinterpretation.\n",
      "  warnings.warn(\n"
     ]
    },
    {
     "data": {
      "text/plain": [
       "<AxesSubplot:xlabel='Home Team', ylabel='count'>"
      ]
     },
     "execution_count": 19,
     "metadata": {},
     "output_type": "execute_result"
    },
    {
     "data": {
      "image/png": "[encoded data removed]",
      "text/plain": [
       "<Figure size 1944x576 with 1 Axes>"
      ]
     },
     "metadata": {
      "needs_background": "light"
     },
     "output_type": "display_data"
    }
   ],
   "source": [
    "plt.figure(figsize=(27, 8))\n",
    "sns.countplot(test['Home Team'])"
   ]
  },
  {
   "cell_type": "code",
   "execution_count": 20,
   "id": "6e283baa-a86a-41bb-aa3a-557e4d618fa5",
   "metadata": {},
   "outputs": [
    {
     "name": "stderr",
     "output_type": "stream",
     "text": [
      "/home/sadkh/miniconda3/lib/python3.9/site-packages/seaborn/_decorators.py:36: FutureWarning: Pass the following variable as a keyword arg: x. From version 0.12, the only valid positional argument will be `data`, and passing other arguments without an explicit keyword will result in an error or misinterpretation.\n",
      "  warnings.warn(\n"
     ]
    },
    {
     "data": {
      "text/plain": [
       "<AxesSubplot:xlabel='Away Team', ylabel='count'>"
      ]
     },
     "execution_count": 20,
     "metadata": {},
     "output_type": "execute_result"
    },
    {
     "data": {
      "image/png": "[encoded data removed]",
      "text/plain": [
       "<Figure size 1944x576 with 1 Axes>"
      ]
     },
     "metadata": {
      "needs_background": "light"
     },
     "output_type": "display_data"
    }
   ],
   "source": [
    "plt.figure(figsize=(27,8))\n",
    "sns.countplot(test[\"Away Team\"])"
   ]
  },
  {
   "cell_type": "code",
   "execution_count": 21,
   "id": "26931b7b-bedf-4248-afa7-04513db0712f",
   "metadata": {},
   "outputs": [
    {
     "name": "stderr",
     "output_type": "stream",
     "text": [
      "/home/sadkh/miniconda3/lib/python3.9/site-packages/seaborn/_decorators.py:36: FutureWarning: Pass the following variable as a keyword arg: x. From version 0.12, the only valid positional argument will be `data`, and passing other arguments without an explicit keyword will result in an error or misinterpretation.\n",
      "  warnings.warn(\n"
     ]
    },
    {
     "data": {
      "text/plain": [
       "<AxesSubplot:xlabel='Season', ylabel='count'>"
      ]
     },
     "execution_count": 21,
     "metadata": {},
     "output_type": "execute_result"
    },
    {
     "data": {
      "image/png": "[encoded data removed]",
      "text/plain": [
       "<Figure size 432x288 with 1 Axes>"
      ]
     },
     "metadata": {
      "needs_background": "light"
     },
     "output_type": "display_data"
    }
   ],
   "source": [
    "sns.countplot(test['Season'])"
   ]
  },
  {
   "cell_type": "code",
   "execution_count": 22,
   "id": "6c716e5a-123d-431b-92f2-6689df2f038e",
   "metadata": {},
   "outputs": [
    {
     "data": {
      "text/plain": [
       "16"
      ]
     },
     "execution_count": 22,
     "metadata": {},
     "output_type": "execute_result"
    }
   ],
   "source": [
    "test[\"Home Team\"].nunique()"
   ]
  },
  {
   "cell_type": "code",
   "execution_count": 23,
   "id": "3ff7ed31-0cfc-4fa4-97df-f1dcb0cb7afe",
   "metadata": {},
   "outputs": [
    {
     "data": {
      "text/plain": [
       "16"
      ]
     },
     "execution_count": 23,
     "metadata": {},
     "output_type": "execute_result"
    }
   ],
   "source": [
    "test[\"Away Team\"].nunique()"
   ]
  },
  {
   "cell_type": "code",
   "execution_count": 24,
   "id": "89dea630-4114-40a1-ad5d-8ea97e179ccc",
   "metadata": {},
   "outputs": [
    {
     "data": {
      "text/plain": [
       "213"
      ]
     },
     "execution_count": 24,
     "metadata": {},
     "output_type": "execute_result"
    }
   ],
   "source": [
    "test[\"Match_ID\"].nunique()"
   ]
  },
  {
   "cell_type": "code",
   "execution_count": 25,
   "id": "b2bac520-142d-4c0c-89f6-a98fd5826f24",
   "metadata": {},
   "outputs": [
    {
     "data": {
      "text/plain": [
       "234"
      ]
     },
     "execution_count": 25,
     "metadata": {},
     "output_type": "execute_result"
    }
   ],
   "source": [
    "test[\"Game_ID\"].nunique()"
   ]
  },
  {
   "cell_type": "code",
   "execution_count": 26,
   "id": "08291a77-c8fc-4671-b0b0-82390f47de01",
   "metadata": {},
   "outputs": [
    {
     "data": {
      "text/plain": [
       "Index(['Date', 'Season', 'Match_ID', 'Game_ID', 'Home Team', 'Away Team',\n",
       "       'Score'],\n",
       "      dtype='object')"
      ]
     },
     "execution_count": 26,
     "metadata": {},
     "output_type": "execute_result"
    }
   ],
   "source": [
    "train.columns"
   ]
  },
  {
   "cell_type": "code",
   "execution_count": 27,
   "id": "a8cd393c-2fbf-4b0a-b9c5-a32515f079ad",
   "metadata": {},
   "outputs": [
    {
     "data": {
      "text/plain": [
       "Index(['Date', 'Season', 'Match_ID', 'Game_ID', 'Home Team', 'Away Team'], dtype='object')"
      ]
     },
     "execution_count": 27,
     "metadata": {},
     "output_type": "execute_result"
    }
   ],
   "source": [
    "test.columns"
   ]
  },
  {
   "cell_type": "markdown",
   "id": "f6ec7f70-5ac1-4370-962c-9673fd1c15a7",
   "metadata": {},
   "source": [
    "## Data Preprocesing"
   ]
  },
  {
   "cell_type": "code",
   "execution_count": 28,
   "id": "6e311e7d-6777-48fa-b9c4-f031d38dfcf6",
   "metadata": {},
   "outputs": [],
   "source": [
    "train[\"Train\"] = 1\n",
    "test[\"Train\"] = 0\n",
    "\n",
    "train_test = pd.concat([train, test])"
   ]
  },
  {
   "cell_type": "code",
   "execution_count": 29,
   "id": "f80e8015-555d-49fe-9439-283d3a3cf6e9",
   "metadata": {},
   "outputs": [
    {
     "data": {
      "text/html": [
       "<div>\n",
       "<style scoped>\n",
       "    .dataframe tbody tr th:only-of-type {\n",
       "        vertical-align: middle;\n",
       "    }\n",
       "\n",
       "    .dataframe tbody tr th {\n",
       "        vertical-align: top;\n",
       "    }\n",
       "\n",
       "    .dataframe thead th {\n",
       "        text-align: right;\n",
       "    }\n",
       "</style>\n",
       "<table border=\"1\" class=\"dataframe\">\n",
       "  <thead>\n",
       "    <tr style=\"text-align: right;\">\n",
       "      <th></th>\n",
       "      <th>Date</th>\n",
       "      <th>Season</th>\n",
       "      <th>Match_ID</th>\n",
       "      <th>Game_ID</th>\n",
       "      <th>Home Team</th>\n",
       "      <th>Away Team</th>\n",
       "      <th>Score</th>\n",
       "      <th>Train</th>\n",
       "    </tr>\n",
       "  </thead>\n",
       "  <tbody>\n",
       "    <tr>\n",
       "      <th>229</th>\n",
       "      <td>2018-12-08</td>\n",
       "      <td>3</td>\n",
       "      <td>300.0</td>\n",
       "      <td>ID_QKQ00O16</td>\n",
       "      <td>Malin 1</td>\n",
       "      <td>Needle</td>\n",
       "      <td>NaN</td>\n",
       "      <td>0</td>\n",
       "    </tr>\n",
       "    <tr>\n",
       "      <th>230</th>\n",
       "      <td>2018-12-11</td>\n",
       "      <td>3</td>\n",
       "      <td>300.0</td>\n",
       "      <td>ID_172V2IXW</td>\n",
       "      <td>Tadpole</td>\n",
       "      <td>Needle</td>\n",
       "      <td>NaN</td>\n",
       "      <td>0</td>\n",
       "    </tr>\n",
       "    <tr>\n",
       "      <th>231</th>\n",
       "      <td>2018-12-22</td>\n",
       "      <td>3</td>\n",
       "      <td>300.0</td>\n",
       "      <td>ID_2ZK5TE39</td>\n",
       "      <td>Circinus</td>\n",
       "      <td>Malin 1</td>\n",
       "      <td>NaN</td>\n",
       "      <td>0</td>\n",
       "    </tr>\n",
       "    <tr>\n",
       "      <th>232</th>\n",
       "      <td>2019-05-07</td>\n",
       "      <td>3</td>\n",
       "      <td>300.0</td>\n",
       "      <td>ID_IS54QGW9</td>\n",
       "      <td>Needle</td>\n",
       "      <td>Andromeda</td>\n",
       "      <td>NaN</td>\n",
       "      <td>0</td>\n",
       "    </tr>\n",
       "    <tr>\n",
       "      <th>233</th>\n",
       "      <td>2019-05-14</td>\n",
       "      <td>3</td>\n",
       "      <td>300.0</td>\n",
       "      <td>ID_YG9IONLS</td>\n",
       "      <td>Tadpole</td>\n",
       "      <td>Circinus</td>\n",
       "      <td>NaN</td>\n",
       "      <td>0</td>\n",
       "    </tr>\n",
       "  </tbody>\n",
       "</table>\n",
       "</div>"
      ],
      "text/plain": [
       "           Date  Season  Match_ID      Game_ID Home Team  Away Team Score  \\\n",
       "229  2018-12-08       3     300.0  ID_QKQ00O16   Malin 1     Needle   NaN   \n",
       "230  2018-12-11       3     300.0  ID_172V2IXW   Tadpole     Needle   NaN   \n",
       "231  2018-12-22       3     300.0  ID_2ZK5TE39  Circinus    Malin 1   NaN   \n",
       "232  2019-05-07       3     300.0  ID_IS54QGW9    Needle  Andromeda   NaN   \n",
       "233  2019-05-14       3     300.0  ID_YG9IONLS   Tadpole   Circinus   NaN   \n",
       "\n",
       "     Train  \n",
       "229      0  \n",
       "230      0  \n",
       "231      0  \n",
       "232      0  \n",
       "233      0  "
      ]
     },
     "execution_count": 29,
     "metadata": {},
     "output_type": "execute_result"
    }
   ],
   "source": [
    "train_test.tail(5)"
   ]
  },
  {
   "cell_type": "code",
   "execution_count": 30,
   "id": "9a095d9b-ce28-4c34-9e12-fc7c05957a9a",
   "metadata": {},
   "outputs": [
    {
     "data": {
      "text/plain": [
       "646"
      ]
     },
     "execution_count": 30,
     "metadata": {},
     "output_type": "execute_result"
    }
   ],
   "source": [
    "len(train_test)"
   ]
  },
  {
   "cell_type": "code",
   "execution_count": 31,
   "id": "16cb08be-8ed2-4e02-89c5-8defc5caf2e6",
   "metadata": {},
   "outputs": [
    {
     "data": {
      "text/html": [
       "<div>\n",
       "<style scoped>\n",
       "    .dataframe tbody tr th:only-of-type {\n",
       "        vertical-align: middle;\n",
       "    }\n",
       "\n",
       "    .dataframe tbody tr th {\n",
       "        vertical-align: top;\n",
       "    }\n",
       "\n",
       "    .dataframe thead th {\n",
       "        text-align: right;\n",
       "    }\n",
       "</style>\n",
       "<table border=\"1\" class=\"dataframe\">\n",
       "  <thead>\n",
       "    <tr style=\"text-align: right;\">\n",
       "      <th></th>\n",
       "      <th>Game_ID</th>\n",
       "      <th>Player_ID</th>\n",
       "      <th>id</th>\n",
       "      <th>X</th>\n",
       "      <th>Y</th>\n",
       "      <th>Team</th>\n",
       "      <th>Action</th>\n",
       "      <th>Half</th>\n",
       "      <th>Manager</th>\n",
       "      <th>Opposition_Team</th>\n",
       "      <th>...</th>\n",
       "      <th>Start_minutes</th>\n",
       "      <th>End_minutes</th>\n",
       "      <th>next_player</th>\n",
       "      <th>next_action</th>\n",
       "      <th>next_x</th>\n",
       "      <th>next_y</th>\n",
       "      <th>event_id</th>\n",
       "      <th>next_team</th>\n",
       "      <th>next_event_id</th>\n",
       "      <th>xt_value</th>\n",
       "    </tr>\n",
       "  </thead>\n",
       "  <tbody>\n",
       "    <tr>\n",
       "      <th>0</th>\n",
       "      <td>ID_ZZKYYPVY</td>\n",
       "      <td>Player_O7HO1NOB</td>\n",
       "      <td>1.0</td>\n",
       "      <td>52.5</td>\n",
       "      <td>34.0</td>\n",
       "      <td>Circinus</td>\n",
       "      <td>Accurate passes</td>\n",
       "      <td>1st half</td>\n",
       "      <td>Ryoichi</td>\n",
       "      <td>Backward</td>\n",
       "      <td>...</td>\n",
       "      <td>0.03</td>\n",
       "      <td>0.37</td>\n",
       "      <td>NaN</td>\n",
       "      <td>NaN</td>\n",
       "      <td>NaN</td>\n",
       "      <td>NaN</td>\n",
       "      <td>NaN</td>\n",
       "      <td>NaN</td>\n",
       "      <td>NaN</td>\n",
       "      <td>NaN</td>\n",
       "    </tr>\n",
       "    <tr>\n",
       "      <th>1</th>\n",
       "      <td>ID_ZZKYYPVY</td>\n",
       "      <td>Player_O7HO1NOB</td>\n",
       "      <td>2.0</td>\n",
       "      <td>52.5</td>\n",
       "      <td>34.0</td>\n",
       "      <td>Circinus</td>\n",
       "      <td>Positional attacks</td>\n",
       "      <td>1st half</td>\n",
       "      <td>Ryoichi</td>\n",
       "      <td>Backward</td>\n",
       "      <td>...</td>\n",
       "      <td>0.03</td>\n",
       "      <td>0.37</td>\n",
       "      <td>NaN</td>\n",
       "      <td>NaN</td>\n",
       "      <td>NaN</td>\n",
       "      <td>NaN</td>\n",
       "      <td>NaN</td>\n",
       "      <td>NaN</td>\n",
       "      <td>NaN</td>\n",
       "      <td>NaN</td>\n",
       "    </tr>\n",
       "    <tr>\n",
       "      <th>2</th>\n",
       "      <td>ID_ZZKYYPVY</td>\n",
       "      <td>Player_J0V7B0YE</td>\n",
       "      <td>3.0</td>\n",
       "      <td>37.0</td>\n",
       "      <td>32.7</td>\n",
       "      <td>Circinus</td>\n",
       "      <td>Positional attacks</td>\n",
       "      <td>1st half</td>\n",
       "      <td>Ryoichi</td>\n",
       "      <td>Backward</td>\n",
       "      <td>...</td>\n",
       "      <td>0.05</td>\n",
       "      <td>0.38</td>\n",
       "      <td>NaN</td>\n",
       "      <td>NaN</td>\n",
       "      <td>NaN</td>\n",
       "      <td>NaN</td>\n",
       "      <td>NaN</td>\n",
       "      <td>NaN</td>\n",
       "      <td>NaN</td>\n",
       "      <td>NaN</td>\n",
       "    </tr>\n",
       "    <tr>\n",
       "      <th>3</th>\n",
       "      <td>ID_ZZKYYPVY</td>\n",
       "      <td>Player_J0V7B0YE</td>\n",
       "      <td>4.0</td>\n",
       "      <td>39.5</td>\n",
       "      <td>33.0</td>\n",
       "      <td>Circinus</td>\n",
       "      <td>Positional attacks</td>\n",
       "      <td>1st half</td>\n",
       "      <td>Ryoichi</td>\n",
       "      <td>Backward</td>\n",
       "      <td>...</td>\n",
       "      <td>0.07</td>\n",
       "      <td>0.40</td>\n",
       "      <td>NaN</td>\n",
       "      <td>NaN</td>\n",
       "      <td>NaN</td>\n",
       "      <td>NaN</td>\n",
       "      <td>NaN</td>\n",
       "      <td>NaN</td>\n",
       "      <td>NaN</td>\n",
       "      <td>NaN</td>\n",
       "    </tr>\n",
       "    <tr>\n",
       "      <th>4</th>\n",
       "      <td>ID_ZZKYYPVY</td>\n",
       "      <td>Player_J0V7B0YE</td>\n",
       "      <td>5.0</td>\n",
       "      <td>39.5</td>\n",
       "      <td>33.0</td>\n",
       "      <td>Circinus</td>\n",
       "      <td>Inaccurate passes</td>\n",
       "      <td>1st half</td>\n",
       "      <td>Ryoichi</td>\n",
       "      <td>Backward</td>\n",
       "      <td>...</td>\n",
       "      <td>0.07</td>\n",
       "      <td>0.40</td>\n",
       "      <td>NaN</td>\n",
       "      <td>NaN</td>\n",
       "      <td>NaN</td>\n",
       "      <td>NaN</td>\n",
       "      <td>NaN</td>\n",
       "      <td>NaN</td>\n",
       "      <td>NaN</td>\n",
       "      <td>NaN</td>\n",
       "    </tr>\n",
       "  </tbody>\n",
       "</table>\n",
       "<p>5 rows × 27 columns</p>\n",
       "</div>"
      ],
      "text/plain": [
       "       Game_ID        Player_ID   id     X     Y      Team  \\\n",
       "0  ID_ZZKYYPVY  Player_O7HO1NOB  1.0  52.5  34.0  Circinus   \n",
       "1  ID_ZZKYYPVY  Player_O7HO1NOB  2.0  52.5  34.0  Circinus   \n",
       "2  ID_ZZKYYPVY  Player_J0V7B0YE  3.0  37.0  32.7  Circinus   \n",
       "3  ID_ZZKYYPVY  Player_J0V7B0YE  4.0  39.5  33.0  Circinus   \n",
       "4  ID_ZZKYYPVY  Player_J0V7B0YE  5.0  39.5  33.0  Circinus   \n",
       "\n",
       "               Action      Half  Manager Opposition_Team  ...  Start_minutes  \\\n",
       "0     Accurate passes  1st half  Ryoichi        Backward  ...           0.03   \n",
       "1  Positional attacks  1st half  Ryoichi        Backward  ...           0.03   \n",
       "2  Positional attacks  1st half  Ryoichi        Backward  ...           0.05   \n",
       "3  Positional attacks  1st half  Ryoichi        Backward  ...           0.07   \n",
       "4   Inaccurate passes  1st half  Ryoichi        Backward  ...           0.07   \n",
       "\n",
       "   End_minutes  next_player  next_action  next_x  next_y  event_id  next_team  \\\n",
       "0         0.37          NaN          NaN     NaN     NaN       NaN        NaN   \n",
       "1         0.37          NaN          NaN     NaN     NaN       NaN        NaN   \n",
       "2         0.38          NaN          NaN     NaN     NaN       NaN        NaN   \n",
       "3         0.40          NaN          NaN     NaN     NaN       NaN        NaN   \n",
       "4         0.40          NaN          NaN     NaN     NaN       NaN        NaN   \n",
       "\n",
       "   next_event_id xt_value  \n",
       "0            NaN      NaN  \n",
       "1            NaN      NaN  \n",
       "2            NaN      NaN  \n",
       "3            NaN      NaN  \n",
       "4            NaN      NaN  \n",
       "\n",
       "[5 rows x 27 columns]"
      ]
     },
     "execution_count": 31,
     "metadata": {},
     "output_type": "execute_result"
    }
   ],
   "source": [
    "game_statistics.head(5)"
   ]
  },
  {
   "cell_type": "code",
   "execution_count": 32,
   "id": "d9ae5d83-6745-4dc7-a47a-89b9fb151797",
   "metadata": {},
   "outputs": [],
   "source": [
    "all_data = pd.merge(game_statistics, train_test, on=\"Game_ID\")"
   ]
  },
  {
   "cell_type": "code",
   "execution_count": 33,
   "id": "c88ba88d-7559-404b-8310-039901ef01d0",
   "metadata": {},
   "outputs": [
    {
     "data": {
      "text/plain": [
       "(2428101, 34)"
      ]
     },
     "execution_count": 33,
     "metadata": {},
     "output_type": "execute_result"
    }
   ],
   "source": [
    "all_data.shape"
   ]
  },
  {
   "cell_type": "code",
   "execution_count": 34,
   "id": "c04c68d7-a486-497b-ad28-6d82bfaa7ac9",
   "metadata": {},
   "outputs": [
    {
     "data": {
      "text/html": [
       "<div>\n",
       "<style scoped>\n",
       "    .dataframe tbody tr th:only-of-type {\n",
       "        vertical-align: middle;\n",
       "    }\n",
       "\n",
       "    .dataframe tbody tr th {\n",
       "        vertical-align: top;\n",
       "    }\n",
       "\n",
       "    .dataframe thead th {\n",
       "        text-align: right;\n",
       "    }\n",
       "</style>\n",
       "<table border=\"1\" class=\"dataframe\">\n",
       "  <thead>\n",
       "    <tr style=\"text-align: right;\">\n",
       "      <th></th>\n",
       "      <th>Game_ID</th>\n",
       "      <th>Player_ID</th>\n",
       "      <th>id</th>\n",
       "      <th>X</th>\n",
       "      <th>Y</th>\n",
       "      <th>Team</th>\n",
       "      <th>Action</th>\n",
       "      <th>Half</th>\n",
       "      <th>Manager</th>\n",
       "      <th>Opposition_Team</th>\n",
       "      <th>...</th>\n",
       "      <th>next_team</th>\n",
       "      <th>next_event_id</th>\n",
       "      <th>xt_value</th>\n",
       "      <th>Date</th>\n",
       "      <th>Season</th>\n",
       "      <th>Match_ID</th>\n",
       "      <th>Home Team</th>\n",
       "      <th>Away Team</th>\n",
       "      <th>Score</th>\n",
       "      <th>Train</th>\n",
       "    </tr>\n",
       "  </thead>\n",
       "  <tbody>\n",
       "    <tr>\n",
       "      <th>1785278</th>\n",
       "      <td>ID_A0EALXUP</td>\n",
       "      <td>Player_3JRB0GFG</td>\n",
       "      <td>1753.0</td>\n",
       "      <td>62.3</td>\n",
       "      <td>55.2</td>\n",
       "      <td>Medusa Merger</td>\n",
       "      <td>Inaccurate passes</td>\n",
       "      <td>2nd half</td>\n",
       "      <td>Akuma/Inuyasha</td>\n",
       "      <td>Sunflower</td>\n",
       "      <td>...</td>\n",
       "      <td>Sunflower</td>\n",
       "      <td>1037.0</td>\n",
       "      <td>0.0</td>\n",
       "      <td>2018-09-19</td>\n",
       "      <td>3</td>\n",
       "      <td>25.0</td>\n",
       "      <td>Medusa Merger</td>\n",
       "      <td>Sunflower</td>\n",
       "      <td>NaN</td>\n",
       "      <td>0</td>\n",
       "    </tr>\n",
       "    <tr>\n",
       "      <th>747486</th>\n",
       "      <td>ID_PMX7KBOK</td>\n",
       "      <td>Player_M6RKVH8G</td>\n",
       "      <td>2495.0</td>\n",
       "      <td>43.4</td>\n",
       "      <td>7.6</td>\n",
       "      <td>Medusa Merger</td>\n",
       "      <td>Positional attacks</td>\n",
       "      <td>2nd half</td>\n",
       "      <td>Levi</td>\n",
       "      <td>Cigar</td>\n",
       "      <td>...</td>\n",
       "      <td>NaN</td>\n",
       "      <td>NaN</td>\n",
       "      <td>NaN</td>\n",
       "      <td>2016-10-27</td>\n",
       "      <td>1</td>\n",
       "      <td>152.0</td>\n",
       "      <td>Medusa Merger</td>\n",
       "      <td>Cigar</td>\n",
       "      <td>Away win</td>\n",
       "      <td>1</td>\n",
       "    </tr>\n",
       "    <tr>\n",
       "      <th>1176713</th>\n",
       "      <td>ID_JMKNLEUZ</td>\n",
       "      <td>Player_LY73FGIV</td>\n",
       "      <td>2885.0</td>\n",
       "      <td>1.1</td>\n",
       "      <td>60.6</td>\n",
       "      <td>Cosmos Redshift 7</td>\n",
       "      <td>Challenges won</td>\n",
       "      <td>2nd half</td>\n",
       "      <td>Kouki</td>\n",
       "      <td>Cartwheel</td>\n",
       "      <td>...</td>\n",
       "      <td>NaN</td>\n",
       "      <td>NaN</td>\n",
       "      <td>NaN</td>\n",
       "      <td>2016-09-28</td>\n",
       "      <td>1</td>\n",
       "      <td>117.0</td>\n",
       "      <td>Cosmos Redshift 7</td>\n",
       "      <td>Cartwheel</td>\n",
       "      <td>Draw</td>\n",
       "      <td>1</td>\n",
       "    </tr>\n",
       "    <tr>\n",
       "      <th>1731272</th>\n",
       "      <td>ID_AOLHJTW3</td>\n",
       "      <td>Player_93SHHX3N</td>\n",
       "      <td>3075.0</td>\n",
       "      <td>95.3</td>\n",
       "      <td>14.1</td>\n",
       "      <td>Tadpole</td>\n",
       "      <td>Throw-in attacks</td>\n",
       "      <td>2nd half</td>\n",
       "      <td>Daiki</td>\n",
       "      <td>Fireworks</td>\n",
       "      <td>...</td>\n",
       "      <td>Tadpole</td>\n",
       "      <td>1758.0</td>\n",
       "      <td>0.0</td>\n",
       "      <td>2019-02-16</td>\n",
       "      <td>3</td>\n",
       "      <td>135.0</td>\n",
       "      <td>Fireworks</td>\n",
       "      <td>Tadpole</td>\n",
       "      <td>NaN</td>\n",
       "      <td>0</td>\n",
       "    </tr>\n",
       "    <tr>\n",
       "      <th>2285372</th>\n",
       "      <td>ID_1Y735BT9</td>\n",
       "      <td>Player_UMEMIWZL</td>\n",
       "      <td>2321.0</td>\n",
       "      <td>78.5</td>\n",
       "      <td>5.4</td>\n",
       "      <td>Andromeda</td>\n",
       "      <td>Positional attacks</td>\n",
       "      <td>2nd half</td>\n",
       "      <td>Ryoichi</td>\n",
       "      <td>Antennae</td>\n",
       "      <td>...</td>\n",
       "      <td>Andromeda</td>\n",
       "      <td>1337.0</td>\n",
       "      <td>0.0</td>\n",
       "      <td>2018-09-22</td>\n",
       "      <td>3</td>\n",
       "      <td>30.0</td>\n",
       "      <td>Andromeda</td>\n",
       "      <td>Antennae</td>\n",
       "      <td>NaN</td>\n",
       "      <td>0</td>\n",
       "    </tr>\n",
       "  </tbody>\n",
       "</table>\n",
       "<p>5 rows × 34 columns</p>\n",
       "</div>"
      ],
      "text/plain": [
       "             Game_ID        Player_ID      id     X     Y               Team  \\\n",
       "1785278  ID_A0EALXUP  Player_3JRB0GFG  1753.0  62.3  55.2      Medusa Merger   \n",
       "747486   ID_PMX7KBOK  Player_M6RKVH8G  2495.0  43.4   7.6      Medusa Merger   \n",
       "1176713  ID_JMKNLEUZ  Player_LY73FGIV  2885.0   1.1  60.6  Cosmos Redshift 7   \n",
       "1731272  ID_AOLHJTW3  Player_93SHHX3N  3075.0  95.3  14.1            Tadpole   \n",
       "2285372  ID_1Y735BT9  Player_UMEMIWZL  2321.0  78.5   5.4          Andromeda   \n",
       "\n",
       "                     Action      Half         Manager Opposition_Team  ...  \\\n",
       "1785278   Inaccurate passes  2nd half  Akuma/Inuyasha       Sunflower  ...   \n",
       "747486   Positional attacks  2nd half            Levi           Cigar  ...   \n",
       "1176713      Challenges won  2nd half           Kouki       Cartwheel  ...   \n",
       "1731272    Throw-in attacks  2nd half           Daiki       Fireworks  ...   \n",
       "2285372  Positional attacks  2nd half         Ryoichi        Antennae  ...   \n",
       "\n",
       "         next_team  next_event_id  xt_value        Date  Season  Match_ID  \\\n",
       "1785278  Sunflower         1037.0       0.0  2018-09-19       3      25.0   \n",
       "747486         NaN            NaN       NaN  2016-10-27       1     152.0   \n",
       "1176713        NaN            NaN       NaN  2016-09-28       1     117.0   \n",
       "1731272    Tadpole         1758.0       0.0  2019-02-16       3     135.0   \n",
       "2285372  Andromeda         1337.0       0.0  2018-09-22       3      30.0   \n",
       "\n",
       "                 Home Team  Away Team     Score Train  \n",
       "1785278      Medusa Merger  Sunflower       NaN     0  \n",
       "747486       Medusa Merger      Cigar  Away win     1  \n",
       "1176713  Cosmos Redshift 7  Cartwheel      Draw     1  \n",
       "1731272          Fireworks    Tadpole       NaN     0  \n",
       "2285372          Andromeda   Antennae       NaN     0  \n",
       "\n",
       "[5 rows x 34 columns]"
      ]
     },
     "execution_count": 34,
     "metadata": {},
     "output_type": "execute_result"
    }
   ],
   "source": [
    "all_data.sample(5)"
   ]
  },
  {
   "cell_type": "code",
   "execution_count": 35,
   "id": "74aa93df-cab5-445f-a076-1d3f6e2d7346",
   "metadata": {},
   "outputs": [
    {
     "name": "stdout",
     "output_type": "stream",
     "text": [
      "<class 'pandas.core.frame.DataFrame'>\n",
      "Int64Index: 2428101 entries, 0 to 2428100\n",
      "Data columns (total 34 columns):\n",
      " #   Column             Dtype  \n",
      "---  ------             -----  \n",
      " 0   Game_ID            object \n",
      " 1   Player_ID          object \n",
      " 2   id                 float64\n",
      " 3   X                  float64\n",
      " 4   Y                  float64\n",
      " 5   Team               object \n",
      " 6   Action             object \n",
      " 7   Half               object \n",
      " 8   Manager            object \n",
      " 9   Opposition_Team    object \n",
      " 10  Shots              float64\n",
      " 11  SoT                float64\n",
      " 12  Goals_scored       float64\n",
      " 13  Goals_conceded     float64\n",
      " 14  Accurate passes    float64\n",
      " 15  Inaccurate passes  float64\n",
      " 16  Passes             float64\n",
      " 17  Start_minutes      float64\n",
      " 18  End_minutes        float64\n",
      " 19  next_player        object \n",
      " 20  next_action        object \n",
      " 21  next_x             float64\n",
      " 22  next_y             float64\n",
      " 23  event_id           float64\n",
      " 24  next_team          object \n",
      " 25  next_event_id      float64\n",
      " 26  xt_value           float64\n",
      " 27  Date               object \n",
      " 28  Season             int64  \n",
      " 29  Match_ID           float64\n",
      " 30  Home Team          object \n",
      " 31  Away Team          object \n",
      " 32  Score              object \n",
      " 33  Train              int64  \n",
      "dtypes: float64(18), int64(2), object(14)\n",
      "memory usage: 648.4+ MB\n"
     ]
    }
   ],
   "source": [
    "all_data.info()"
   ]
  },
  {
   "cell_type": "code",
   "execution_count": 36,
   "id": "f8d9cb4b-ad3a-4fba-9cc6-198da73de459",
   "metadata": {},
   "outputs": [],
   "source": [
    "# msn.matrix(all_data)"
   ]
  },
  {
   "cell_type": "code",
   "execution_count": 37,
   "id": "3f12d9b7-a5f9-4a4c-8755-d1d630e82653",
   "metadata": {},
   "outputs": [
    {
     "data": {
      "text/plain": [
       "Game_ID              0.000000\n",
       "Player_ID            0.000000\n",
       "id                   0.000000\n",
       "X                    0.000000\n",
       "Y                    0.000000\n",
       "Team                 0.000000\n",
       "Action               0.000004\n",
       "Half                 0.000005\n",
       "Manager              0.002307\n",
       "Opposition_Team      0.000000\n",
       "Shots                0.000038\n",
       "SoT                  0.000038\n",
       "Goals_scored         0.000038\n",
       "Goals_conceded       0.000038\n",
       "Accurate passes      0.000038\n",
       "Inaccurate passes    0.000038\n",
       "Passes               0.000038\n",
       "Start_minutes        0.000004\n",
       "End_minutes          0.000000\n",
       "next_player          0.672909\n",
       "next_action          0.672909\n",
       "next_x               0.672909\n",
       "next_y               0.672909\n",
       "event_id             0.672820\n",
       "next_team            0.672907\n",
       "next_event_id        0.672909\n",
       "xt_value             0.672820\n",
       "Date                 0.000000\n",
       "Season               0.000000\n",
       "Match_ID             0.000000\n",
       "Home Team            0.000000\n",
       "Away Team            0.000000\n",
       "Score                0.330340\n",
       "Train                0.000000\n",
       "dtype: float64"
      ]
     },
     "execution_count": 37,
     "metadata": {},
     "output_type": "execute_result"
    }
   ],
   "source": [
    "all_data.isnull().sum() / len(all_data) "
   ]
  },
  {
   "cell_type": "code",
   "execution_count": 38,
   "id": "fd0e85b0-1281-45bf-a463-145a95d3ef59",
   "metadata": {},
   "outputs": [],
   "source": [
    "train = all_data.loc[all_data[\"Train\"] == 1].copy()\n",
    "test = all_data.loc[all_data[\"Train\"] == 0].copy()"
   ]
  },
  {
   "cell_type": "code",
   "execution_count": 39,
   "id": "4fdc62bd-febe-4a7b-892f-31b3653463f6",
   "metadata": {},
   "outputs": [
    {
     "data": {
      "text/html": [
       "<div>\n",
       "<style scoped>\n",
       "    .dataframe tbody tr th:only-of-type {\n",
       "        vertical-align: middle;\n",
       "    }\n",
       "\n",
       "    .dataframe tbody tr th {\n",
       "        vertical-align: top;\n",
       "    }\n",
       "\n",
       "    .dataframe thead th {\n",
       "        text-align: right;\n",
       "    }\n",
       "</style>\n",
       "<table border=\"1\" class=\"dataframe\">\n",
       "  <thead>\n",
       "    <tr style=\"text-align: right;\">\n",
       "      <th></th>\n",
       "      <th>Game_ID</th>\n",
       "      <th>Player_ID</th>\n",
       "      <th>id</th>\n",
       "      <th>X</th>\n",
       "      <th>Y</th>\n",
       "      <th>Team</th>\n",
       "      <th>Action</th>\n",
       "      <th>Half</th>\n",
       "      <th>Manager</th>\n",
       "      <th>Opposition_Team</th>\n",
       "      <th>...</th>\n",
       "      <th>next_team</th>\n",
       "      <th>next_event_id</th>\n",
       "      <th>xt_value</th>\n",
       "      <th>Date</th>\n",
       "      <th>Season</th>\n",
       "      <th>Match_ID</th>\n",
       "      <th>Home Team</th>\n",
       "      <th>Away Team</th>\n",
       "      <th>Score</th>\n",
       "      <th>Train</th>\n",
       "    </tr>\n",
       "  </thead>\n",
       "  <tbody>\n",
       "    <tr>\n",
       "      <th>0</th>\n",
       "      <td>ID_ZZKYYPVY</td>\n",
       "      <td>Player_O7HO1NOB</td>\n",
       "      <td>1.0</td>\n",
       "      <td>52.5</td>\n",
       "      <td>34.0</td>\n",
       "      <td>Circinus</td>\n",
       "      <td>Accurate passes</td>\n",
       "      <td>1st half</td>\n",
       "      <td>Ryoichi</td>\n",
       "      <td>Backward</td>\n",
       "      <td>...</td>\n",
       "      <td>NaN</td>\n",
       "      <td>NaN</td>\n",
       "      <td>NaN</td>\n",
       "      <td>2017-12-06</td>\n",
       "      <td>2</td>\n",
       "      <td>39.0</td>\n",
       "      <td>Backward</td>\n",
       "      <td>Circinus</td>\n",
       "      <td>Home Win</td>\n",
       "      <td>1</td>\n",
       "    </tr>\n",
       "    <tr>\n",
       "      <th>1</th>\n",
       "      <td>ID_ZZKYYPVY</td>\n",
       "      <td>Player_O7HO1NOB</td>\n",
       "      <td>2.0</td>\n",
       "      <td>52.5</td>\n",
       "      <td>34.0</td>\n",
       "      <td>Circinus</td>\n",
       "      <td>Positional attacks</td>\n",
       "      <td>1st half</td>\n",
       "      <td>Ryoichi</td>\n",
       "      <td>Backward</td>\n",
       "      <td>...</td>\n",
       "      <td>NaN</td>\n",
       "      <td>NaN</td>\n",
       "      <td>NaN</td>\n",
       "      <td>2017-12-06</td>\n",
       "      <td>2</td>\n",
       "      <td>39.0</td>\n",
       "      <td>Backward</td>\n",
       "      <td>Circinus</td>\n",
       "      <td>Home Win</td>\n",
       "      <td>1</td>\n",
       "    </tr>\n",
       "    <tr>\n",
       "      <th>2</th>\n",
       "      <td>ID_ZZKYYPVY</td>\n",
       "      <td>Player_J0V7B0YE</td>\n",
       "      <td>3.0</td>\n",
       "      <td>37.0</td>\n",
       "      <td>32.7</td>\n",
       "      <td>Circinus</td>\n",
       "      <td>Positional attacks</td>\n",
       "      <td>1st half</td>\n",
       "      <td>Ryoichi</td>\n",
       "      <td>Backward</td>\n",
       "      <td>...</td>\n",
       "      <td>NaN</td>\n",
       "      <td>NaN</td>\n",
       "      <td>NaN</td>\n",
       "      <td>2017-12-06</td>\n",
       "      <td>2</td>\n",
       "      <td>39.0</td>\n",
       "      <td>Backward</td>\n",
       "      <td>Circinus</td>\n",
       "      <td>Home Win</td>\n",
       "      <td>1</td>\n",
       "    </tr>\n",
       "    <tr>\n",
       "      <th>3</th>\n",
       "      <td>ID_ZZKYYPVY</td>\n",
       "      <td>Player_J0V7B0YE</td>\n",
       "      <td>4.0</td>\n",
       "      <td>39.5</td>\n",
       "      <td>33.0</td>\n",
       "      <td>Circinus</td>\n",
       "      <td>Positional attacks</td>\n",
       "      <td>1st half</td>\n",
       "      <td>Ryoichi</td>\n",
       "      <td>Backward</td>\n",
       "      <td>...</td>\n",
       "      <td>NaN</td>\n",
       "      <td>NaN</td>\n",
       "      <td>NaN</td>\n",
       "      <td>2017-12-06</td>\n",
       "      <td>2</td>\n",
       "      <td>39.0</td>\n",
       "      <td>Backward</td>\n",
       "      <td>Circinus</td>\n",
       "      <td>Home Win</td>\n",
       "      <td>1</td>\n",
       "    </tr>\n",
       "    <tr>\n",
       "      <th>4</th>\n",
       "      <td>ID_ZZKYYPVY</td>\n",
       "      <td>Player_J0V7B0YE</td>\n",
       "      <td>5.0</td>\n",
       "      <td>39.5</td>\n",
       "      <td>33.0</td>\n",
       "      <td>Circinus</td>\n",
       "      <td>Inaccurate passes</td>\n",
       "      <td>1st half</td>\n",
       "      <td>Ryoichi</td>\n",
       "      <td>Backward</td>\n",
       "      <td>...</td>\n",
       "      <td>NaN</td>\n",
       "      <td>NaN</td>\n",
       "      <td>NaN</td>\n",
       "      <td>2017-12-06</td>\n",
       "      <td>2</td>\n",
       "      <td>39.0</td>\n",
       "      <td>Backward</td>\n",
       "      <td>Circinus</td>\n",
       "      <td>Home Win</td>\n",
       "      <td>1</td>\n",
       "    </tr>\n",
       "  </tbody>\n",
       "</table>\n",
       "<p>5 rows × 34 columns</p>\n",
       "</div>"
      ],
      "text/plain": [
       "       Game_ID        Player_ID   id     X     Y      Team  \\\n",
       "0  ID_ZZKYYPVY  Player_O7HO1NOB  1.0  52.5  34.0  Circinus   \n",
       "1  ID_ZZKYYPVY  Player_O7HO1NOB  2.0  52.5  34.0  Circinus   \n",
       "2  ID_ZZKYYPVY  Player_J0V7B0YE  3.0  37.0  32.7  Circinus   \n",
       "3  ID_ZZKYYPVY  Player_J0V7B0YE  4.0  39.5  33.0  Circinus   \n",
       "4  ID_ZZKYYPVY  Player_J0V7B0YE  5.0  39.5  33.0  Circinus   \n",
       "\n",
       "               Action      Half  Manager Opposition_Team  ...  next_team  \\\n",
       "0     Accurate passes  1st half  Ryoichi        Backward  ...        NaN   \n",
       "1  Positional attacks  1st half  Ryoichi        Backward  ...        NaN   \n",
       "2  Positional attacks  1st half  Ryoichi        Backward  ...        NaN   \n",
       "3  Positional attacks  1st half  Ryoichi        Backward  ...        NaN   \n",
       "4   Inaccurate passes  1st half  Ryoichi        Backward  ...        NaN   \n",
       "\n",
       "   next_event_id  xt_value        Date  Season  Match_ID  Home Team  \\\n",
       "0            NaN       NaN  2017-12-06       2      39.0   Backward   \n",
       "1            NaN       NaN  2017-12-06       2      39.0   Backward   \n",
       "2            NaN       NaN  2017-12-06       2      39.0   Backward   \n",
       "3            NaN       NaN  2017-12-06       2      39.0   Backward   \n",
       "4            NaN       NaN  2017-12-06       2      39.0   Backward   \n",
       "\n",
       "   Away Team     Score Train  \n",
       "0   Circinus  Home Win     1  \n",
       "1   Circinus  Home Win     1  \n",
       "2   Circinus  Home Win     1  \n",
       "3   Circinus  Home Win     1  \n",
       "4   Circinus  Home Win     1  \n",
       "\n",
       "[5 rows x 34 columns]"
      ]
     },
     "execution_count": 39,
     "metadata": {},
     "output_type": "execute_result"
    }
   ],
   "source": [
    "train.head()"
   ]
  },
  {
   "cell_type": "code",
   "execution_count": 40,
   "id": "f3d0568d-b0f8-47a0-9996-2fa3a4f5e982",
   "metadata": {},
   "outputs": [
    {
     "data": {
      "text/html": [
       "<div>\n",
       "<style scoped>\n",
       "    .dataframe tbody tr th:only-of-type {\n",
       "        vertical-align: middle;\n",
       "    }\n",
       "\n",
       "    .dataframe tbody tr th {\n",
       "        vertical-align: top;\n",
       "    }\n",
       "\n",
       "    .dataframe thead th {\n",
       "        text-align: right;\n",
       "    }\n",
       "</style>\n",
       "<table border=\"1\" class=\"dataframe\">\n",
       "  <thead>\n",
       "    <tr style=\"text-align: right;\">\n",
       "      <th></th>\n",
       "      <th>Game_ID</th>\n",
       "      <th>Player_ID</th>\n",
       "      <th>id</th>\n",
       "      <th>X</th>\n",
       "      <th>Y</th>\n",
       "      <th>Team</th>\n",
       "      <th>Action</th>\n",
       "      <th>Half</th>\n",
       "      <th>Manager</th>\n",
       "      <th>Opposition_Team</th>\n",
       "      <th>...</th>\n",
       "      <th>next_team</th>\n",
       "      <th>next_event_id</th>\n",
       "      <th>xt_value</th>\n",
       "      <th>Date</th>\n",
       "      <th>Season</th>\n",
       "      <th>Match_ID</th>\n",
       "      <th>Home Team</th>\n",
       "      <th>Away Team</th>\n",
       "      <th>Score</th>\n",
       "      <th>Train</th>\n",
       "    </tr>\n",
       "  </thead>\n",
       "  <tbody>\n",
       "    <tr>\n",
       "      <th>19031</th>\n",
       "      <td>ID_ZUPS2JD2</td>\n",
       "      <td>Player_5CBBVY85</td>\n",
       "      <td>1.0</td>\n",
       "      <td>52.5</td>\n",
       "      <td>34.0</td>\n",
       "      <td>Milky Way</td>\n",
       "      <td>Accurate passes</td>\n",
       "      <td>1st half</td>\n",
       "      <td>Masashi</td>\n",
       "      <td>Sunflower</td>\n",
       "      <td>...</td>\n",
       "      <td>Milky Way</td>\n",
       "      <td>1.0</td>\n",
       "      <td>-0.002220</td>\n",
       "      <td>2019-03-19</td>\n",
       "      <td>3</td>\n",
       "      <td>158.0</td>\n",
       "      <td>Sunflower</td>\n",
       "      <td>Milky Way</td>\n",
       "      <td>NaN</td>\n",
       "      <td>0</td>\n",
       "    </tr>\n",
       "    <tr>\n",
       "      <th>19032</th>\n",
       "      <td>ID_ZUPS2JD2</td>\n",
       "      <td>Player_5CBBVY85</td>\n",
       "      <td>2.0</td>\n",
       "      <td>52.5</td>\n",
       "      <td>34.0</td>\n",
       "      <td>Milky Way</td>\n",
       "      <td>Positional attacks</td>\n",
       "      <td>1st half</td>\n",
       "      <td>Masashi</td>\n",
       "      <td>Sunflower</td>\n",
       "      <td>...</td>\n",
       "      <td>Milky Way</td>\n",
       "      <td>0.0</td>\n",
       "      <td>0.000000</td>\n",
       "      <td>2019-03-19</td>\n",
       "      <td>3</td>\n",
       "      <td>158.0</td>\n",
       "      <td>Sunflower</td>\n",
       "      <td>Milky Way</td>\n",
       "      <td>NaN</td>\n",
       "      <td>0</td>\n",
       "    </tr>\n",
       "    <tr>\n",
       "      <th>19033</th>\n",
       "      <td>ID_ZUPS2JD2</td>\n",
       "      <td>Player_INTSA2WQ</td>\n",
       "      <td>3.0</td>\n",
       "      <td>37.5</td>\n",
       "      <td>30.9</td>\n",
       "      <td>Milky Way</td>\n",
       "      <td>Positional attacks</td>\n",
       "      <td>1st half</td>\n",
       "      <td>Masashi</td>\n",
       "      <td>Sunflower</td>\n",
       "      <td>...</td>\n",
       "      <td>Milky Way</td>\n",
       "      <td>1.0</td>\n",
       "      <td>0.000000</td>\n",
       "      <td>2019-03-19</td>\n",
       "      <td>3</td>\n",
       "      <td>158.0</td>\n",
       "      <td>Sunflower</td>\n",
       "      <td>Milky Way</td>\n",
       "      <td>NaN</td>\n",
       "      <td>0</td>\n",
       "    </tr>\n",
       "    <tr>\n",
       "      <th>19034</th>\n",
       "      <td>ID_ZUPS2JD2</td>\n",
       "      <td>Player_INTSA2WQ</td>\n",
       "      <td>4.0</td>\n",
       "      <td>37.5</td>\n",
       "      <td>30.9</td>\n",
       "      <td>Milky Way</td>\n",
       "      <td>Accurate passes</td>\n",
       "      <td>1st half</td>\n",
       "      <td>Masashi</td>\n",
       "      <td>Sunflower</td>\n",
       "      <td>...</td>\n",
       "      <td>Sunflower</td>\n",
       "      <td>2.0</td>\n",
       "      <td>0.016906</td>\n",
       "      <td>2019-03-19</td>\n",
       "      <td>3</td>\n",
       "      <td>158.0</td>\n",
       "      <td>Sunflower</td>\n",
       "      <td>Milky Way</td>\n",
       "      <td>NaN</td>\n",
       "      <td>0</td>\n",
       "    </tr>\n",
       "    <tr>\n",
       "      <th>19035</th>\n",
       "      <td>ID_ZUPS2JD2</td>\n",
       "      <td>Player_1AJ0QRLU</td>\n",
       "      <td>5.0</td>\n",
       "      <td>26.0</td>\n",
       "      <td>10.8</td>\n",
       "      <td>Sunflower</td>\n",
       "      <td>Positional attacks</td>\n",
       "      <td>1st half</td>\n",
       "      <td>Frodo</td>\n",
       "      <td>Milky Way</td>\n",
       "      <td>...</td>\n",
       "      <td>Milky Way</td>\n",
       "      <td>3.0</td>\n",
       "      <td>0.000000</td>\n",
       "      <td>2019-03-19</td>\n",
       "      <td>3</td>\n",
       "      <td>158.0</td>\n",
       "      <td>Sunflower</td>\n",
       "      <td>Milky Way</td>\n",
       "      <td>NaN</td>\n",
       "      <td>0</td>\n",
       "    </tr>\n",
       "  </tbody>\n",
       "</table>\n",
       "<p>5 rows × 34 columns</p>\n",
       "</div>"
      ],
      "text/plain": [
       "           Game_ID        Player_ID   id     X     Y       Team  \\\n",
       "19031  ID_ZUPS2JD2  Player_5CBBVY85  1.0  52.5  34.0  Milky Way   \n",
       "19032  ID_ZUPS2JD2  Player_5CBBVY85  2.0  52.5  34.0  Milky Way   \n",
       "19033  ID_ZUPS2JD2  Player_INTSA2WQ  3.0  37.5  30.9  Milky Way   \n",
       "19034  ID_ZUPS2JD2  Player_INTSA2WQ  4.0  37.5  30.9  Milky Way   \n",
       "19035  ID_ZUPS2JD2  Player_1AJ0QRLU  5.0  26.0  10.8  Sunflower   \n",
       "\n",
       "                   Action      Half  Manager Opposition_Team  ...  next_team  \\\n",
       "19031     Accurate passes  1st half  Masashi       Sunflower  ...  Milky Way   \n",
       "19032  Positional attacks  1st half  Masashi       Sunflower  ...  Milky Way   \n",
       "19033  Positional attacks  1st half  Masashi       Sunflower  ...  Milky Way   \n",
       "19034     Accurate passes  1st half  Masashi       Sunflower  ...  Sunflower   \n",
       "19035  Positional attacks  1st half    Frodo       Milky Way  ...  Milky Way   \n",
       "\n",
       "       next_event_id  xt_value        Date  Season  Match_ID  Home Team  \\\n",
       "19031            1.0 -0.002220  2019-03-19       3     158.0  Sunflower   \n",
       "19032            0.0  0.000000  2019-03-19       3     158.0  Sunflower   \n",
       "19033            1.0  0.000000  2019-03-19       3     158.0  Sunflower   \n",
       "19034            2.0  0.016906  2019-03-19       3     158.0  Sunflower   \n",
       "19035            3.0  0.000000  2019-03-19       3     158.0  Sunflower   \n",
       "\n",
       "       Away Team  Score Train  \n",
       "19031  Milky Way    NaN     0  \n",
       "19032  Milky Way    NaN     0  \n",
       "19033  Milky Way    NaN     0  \n",
       "19034  Milky Way    NaN     0  \n",
       "19035  Milky Way    NaN     0  \n",
       "\n",
       "[5 rows x 34 columns]"
      ]
     },
     "execution_count": 40,
     "metadata": {},
     "output_type": "execute_result"
    }
   ],
   "source": [
    "test.head()"
   ]
  },
  {
   "cell_type": "code",
   "execution_count": null,
   "id": "a372221a-561b-47e2-ae50-fae6b8a12bc4",
   "metadata": {},
   "outputs": [],
   "source": []
  },
  {
   "cell_type": "markdown",
   "id": "393f9f22-c546-4ba4-bcfb-3fc1bfeacf99",
   "metadata": {},
   "source": [
    "### Handling missing value"
   ]
  },
  {
   "cell_type": "code",
   "execution_count": 41,
   "id": "00f5a59f-5227-4685-9508-6a450d278bad",
   "metadata": {},
   "outputs": [],
   "source": [
    "## Droping columns having very large no of missing values\n",
    "train.drop([\"next_player\", \"next_action\", \"next_x\", \"next_y\", \"event_id\", \"next_team\", \"next_event_id\", \"xt_value\", \"Train\"], axis=1, inplace=True)\n",
    "test.drop([\"next_player\", \"next_action\", \"next_x\", \"next_y\", \"event_id\", \"next_team\", \"next_event_id\", \"xt_value\", \"Train\", \"Score\"], axis=1, inplace=True)"
   ]
  },
  {
   "cell_type": "code",
   "execution_count": 42,
   "id": "416676c4-e9b3-49c1-a136-7745aa475e72",
   "metadata": {},
   "outputs": [
    {
     "data": {
      "text/plain": [
       "Game_ID              0\n",
       "Player_ID            0\n",
       "id                   0\n",
       "X                    0\n",
       "Y                    0\n",
       "Team                 0\n",
       "Action               0\n",
       "Half                 0\n",
       "Manager              0\n",
       "Opposition_Team      0\n",
       "Shots                0\n",
       "SoT                  0\n",
       "Goals_scored         0\n",
       "Goals_conceded       0\n",
       "Accurate passes      0\n",
       "Inaccurate passes    0\n",
       "Passes               0\n",
       "Start_minutes        0\n",
       "End_minutes          0\n",
       "Date                 0\n",
       "Season               0\n",
       "Match_ID             0\n",
       "Home Team            0\n",
       "Away Team            0\n",
       "Score                0\n",
       "dtype: int64"
      ]
     },
     "execution_count": 42,
     "metadata": {},
     "output_type": "execute_result"
    }
   ],
   "source": [
    "train.isnull().sum()"
   ]
  },
  {
   "cell_type": "code",
   "execution_count": 43,
   "id": "d3b6fd31-0f77-46f1-99e0-35c4c61abc8c",
   "metadata": {},
   "outputs": [
    {
     "data": {
      "text/plain": [
       "Game_ID                 0\n",
       "Player_ID               0\n",
       "id                      0\n",
       "X                       0\n",
       "Y                       0\n",
       "Team                    0\n",
       "Action                 10\n",
       "Half                   11\n",
       "Manager              5602\n",
       "Opposition_Team         0\n",
       "Shots                  92\n",
       "SoT                    92\n",
       "Goals_scored           92\n",
       "Goals_conceded         92\n",
       "Accurate passes        92\n",
       "Inaccurate passes      92\n",
       "Passes                 92\n",
       "Start_minutes          10\n",
       "End_minutes             0\n",
       "Date                    0\n",
       "Season                  0\n",
       "Match_ID                0\n",
       "Home Team               0\n",
       "Away Team               0\n",
       "dtype: int64"
      ]
     },
     "execution_count": 43,
     "metadata": {},
     "output_type": "execute_result"
    }
   ],
   "source": [
    "test.isnull().sum()"
   ]
  },
  {
   "cell_type": "code",
   "execution_count": 44,
   "id": "371dde91-455c-4e17-991f-9832cd70787a",
   "metadata": {},
   "outputs": [
    {
     "data": {
      "text/plain": [
       "46.78"
      ]
     },
     "execution_count": 44,
     "metadata": {},
     "output_type": "execute_result"
    }
   ],
   "source": [
    "test[\"Start_minutes\"].median()"
   ]
  },
  {
   "cell_type": "code",
   "execution_count": 45,
   "id": "52fe5fdf-5376-4264-8b45-5a4623f13cce",
   "metadata": {},
   "outputs": [],
   "source": [
    "# Filling nan values in categorical with mode\n",
    "test[\"Action\"].fillna(test[\"Action\"].mode()[0], inplace=True)\n",
    "test[\"Half\"].fillna(test[\"Half\"].mode()[0], inplace=True)\n",
    "test[\"Manager\"].fillna(test[\"Manager\"].mode()[0], inplace=True)\n",
    "\n",
    "# Filling nan values with median\n",
    "test[\"Shots\"].fillna(test[\"Shots\"].median(), inplace=True)\n",
    "test[\"SoT\"].fillna(test[\"SoT\"].median(), inplace=True)\n",
    "test[\"Goals_scored\"].fillna(test[\"Goals_scored\"].median(), inplace=True)\n",
    "test[\"Goals_conceded\"].fillna(test[\"Goals_conceded\"].median(), inplace=True)\n",
    "test[\"Accurate passes\"].fillna(test[\"Accurate passes\"].median(), inplace=True)\n",
    "test[\"Inaccurate passes\"].fillna(test[\"Inaccurate passes\"].median(), inplace=True)\n",
    "test[\"Passes\"].fillna(test[\"Passes\"].median(), inplace=True)\n",
    "test[\"Start_minutes\"].fillna(test[\"Start_minutes\"].median(), inplace=True)"
   ]
  },
  {
   "cell_type": "code",
   "execution_count": 46,
   "id": "96f50b2d-2d5f-4f7e-9249-23fb351e51f8",
   "metadata": {},
   "outputs": [
    {
     "data": {
      "text/plain": [
       "Game_ID              0\n",
       "Player_ID            0\n",
       "id                   0\n",
       "X                    0\n",
       "Y                    0\n",
       "Team                 0\n",
       "Action               0\n",
       "Half                 0\n",
       "Manager              0\n",
       "Opposition_Team      0\n",
       "Shots                0\n",
       "SoT                  0\n",
       "Goals_scored         0\n",
       "Goals_conceded       0\n",
       "Accurate passes      0\n",
       "Inaccurate passes    0\n",
       "Passes               0\n",
       "Start_minutes        0\n",
       "End_minutes          0\n",
       "Date                 0\n",
       "Season               0\n",
       "Match_ID             0\n",
       "Home Team            0\n",
       "Away Team            0\n",
       "dtype: int64"
      ]
     },
     "execution_count": 46,
     "metadata": {},
     "output_type": "execute_result"
    }
   ],
   "source": [
    "# Dropping columns having very few missing values\n",
    "test.isnull().sum()"
   ]
  },
  {
   "cell_type": "markdown",
   "id": "9a786905-6009-47d7-a9b2-d4919b464e51",
   "metadata": {},
   "source": [
    "## Features Engineering"
   ]
  },
  {
   "cell_type": "code",
   "execution_count": 47,
   "id": "3af40583-170e-4f7e-9596-669156b43de5",
   "metadata": {},
   "outputs": [
    {
     "data": {
      "text/plain": [
       "Index(['Game_ID', 'Player_ID', 'id', 'X', 'Y', 'Team', 'Action', 'Half',\n",
       "       'Manager', 'Opposition_Team', 'Shots', 'SoT', 'Goals_scored',\n",
       "       'Goals_conceded', 'Accurate passes', 'Inaccurate passes', 'Passes',\n",
       "       'Start_minutes', 'End_minutes', 'Date', 'Season', 'Match_ID',\n",
       "       'Home Team', 'Away Team', 'Score'],\n",
       "      dtype='object')"
      ]
     },
     "execution_count": 47,
     "metadata": {},
     "output_type": "execute_result"
    }
   ],
   "source": [
    "train.columns"
   ]
  },
  {
   "cell_type": "code",
   "execution_count": 48,
   "id": "4f2de329-67e1-4de1-9389-37482ce24ab6",
   "metadata": {},
   "outputs": [
    {
     "data": {
      "text/plain": [
       "Index(['Game_ID', 'Player_ID', 'id', 'X', 'Y', 'Team', 'Action', 'Half',\n",
       "       'Manager', 'Opposition_Team', 'Shots', 'SoT', 'Goals_scored',\n",
       "       'Goals_conceded', 'Accurate passes', 'Inaccurate passes', 'Passes',\n",
       "       'Start_minutes', 'End_minutes', 'Date', 'Season', 'Match_ID',\n",
       "       'Home Team', 'Away Team'],\n",
       "      dtype='object')"
      ]
     },
     "execution_count": 48,
     "metadata": {},
     "output_type": "execute_result"
    }
   ],
   "source": [
    "test.columns"
   ]
  },
  {
   "cell_type": "code",
   "execution_count": 49,
   "id": "2e4744c6-602c-453b-a29d-f73cdc513d39",
   "metadata": {},
   "outputs": [],
   "source": [
    "# Converting Date column datatye to datetime \n",
    "train[\"Date\"] = pd.to_datetime(train[\"Date\"])\n",
    "test[\"Date\"] = pd.to_datetime(test[\"Date\"])"
   ]
  },
  {
   "cell_type": "code",
   "execution_count": 50,
   "id": "6c931c01-a83b-4710-a39b-3cc198ef7bd8",
   "metadata": {},
   "outputs": [],
   "source": [
    "# Extracting day, month and year from date column\n",
    "train[\"Year\"] = train[\"Date\"].dt.year\n",
    "train[\"Month\"] = train[\"Date\"].dt.month\n",
    "train[\"Day\"] = train[\"Date\"].dt.day\n",
    "train.drop(\"Date\", axis=1, inplace=True)\n",
    "\n",
    "\n",
    "test[\"Year\"] = test[\"Date\"].dt.year\n",
    "test[\"Month\"] = test[\"Date\"].dt.month\n",
    "test[\"Day\"] = test[\"Date\"].dt.day\n",
    "test.drop(\"Date\", axis=1, inplace=True)"
   ]
  },
  {
   "cell_type": "code",
   "execution_count": 51,
   "id": "1397d9c5-f087-4638-943f-9afebbd110a5",
   "metadata": {},
   "outputs": [],
   "source": [
    "# Creating new feature \"Total_shots\"\n",
    "train[\"Total_Shots\"] = train[\"Shots\"] + train[\"SoT\"]\n",
    "test[\"Total_Shots\"] = test[\"Shots\"] + test[\"SoT\"]"
   ]
  },
  {
   "cell_type": "code",
   "execution_count": 52,
   "id": "2fac9e7a-87ad-4852-bd61-9ffa793e11ad",
   "metadata": {},
   "outputs": [],
   "source": [
    "# # Creating new feature \"Total_min_played\"\n",
    "train[\"Total_min_played\"] = train[\"End_minutes\"] - train[\"Start_minutes\"]\n",
    "test[\"Total_min_played\"] = test[\"End_minutes\"] - test[\"Start_minutes\"]"
   ]
  },
  {
   "cell_type": "code",
   "execution_count": 53,
   "id": "c061e74e-a204-4c08-bcc8-4bc7ae51287d",
   "metadata": {},
   "outputs": [],
   "source": [
    "# Creating new feature \"Total_goals\"\n",
    "train[\"Total_goals\"] = train[\"Goals_scored\"] + train[\"Goals_conceded\"]\n",
    "test[\"Total_goals\"] = test[\"Goals_scored\"] + test[\"Goals_conceded\"]"
   ]
  },
  {
   "cell_type": "code",
   "execution_count": 54,
   "id": "b413034a-5eaa-4fb6-babc-73b0f8d39908",
   "metadata": {},
   "outputs": [],
   "source": [
    "# Creating new feature distance covered by baal from X to Y\n",
    "train[\"Dist_X_Y\"] = np.abs(train[\"Y\"] - train[\"X\"])\n",
    "test[\"Dist_X_Y\"] = np.abs(test[\"Y\"] - test[\"X\"])"
   ]
  },
  {
   "cell_type": "code",
   "execution_count": 55,
   "id": "32085c4f-04de-43d1-ba33-06b550b95774",
   "metadata": {
    "tags": []
   },
   "outputs": [],
   "source": [
    "# Extracting which half played from th \"Half\" column\n",
    "# train[\"Half\"] = train[\"Half\"].str.extract(r'([12])').astype(\"int64\")\n",
    "# test[\"Half\"] = test[\"Half\"].str.extract(r'([12])').astype(\"int64\")"
   ]
  },
  {
   "cell_type": "code",
   "execution_count": 56,
   "id": "2379f2a6-f518-4bdd-952b-e0521cb3abd1",
   "metadata": {},
   "outputs": [],
   "source": [
    "train[\"Half\"] = LabelEncoder().fit_transform(train[\"Half\"])\n",
    "test[\"Half\"] = LabelEncoder().fit_transform(test[\"Half\"])"
   ]
  },
  {
   "cell_type": "code",
   "execution_count": 57,
   "id": "0143d540-d46a-418a-8332-f569b37f66de",
   "metadata": {},
   "outputs": [
    {
     "data": {
      "text/plain": [
       "Index(['Game_ID', 'Player_ID', 'id', 'X', 'Y', 'Team', 'Action', 'Half',\n",
       "       'Manager', 'Opposition_Team', 'Shots', 'SoT', 'Goals_scored',\n",
       "       'Goals_conceded', 'Accurate passes', 'Inaccurate passes', 'Passes',\n",
       "       'Start_minutes', 'End_minutes', 'Season', 'Match_ID', 'Home Team',\n",
       "       'Away Team', 'Score', 'Year', 'Month', 'Day', 'Total_Shots',\n",
       "       'Total_min_played', 'Total_goals', 'Dist_X_Y'],\n",
       "      dtype='object')"
      ]
     },
     "execution_count": 57,
     "metadata": {},
     "output_type": "execute_result"
    }
   ],
   "source": [
    "train.columns"
   ]
  },
  {
   "cell_type": "code",
   "execution_count": 58,
   "id": "e21c28c8-60fb-4428-a25e-f6da2c6e0ab3",
   "metadata": {},
   "outputs": [
    {
     "data": {
      "text/plain": [
       "Index(['Game_ID', 'Player_ID', 'id', 'X', 'Y', 'Team', 'Action', 'Half',\n",
       "       'Manager', 'Opposition_Team', 'Shots', 'SoT', 'Goals_scored',\n",
       "       'Goals_conceded', 'Accurate passes', 'Inaccurate passes', 'Passes',\n",
       "       'Start_minutes', 'End_minutes', 'Season', 'Match_ID', 'Home Team',\n",
       "       'Away Team', 'Year', 'Month', 'Day', 'Total_Shots', 'Total_min_played',\n",
       "       'Total_goals', 'Dist_X_Y'],\n",
       "      dtype='object')"
      ]
     },
     "execution_count": 58,
     "metadata": {},
     "output_type": "execute_result"
    }
   ],
   "source": [
    "test.columns"
   ]
  },
  {
   "cell_type": "code",
   "execution_count": 59,
   "id": "9a815ae9-28c3-4e61-9132-003d4ce5c074",
   "metadata": {},
   "outputs": [
    {
     "data": {
      "text/plain": [
       "Game_ID              0\n",
       "Player_ID            0\n",
       "id                   0\n",
       "X                    0\n",
       "Y                    0\n",
       "Team                 0\n",
       "Action               0\n",
       "Half                 0\n",
       "Manager              0\n",
       "Opposition_Team      0\n",
       "Shots                0\n",
       "SoT                  0\n",
       "Goals_scored         0\n",
       "Goals_conceded       0\n",
       "Accurate passes      0\n",
       "Inaccurate passes    0\n",
       "Passes               0\n",
       "Start_minutes        0\n",
       "End_minutes          0\n",
       "Season               0\n",
       "Match_ID             0\n",
       "Home Team            0\n",
       "Away Team            0\n",
       "Year                 0\n",
       "Month                0\n",
       "Day                  0\n",
       "Total_Shots          0\n",
       "Total_min_played     0\n",
       "Total_goals          0\n",
       "Dist_X_Y             0\n",
       "dtype: int64"
      ]
     },
     "execution_count": 59,
     "metadata": {},
     "output_type": "execute_result"
    }
   ],
   "source": [
    "test.isnull().sum()"
   ]
  },
  {
   "cell_type": "markdown",
   "id": "9ec660aa-e429-4d58-8c37-29fc5a2e8009",
   "metadata": {},
   "source": [
    "## Handling Categorical Features"
   ]
  },
  {
   "cell_type": "code",
   "execution_count": 60,
   "id": "b428a39c-d28e-4a25-aa45-8e0af96fbb8f",
   "metadata": {},
   "outputs": [],
   "source": [
    "train[\"Train\"] = 1\n",
    "test[\"Train\"] = 0"
   ]
  },
  {
   "cell_type": "code",
   "execution_count": 61,
   "id": "b70c1584-9265-4ea0-ab1c-f6e5cb9ea95e",
   "metadata": {},
   "outputs": [
    {
     "data": {
      "text/html": [
       "<div>\n",
       "<style scoped>\n",
       "    .dataframe tbody tr th:only-of-type {\n",
       "        vertical-align: middle;\n",
       "    }\n",
       "\n",
       "    .dataframe tbody tr th {\n",
       "        vertical-align: top;\n",
       "    }\n",
       "\n",
       "    .dataframe thead th {\n",
       "        text-align: right;\n",
       "    }\n",
       "</style>\n",
       "<table border=\"1\" class=\"dataframe\">\n",
       "  <thead>\n",
       "    <tr style=\"text-align: right;\">\n",
       "      <th></th>\n",
       "      <th>Game_ID</th>\n",
       "      <th>Player_ID</th>\n",
       "      <th>id</th>\n",
       "      <th>X</th>\n",
       "      <th>Y</th>\n",
       "      <th>Team</th>\n",
       "      <th>Action</th>\n",
       "      <th>Half</th>\n",
       "      <th>Manager</th>\n",
       "      <th>Opposition_Team</th>\n",
       "      <th>...</th>\n",
       "      <th>Away Team</th>\n",
       "      <th>Score</th>\n",
       "      <th>Year</th>\n",
       "      <th>Month</th>\n",
       "      <th>Day</th>\n",
       "      <th>Total_Shots</th>\n",
       "      <th>Total_min_played</th>\n",
       "      <th>Total_goals</th>\n",
       "      <th>Dist_X_Y</th>\n",
       "      <th>Train</th>\n",
       "    </tr>\n",
       "  </thead>\n",
       "  <tbody>\n",
       "    <tr>\n",
       "      <th>0</th>\n",
       "      <td>ID_ZZKYYPVY</td>\n",
       "      <td>Player_O7HO1NOB</td>\n",
       "      <td>1.0</td>\n",
       "      <td>52.5</td>\n",
       "      <td>34.0</td>\n",
       "      <td>Circinus</td>\n",
       "      <td>Accurate passes</td>\n",
       "      <td>0</td>\n",
       "      <td>Ryoichi</td>\n",
       "      <td>Backward</td>\n",
       "      <td>...</td>\n",
       "      <td>Circinus</td>\n",
       "      <td>Home Win</td>\n",
       "      <td>2017</td>\n",
       "      <td>12</td>\n",
       "      <td>6</td>\n",
       "      <td>0.0</td>\n",
       "      <td>0.34</td>\n",
       "      <td>0.0</td>\n",
       "      <td>18.5</td>\n",
       "      <td>1</td>\n",
       "    </tr>\n",
       "    <tr>\n",
       "      <th>1</th>\n",
       "      <td>ID_ZZKYYPVY</td>\n",
       "      <td>Player_O7HO1NOB</td>\n",
       "      <td>2.0</td>\n",
       "      <td>52.5</td>\n",
       "      <td>34.0</td>\n",
       "      <td>Circinus</td>\n",
       "      <td>Positional attacks</td>\n",
       "      <td>0</td>\n",
       "      <td>Ryoichi</td>\n",
       "      <td>Backward</td>\n",
       "      <td>...</td>\n",
       "      <td>Circinus</td>\n",
       "      <td>Home Win</td>\n",
       "      <td>2017</td>\n",
       "      <td>12</td>\n",
       "      <td>6</td>\n",
       "      <td>0.0</td>\n",
       "      <td>0.34</td>\n",
       "      <td>0.0</td>\n",
       "      <td>18.5</td>\n",
       "      <td>1</td>\n",
       "    </tr>\n",
       "    <tr>\n",
       "      <th>2</th>\n",
       "      <td>ID_ZZKYYPVY</td>\n",
       "      <td>Player_J0V7B0YE</td>\n",
       "      <td>3.0</td>\n",
       "      <td>37.0</td>\n",
       "      <td>32.7</td>\n",
       "      <td>Circinus</td>\n",
       "      <td>Positional attacks</td>\n",
       "      <td>0</td>\n",
       "      <td>Ryoichi</td>\n",
       "      <td>Backward</td>\n",
       "      <td>...</td>\n",
       "      <td>Circinus</td>\n",
       "      <td>Home Win</td>\n",
       "      <td>2017</td>\n",
       "      <td>12</td>\n",
       "      <td>6</td>\n",
       "      <td>0.0</td>\n",
       "      <td>0.33</td>\n",
       "      <td>0.0</td>\n",
       "      <td>4.3</td>\n",
       "      <td>1</td>\n",
       "    </tr>\n",
       "    <tr>\n",
       "      <th>3</th>\n",
       "      <td>ID_ZZKYYPVY</td>\n",
       "      <td>Player_J0V7B0YE</td>\n",
       "      <td>4.0</td>\n",
       "      <td>39.5</td>\n",
       "      <td>33.0</td>\n",
       "      <td>Circinus</td>\n",
       "      <td>Positional attacks</td>\n",
       "      <td>0</td>\n",
       "      <td>Ryoichi</td>\n",
       "      <td>Backward</td>\n",
       "      <td>...</td>\n",
       "      <td>Circinus</td>\n",
       "      <td>Home Win</td>\n",
       "      <td>2017</td>\n",
       "      <td>12</td>\n",
       "      <td>6</td>\n",
       "      <td>0.0</td>\n",
       "      <td>0.33</td>\n",
       "      <td>0.0</td>\n",
       "      <td>6.5</td>\n",
       "      <td>1</td>\n",
       "    </tr>\n",
       "    <tr>\n",
       "      <th>4</th>\n",
       "      <td>ID_ZZKYYPVY</td>\n",
       "      <td>Player_J0V7B0YE</td>\n",
       "      <td>5.0</td>\n",
       "      <td>39.5</td>\n",
       "      <td>33.0</td>\n",
       "      <td>Circinus</td>\n",
       "      <td>Inaccurate passes</td>\n",
       "      <td>0</td>\n",
       "      <td>Ryoichi</td>\n",
       "      <td>Backward</td>\n",
       "      <td>...</td>\n",
       "      <td>Circinus</td>\n",
       "      <td>Home Win</td>\n",
       "      <td>2017</td>\n",
       "      <td>12</td>\n",
       "      <td>6</td>\n",
       "      <td>0.0</td>\n",
       "      <td>0.33</td>\n",
       "      <td>0.0</td>\n",
       "      <td>6.5</td>\n",
       "      <td>1</td>\n",
       "    </tr>\n",
       "  </tbody>\n",
       "</table>\n",
       "<p>5 rows × 32 columns</p>\n",
       "</div>"
      ],
      "text/plain": [
       "       Game_ID        Player_ID   id     X     Y      Team  \\\n",
       "0  ID_ZZKYYPVY  Player_O7HO1NOB  1.0  52.5  34.0  Circinus   \n",
       "1  ID_ZZKYYPVY  Player_O7HO1NOB  2.0  52.5  34.0  Circinus   \n",
       "2  ID_ZZKYYPVY  Player_J0V7B0YE  3.0  37.0  32.7  Circinus   \n",
       "3  ID_ZZKYYPVY  Player_J0V7B0YE  4.0  39.5  33.0  Circinus   \n",
       "4  ID_ZZKYYPVY  Player_J0V7B0YE  5.0  39.5  33.0  Circinus   \n",
       "\n",
       "               Action  Half  Manager Opposition_Team  ...  Away Team  \\\n",
       "0     Accurate passes     0  Ryoichi        Backward  ...   Circinus   \n",
       "1  Positional attacks     0  Ryoichi        Backward  ...   Circinus   \n",
       "2  Positional attacks     0  Ryoichi        Backward  ...   Circinus   \n",
       "3  Positional attacks     0  Ryoichi        Backward  ...   Circinus   \n",
       "4   Inaccurate passes     0  Ryoichi        Backward  ...   Circinus   \n",
       "\n",
       "      Score  Year  Month  Day  Total_Shots  Total_min_played  Total_goals  \\\n",
       "0  Home Win  2017     12    6          0.0              0.34          0.0   \n",
       "1  Home Win  2017     12    6          0.0              0.34          0.0   \n",
       "2  Home Win  2017     12    6          0.0              0.33          0.0   \n",
       "3  Home Win  2017     12    6          0.0              0.33          0.0   \n",
       "4  Home Win  2017     12    6          0.0              0.33          0.0   \n",
       "\n",
       "   Dist_X_Y  Train  \n",
       "0      18.5      1  \n",
       "1      18.5      1  \n",
       "2       4.3      1  \n",
       "3       6.5      1  \n",
       "4       6.5      1  \n",
       "\n",
       "[5 rows x 32 columns]"
      ]
     },
     "execution_count": 61,
     "metadata": {},
     "output_type": "execute_result"
    }
   ],
   "source": [
    "train.head()"
   ]
  },
  {
   "cell_type": "code",
   "execution_count": 62,
   "id": "931ea25b-8577-4681-bf16-236684f64981",
   "metadata": {},
   "outputs": [
    {
     "data": {
      "text/html": [
       "<div>\n",
       "<style scoped>\n",
       "    .dataframe tbody tr th:only-of-type {\n",
       "        vertical-align: middle;\n",
       "    }\n",
       "\n",
       "    .dataframe tbody tr th {\n",
       "        vertical-align: top;\n",
       "    }\n",
       "\n",
       "    .dataframe thead th {\n",
       "        text-align: right;\n",
       "    }\n",
       "</style>\n",
       "<table border=\"1\" class=\"dataframe\">\n",
       "  <thead>\n",
       "    <tr style=\"text-align: right;\">\n",
       "      <th></th>\n",
       "      <th>Game_ID</th>\n",
       "      <th>Player_ID</th>\n",
       "      <th>id</th>\n",
       "      <th>X</th>\n",
       "      <th>Y</th>\n",
       "      <th>Team</th>\n",
       "      <th>Action</th>\n",
       "      <th>Half</th>\n",
       "      <th>Manager</th>\n",
       "      <th>Opposition_Team</th>\n",
       "      <th>...</th>\n",
       "      <th>Home Team</th>\n",
       "      <th>Away Team</th>\n",
       "      <th>Year</th>\n",
       "      <th>Month</th>\n",
       "      <th>Day</th>\n",
       "      <th>Total_Shots</th>\n",
       "      <th>Total_min_played</th>\n",
       "      <th>Total_goals</th>\n",
       "      <th>Dist_X_Y</th>\n",
       "      <th>Train</th>\n",
       "    </tr>\n",
       "  </thead>\n",
       "  <tbody>\n",
       "    <tr>\n",
       "      <th>19031</th>\n",
       "      <td>ID_ZUPS2JD2</td>\n",
       "      <td>Player_5CBBVY85</td>\n",
       "      <td>1.0</td>\n",
       "      <td>52.5</td>\n",
       "      <td>34.0</td>\n",
       "      <td>Milky Way</td>\n",
       "      <td>Accurate passes</td>\n",
       "      <td>0</td>\n",
       "      <td>Masashi</td>\n",
       "      <td>Sunflower</td>\n",
       "      <td>...</td>\n",
       "      <td>Sunflower</td>\n",
       "      <td>Milky Way</td>\n",
       "      <td>2019</td>\n",
       "      <td>3</td>\n",
       "      <td>19</td>\n",
       "      <td>0.0</td>\n",
       "      <td>0.34</td>\n",
       "      <td>0.0</td>\n",
       "      <td>18.5</td>\n",
       "      <td>0</td>\n",
       "    </tr>\n",
       "    <tr>\n",
       "      <th>19032</th>\n",
       "      <td>ID_ZUPS2JD2</td>\n",
       "      <td>Player_5CBBVY85</td>\n",
       "      <td>2.0</td>\n",
       "      <td>52.5</td>\n",
       "      <td>34.0</td>\n",
       "      <td>Milky Way</td>\n",
       "      <td>Positional attacks</td>\n",
       "      <td>0</td>\n",
       "      <td>Masashi</td>\n",
       "      <td>Sunflower</td>\n",
       "      <td>...</td>\n",
       "      <td>Sunflower</td>\n",
       "      <td>Milky Way</td>\n",
       "      <td>2019</td>\n",
       "      <td>3</td>\n",
       "      <td>19</td>\n",
       "      <td>0.0</td>\n",
       "      <td>0.34</td>\n",
       "      <td>0.0</td>\n",
       "      <td>18.5</td>\n",
       "      <td>0</td>\n",
       "    </tr>\n",
       "    <tr>\n",
       "      <th>19033</th>\n",
       "      <td>ID_ZUPS2JD2</td>\n",
       "      <td>Player_INTSA2WQ</td>\n",
       "      <td>3.0</td>\n",
       "      <td>37.5</td>\n",
       "      <td>30.9</td>\n",
       "      <td>Milky Way</td>\n",
       "      <td>Positional attacks</td>\n",
       "      <td>0</td>\n",
       "      <td>Masashi</td>\n",
       "      <td>Sunflower</td>\n",
       "      <td>...</td>\n",
       "      <td>Sunflower</td>\n",
       "      <td>Milky Way</td>\n",
       "      <td>2019</td>\n",
       "      <td>3</td>\n",
       "      <td>19</td>\n",
       "      <td>0.0</td>\n",
       "      <td>0.33</td>\n",
       "      <td>0.0</td>\n",
       "      <td>6.6</td>\n",
       "      <td>0</td>\n",
       "    </tr>\n",
       "    <tr>\n",
       "      <th>19034</th>\n",
       "      <td>ID_ZUPS2JD2</td>\n",
       "      <td>Player_INTSA2WQ</td>\n",
       "      <td>4.0</td>\n",
       "      <td>37.5</td>\n",
       "      <td>30.9</td>\n",
       "      <td>Milky Way</td>\n",
       "      <td>Accurate passes</td>\n",
       "      <td>0</td>\n",
       "      <td>Masashi</td>\n",
       "      <td>Sunflower</td>\n",
       "      <td>...</td>\n",
       "      <td>Sunflower</td>\n",
       "      <td>Milky Way</td>\n",
       "      <td>2019</td>\n",
       "      <td>3</td>\n",
       "      <td>19</td>\n",
       "      <td>0.0</td>\n",
       "      <td>0.33</td>\n",
       "      <td>0.0</td>\n",
       "      <td>6.6</td>\n",
       "      <td>0</td>\n",
       "    </tr>\n",
       "    <tr>\n",
       "      <th>19035</th>\n",
       "      <td>ID_ZUPS2JD2</td>\n",
       "      <td>Player_1AJ0QRLU</td>\n",
       "      <td>5.0</td>\n",
       "      <td>26.0</td>\n",
       "      <td>10.8</td>\n",
       "      <td>Sunflower</td>\n",
       "      <td>Positional attacks</td>\n",
       "      <td>0</td>\n",
       "      <td>Frodo</td>\n",
       "      <td>Milky Way</td>\n",
       "      <td>...</td>\n",
       "      <td>Sunflower</td>\n",
       "      <td>Milky Way</td>\n",
       "      <td>2019</td>\n",
       "      <td>3</td>\n",
       "      <td>19</td>\n",
       "      <td>0.0</td>\n",
       "      <td>0.33</td>\n",
       "      <td>0.0</td>\n",
       "      <td>15.2</td>\n",
       "      <td>0</td>\n",
       "    </tr>\n",
       "  </tbody>\n",
       "</table>\n",
       "<p>5 rows × 31 columns</p>\n",
       "</div>"
      ],
      "text/plain": [
       "           Game_ID        Player_ID   id     X     Y       Team  \\\n",
       "19031  ID_ZUPS2JD2  Player_5CBBVY85  1.0  52.5  34.0  Milky Way   \n",
       "19032  ID_ZUPS2JD2  Player_5CBBVY85  2.0  52.5  34.0  Milky Way   \n",
       "19033  ID_ZUPS2JD2  Player_INTSA2WQ  3.0  37.5  30.9  Milky Way   \n",
       "19034  ID_ZUPS2JD2  Player_INTSA2WQ  4.0  37.5  30.9  Milky Way   \n",
       "19035  ID_ZUPS2JD2  Player_1AJ0QRLU  5.0  26.0  10.8  Sunflower   \n",
       "\n",
       "                   Action  Half  Manager Opposition_Team  ...  Home Team  \\\n",
       "19031     Accurate passes     0  Masashi       Sunflower  ...  Sunflower   \n",
       "19032  Positional attacks     0  Masashi       Sunflower  ...  Sunflower   \n",
       "19033  Positional attacks     0  Masashi       Sunflower  ...  Sunflower   \n",
       "19034     Accurate passes     0  Masashi       Sunflower  ...  Sunflower   \n",
       "19035  Positional attacks     0    Frodo       Milky Way  ...  Sunflower   \n",
       "\n",
       "       Away Team  Year  Month  Day  Total_Shots  Total_min_played  \\\n",
       "19031  Milky Way  2019      3   19          0.0              0.34   \n",
       "19032  Milky Way  2019      3   19          0.0              0.34   \n",
       "19033  Milky Way  2019      3   19          0.0              0.33   \n",
       "19034  Milky Way  2019      3   19          0.0              0.33   \n",
       "19035  Milky Way  2019      3   19          0.0              0.33   \n",
       "\n",
       "       Total_goals  Dist_X_Y  Train  \n",
       "19031          0.0      18.5      0  \n",
       "19032          0.0      18.5      0  \n",
       "19033          0.0       6.6      0  \n",
       "19034          0.0       6.6      0  \n",
       "19035          0.0      15.2      0  \n",
       "\n",
       "[5 rows x 31 columns]"
      ]
     },
     "execution_count": 62,
     "metadata": {},
     "output_type": "execute_result"
    }
   ],
   "source": [
    "test.head()"
   ]
  },
  {
   "cell_type": "code",
   "execution_count": 63,
   "id": "16d9128d-12da-40e0-b6a4-109aa74fef31",
   "metadata": {},
   "outputs": [],
   "source": [
    "train_test = pd.concat([train, test]) "
   ]
  },
  {
   "cell_type": "code",
   "execution_count": 64,
   "id": "6c110ac9-2366-4219-8f0d-d537d4306fe5",
   "metadata": {},
   "outputs": [
    {
     "data": {
      "text/html": [
       "<div>\n",
       "<style scoped>\n",
       "    .dataframe tbody tr th:only-of-type {\n",
       "        vertical-align: middle;\n",
       "    }\n",
       "\n",
       "    .dataframe tbody tr th {\n",
       "        vertical-align: top;\n",
       "    }\n",
       "\n",
       "    .dataframe thead th {\n",
       "        text-align: right;\n",
       "    }\n",
       "</style>\n",
       "<table border=\"1\" class=\"dataframe\">\n",
       "  <thead>\n",
       "    <tr style=\"text-align: right;\">\n",
       "      <th></th>\n",
       "      <th>Game_ID</th>\n",
       "      <th>Player_ID</th>\n",
       "      <th>id</th>\n",
       "      <th>X</th>\n",
       "      <th>Y</th>\n",
       "      <th>Team</th>\n",
       "      <th>Action</th>\n",
       "      <th>Half</th>\n",
       "      <th>Manager</th>\n",
       "      <th>Opposition_Team</th>\n",
       "      <th>...</th>\n",
       "      <th>Away Team</th>\n",
       "      <th>Score</th>\n",
       "      <th>Year</th>\n",
       "      <th>Month</th>\n",
       "      <th>Day</th>\n",
       "      <th>Total_Shots</th>\n",
       "      <th>Total_min_played</th>\n",
       "      <th>Total_goals</th>\n",
       "      <th>Dist_X_Y</th>\n",
       "      <th>Train</th>\n",
       "    </tr>\n",
       "  </thead>\n",
       "  <tbody>\n",
       "    <tr>\n",
       "      <th>2420778</th>\n",
       "      <td>ID_03VRW8WV</td>\n",
       "      <td>Player_Y6ZZ2X44</td>\n",
       "      <td>3661.0</td>\n",
       "      <td>42.1</td>\n",
       "      <td>57.4</td>\n",
       "      <td>Antennae</td>\n",
       "      <td>Free-kick attacks</td>\n",
       "      <td>1</td>\n",
       "      <td>Elrick</td>\n",
       "      <td>Comet</td>\n",
       "      <td>...</td>\n",
       "      <td>Antennae</td>\n",
       "      <td>NaN</td>\n",
       "      <td>2018</td>\n",
       "      <td>11</td>\n",
       "      <td>28</td>\n",
       "      <td>0.0</td>\n",
       "      <td>0.34</td>\n",
       "      <td>0.0</td>\n",
       "      <td>15.3</td>\n",
       "      <td>0</td>\n",
       "    </tr>\n",
       "    <tr>\n",
       "      <th>2420779</th>\n",
       "      <td>ID_03VRW8WV</td>\n",
       "      <td>Player_Y6ZZ2X44</td>\n",
       "      <td>3662.0</td>\n",
       "      <td>42.1</td>\n",
       "      <td>57.4</td>\n",
       "      <td>Antennae</td>\n",
       "      <td>Passes into the penalty box</td>\n",
       "      <td>1</td>\n",
       "      <td>Elrick</td>\n",
       "      <td>Comet</td>\n",
       "      <td>...</td>\n",
       "      <td>Antennae</td>\n",
       "      <td>NaN</td>\n",
       "      <td>2018</td>\n",
       "      <td>11</td>\n",
       "      <td>28</td>\n",
       "      <td>0.0</td>\n",
       "      <td>0.34</td>\n",
       "      <td>0.0</td>\n",
       "      <td>15.3</td>\n",
       "      <td>0</td>\n",
       "    </tr>\n",
       "    <tr>\n",
       "      <th>2420780</th>\n",
       "      <td>ID_03VRW8WV</td>\n",
       "      <td>Player_6DVBNW9L</td>\n",
       "      <td>3663.0</td>\n",
       "      <td>7.5</td>\n",
       "      <td>19.6</td>\n",
       "      <td>Comet</td>\n",
       "      <td>Interceptions</td>\n",
       "      <td>1</td>\n",
       "      <td>Hideaki</td>\n",
       "      <td>Antennae</td>\n",
       "      <td>...</td>\n",
       "      <td>Antennae</td>\n",
       "      <td>NaN</td>\n",
       "      <td>2018</td>\n",
       "      <td>11</td>\n",
       "      <td>28</td>\n",
       "      <td>0.0</td>\n",
       "      <td>0.33</td>\n",
       "      <td>0.0</td>\n",
       "      <td>12.1</td>\n",
       "      <td>0</td>\n",
       "    </tr>\n",
       "    <tr>\n",
       "      <th>2420781</th>\n",
       "      <td>ID_03VRW8WV</td>\n",
       "      <td>Player_6DVBNW9L</td>\n",
       "      <td>3664.0</td>\n",
       "      <td>7.5</td>\n",
       "      <td>19.6</td>\n",
       "      <td>Comet</td>\n",
       "      <td>Free-kick attacks</td>\n",
       "      <td>1</td>\n",
       "      <td>Hideaki</td>\n",
       "      <td>Antennae</td>\n",
       "      <td>...</td>\n",
       "      <td>Antennae</td>\n",
       "      <td>NaN</td>\n",
       "      <td>2018</td>\n",
       "      <td>11</td>\n",
       "      <td>28</td>\n",
       "      <td>0.0</td>\n",
       "      <td>0.33</td>\n",
       "      <td>0.0</td>\n",
       "      <td>12.1</td>\n",
       "      <td>0</td>\n",
       "    </tr>\n",
       "    <tr>\n",
       "      <th>2420782</th>\n",
       "      <td>ID_03VRW8WV</td>\n",
       "      <td>Player_77KCLG39</td>\n",
       "      <td>3665.0</td>\n",
       "      <td>23.0</td>\n",
       "      <td>0.0</td>\n",
       "      <td>Comet</td>\n",
       "      <td>Accurate passes</td>\n",
       "      <td>1</td>\n",
       "      <td>Hideaki</td>\n",
       "      <td>Antennae</td>\n",
       "      <td>...</td>\n",
       "      <td>Antennae</td>\n",
       "      <td>NaN</td>\n",
       "      <td>2018</td>\n",
       "      <td>11</td>\n",
       "      <td>28</td>\n",
       "      <td>0.0</td>\n",
       "      <td>0.33</td>\n",
       "      <td>0.0</td>\n",
       "      <td>23.0</td>\n",
       "      <td>0</td>\n",
       "    </tr>\n",
       "  </tbody>\n",
       "</table>\n",
       "<p>5 rows × 32 columns</p>\n",
       "</div>"
      ],
      "text/plain": [
       "             Game_ID        Player_ID      id     X     Y      Team  \\\n",
       "2420778  ID_03VRW8WV  Player_Y6ZZ2X44  3661.0  42.1  57.4  Antennae   \n",
       "2420779  ID_03VRW8WV  Player_Y6ZZ2X44  3662.0  42.1  57.4  Antennae   \n",
       "2420780  ID_03VRW8WV  Player_6DVBNW9L  3663.0   7.5  19.6     Comet   \n",
       "2420781  ID_03VRW8WV  Player_6DVBNW9L  3664.0   7.5  19.6     Comet   \n",
       "2420782  ID_03VRW8WV  Player_77KCLG39  3665.0  23.0   0.0     Comet   \n",
       "\n",
       "                              Action  Half  Manager Opposition_Team  ...  \\\n",
       "2420778            Free-kick attacks     1   Elrick           Comet  ...   \n",
       "2420779  Passes into the penalty box     1   Elrick           Comet  ...   \n",
       "2420780                Interceptions     1  Hideaki        Antennae  ...   \n",
       "2420781            Free-kick attacks     1  Hideaki        Antennae  ...   \n",
       "2420782              Accurate passes     1  Hideaki        Antennae  ...   \n",
       "\n",
       "         Away Team  Score  Year  Month  Day  Total_Shots  Total_min_played  \\\n",
       "2420778   Antennae    NaN  2018     11   28          0.0              0.34   \n",
       "2420779   Antennae    NaN  2018     11   28          0.0              0.34   \n",
       "2420780   Antennae    NaN  2018     11   28          0.0              0.33   \n",
       "2420781   Antennae    NaN  2018     11   28          0.0              0.33   \n",
       "2420782   Antennae    NaN  2018     11   28          0.0              0.33   \n",
       "\n",
       "         Total_goals  Dist_X_Y  Train  \n",
       "2420778          0.0      15.3      0  \n",
       "2420779          0.0      15.3      0  \n",
       "2420780          0.0      12.1      0  \n",
       "2420781          0.0      12.1      0  \n",
       "2420782          0.0      23.0      0  \n",
       "\n",
       "[5 rows x 32 columns]"
      ]
     },
     "execution_count": 64,
     "metadata": {},
     "output_type": "execute_result"
    }
   ],
   "source": [
    "train_test.tail()"
   ]
  },
  {
   "cell_type": "code",
   "execution_count": 65,
   "id": "1fd079de-4d64-4070-855a-981574463343",
   "metadata": {},
   "outputs": [
    {
     "data": {
      "text/plain": [
       "Index(['Game_ID', 'Player_ID', 'id', 'X', 'Y', 'Team', 'Action', 'Half',\n",
       "       'Manager', 'Opposition_Team', 'Shots', 'SoT', 'Goals_scored',\n",
       "       'Goals_conceded', 'Accurate passes', 'Inaccurate passes', 'Passes',\n",
       "       'Start_minutes', 'End_minutes', 'Season', 'Match_ID', 'Home Team',\n",
       "       'Away Team', 'Score', 'Year', 'Month', 'Day', 'Total_Shots',\n",
       "       'Total_min_played', 'Total_goals', 'Dist_X_Y', 'Train'],\n",
       "      dtype='object')"
      ]
     },
     "execution_count": 65,
     "metadata": {},
     "output_type": "execute_result"
    }
   ],
   "source": [
    "train_test.columns"
   ]
  },
  {
   "cell_type": "code",
   "execution_count": 66,
   "id": "3c4dcd5c-4a64-4db5-8fe6-66681aea9b1f",
   "metadata": {},
   "outputs": [
    {
     "name": "stderr",
     "output_type": "stream",
     "text": [
      "/home/sadkh/miniconda3/lib/python3.9/site-packages/sklearn/preprocessing/_label.py:115: DataConversionWarning: A column-vector y was passed when a 1d array was expected. Please change the shape of y to (n_samples, ), for example using ravel().\n",
      "  y = column_or_1d(y, warn=True)\n"
     ]
    }
   ],
   "source": [
    "# Initializing ordinalencoder\n",
    "oe = OrdinalEncoder()\n",
    "le = LabelEncoder()\n",
    "\n",
    "train_test[\"Player_ID\"] = le.fit_transform(train_test[[\"Player_ID\"]])\n",
    "train_test[\"Team\"] = le.fit_transform(train_test[[\"Team\"]])\n",
    "train_test[\"Action\"] = le.fit_transform(train_test[[\"Action\"]])\n",
    "train_test[\"Manager\"] = le.fit_transform(train_test[[\"Manager\"]])\n",
    "train_test[\"Home Team\"] = le.fit_transform(train_test[[\"Home Team\"]])\n",
    "train_test[\"Away Team\"] = le.fit_transform(train_test[[\"Away Team\"]])\n",
    "train_test[\"Opposition_Team\"] = le.fit_transform(train_test[[\"Opposition_Team\"]])"
   ]
  },
  {
   "cell_type": "code",
   "execution_count": 67,
   "id": "9ab22770-58a9-4d3f-a507-46e433ffa986",
   "metadata": {},
   "outputs": [
    {
     "name": "stdout",
     "output_type": "stream",
     "text": [
      "<class 'pandas.core.frame.DataFrame'>\n",
      "Int64Index: 2428101 entries, 0 to 2420782\n",
      "Data columns (total 32 columns):\n",
      " #   Column             Dtype  \n",
      "---  ------             -----  \n",
      " 0   Game_ID            object \n",
      " 1   Player_ID          int64  \n",
      " 2   id                 float64\n",
      " 3   X                  float64\n",
      " 4   Y                  float64\n",
      " 5   Team               int64  \n",
      " 6   Action             int64  \n",
      " 7   Half               int64  \n",
      " 8   Manager            int64  \n",
      " 9   Opposition_Team    int64  \n",
      " 10  Shots              float64\n",
      " 11  SoT                float64\n",
      " 12  Goals_scored       float64\n",
      " 13  Goals_conceded     float64\n",
      " 14  Accurate passes    float64\n",
      " 15  Inaccurate passes  float64\n",
      " 16  Passes             float64\n",
      " 17  Start_minutes      float64\n",
      " 18  End_minutes        float64\n",
      " 19  Season             int64  \n",
      " 20  Match_ID           float64\n",
      " 21  Home Team          int64  \n",
      " 22  Away Team          int64  \n",
      " 23  Score              object \n",
      " 24  Year               int64  \n",
      " 25  Month              int64  \n",
      " 26  Day                int64  \n",
      " 27  Total_Shots        float64\n",
      " 28  Total_min_played   float64\n",
      " 29  Total_goals        float64\n",
      " 30  Dist_X_Y           float64\n",
      " 31  Train              int64  \n",
      "dtypes: float64(17), int64(13), object(2)\n",
      "memory usage: 611.3+ MB\n"
     ]
    }
   ],
   "source": [
    "train_test.info()"
   ]
  },
  {
   "cell_type": "code",
   "execution_count": 68,
   "id": "562f323c-f5b2-48e3-9df2-2f184b05e958",
   "metadata": {},
   "outputs": [],
   "source": [
    "# Splitting training and testing set\n",
    "train = train_test[train_test[\"Train\"] == 1].copy()\n",
    "test = train_test[train_test[\"Train\"] == 0].copy()\n",
    "test.drop(\"Score\", axis=1, inplace=True)"
   ]
  },
  {
   "cell_type": "code",
   "execution_count": 69,
   "id": "50e812dd-859c-4c01-90cb-542e25147725",
   "metadata": {},
   "outputs": [
    {
     "data": {
      "text/plain": [
       "(1626003, 32)"
      ]
     },
     "execution_count": 69,
     "metadata": {},
     "output_type": "execute_result"
    }
   ],
   "source": [
    "train.shape"
   ]
  },
  {
   "cell_type": "code",
   "execution_count": 70,
   "id": "08cdb78c-404a-4e89-8c55-9bd13a807f4b",
   "metadata": {},
   "outputs": [
    {
     "data": {
      "text/plain": [
       "(802098, 31)"
      ]
     },
     "execution_count": 70,
     "metadata": {},
     "output_type": "execute_result"
    }
   ],
   "source": [
    "test.shape"
   ]
  },
  {
   "cell_type": "markdown",
   "id": "a57b61ad-384d-4087-8385-0fae52454514",
   "metadata": {},
   "source": [
    "## Feature Slection"
   ]
  },
  {
   "cell_type": "code",
   "execution_count": 71,
   "id": "c88a1186-1212-49ac-875b-54d59416ec84",
   "metadata": {},
   "outputs": [],
   "source": [
    "# columns = [\"Team\", \"Manager\", \"Opposition_Team\", \"Season\",\"Match_ID\", \"Home Team\", \"Away Team\", \"Year\", \"Month\", \"Day\"]\n",
    "# train_1 = train.loc[:, columns].copy()\n",
    "# test_1 = test.loc[:, columns].copy()"
   ]
  },
  {
   "cell_type": "code",
   "execution_count": 72,
   "id": "1ff9a159-262a-4612-9d89-cebda4fa60e0",
   "metadata": {},
   "outputs": [],
   "source": [
    "# Initializing labelencoder\n",
    "le = LabelEncoder()\n",
    "\n",
    "# Splittind data into features and target\n",
    "X = train.drop([\"Score\", \"Game_ID\"], axis=1)\n",
    "y = le.fit_transform(train[\"Score\"])"
   ]
  },
  {
   "cell_type": "code",
   "execution_count": 73,
   "id": "384c90e8-c3c6-4b15-9f87-6d8cce417ac3",
   "metadata": {},
   "outputs": [
    {
     "data": {
      "text/plain": [
       "(1626003, 30)"
      ]
     },
     "execution_count": 73,
     "metadata": {},
     "output_type": "execute_result"
    }
   ],
   "source": [
    "X.shape"
   ]
  },
  {
   "cell_type": "code",
   "execution_count": 74,
   "id": "98962be5-55ce-49ad-bf13-eeb3546eabe6",
   "metadata": {},
   "outputs": [
    {
     "data": {
      "text/plain": [
       "array(['Away win', 'Draw', 'Home Win'], dtype=object)"
      ]
     },
     "execution_count": 74,
     "metadata": {},
     "output_type": "execute_result"
    }
   ],
   "source": [
    "le.classes_"
   ]
  },
  {
   "cell_type": "code",
   "execution_count": 75,
   "id": "c69ddcfd-4e12-415d-9b05-994cbf657a8a",
   "metadata": {},
   "outputs": [],
   "source": [
    "game_id = test[\"Game_ID\"]\n",
    "test.drop(\"Game_ID\", axis=1, inplace=True)"
   ]
  },
  {
   "cell_type": "markdown",
   "id": "f7b83885-b170-46d0-8377-60de1009402b",
   "metadata": {},
   "source": [
    "# Training models"
   ]
  },
  {
   "cell_type": "code",
   "execution_count": 76,
   "id": "ffb66845-9910-4420-b5cc-8666c181a090",
   "metadata": {},
   "outputs": [],
   "source": [
    "X_train, X_test, y_train, y_test = train_test_split(X.values, y, test_size=0.05, random_state=SEED)"
   ]
  },
  {
   "cell_type": "code",
   "execution_count": 77,
   "id": "6dbb2070-ccf8-413b-b3fb-93d094247453",
   "metadata": {},
   "outputs": [],
   "source": [
    "# scaler = StandardScaler()\n",
    "# scaler.fit(X_train)\n",
    "# X_train_scaled = scaler.transform(X_train)\n",
    "# X_test_scaled = scaler.transform(X_test)"
   ]
  },
  {
   "cell_type": "code",
   "execution_count": 78,
   "id": "5a118fac-f90f-4112-ab5b-39d12dd80db2",
   "metadata": {},
   "outputs": [],
   "source": [
    "# test_scaled = scaler.transform(test.values) "
   ]
  },
  {
   "cell_type": "code",
   "execution_count": 79,
   "id": "c1bf4c6a-814b-4319-bee4-c9fe0b5b73ab",
   "metadata": {},
   "outputs": [
    {
     "data": {
      "text/plain": [
       "(1544702, 30)"
      ]
     },
     "execution_count": 79,
     "metadata": {},
     "output_type": "execute_result"
    }
   ],
   "source": [
    "X_train.shape"
   ]
  },
  {
   "cell_type": "code",
   "execution_count": 80,
   "id": "033f0db4-224a-488a-8d23-37f09187838d",
   "metadata": {},
   "outputs": [
    {
     "data": {
      "text/plain": [
       "(81301, 30)"
      ]
     },
     "execution_count": 80,
     "metadata": {},
     "output_type": "execute_result"
    }
   ],
   "source": [
    "X_test.shape"
   ]
  },
  {
   "cell_type": "markdown",
   "id": "dc7a884f-da4a-443f-8473-639ca1ca9269",
   "metadata": {},
   "source": [
    "## RandomForest Classifier"
   ]
  },
  {
   "cell_type": "code",
   "execution_count": 81,
   "id": "b91d3060-7354-4f8c-a1d4-26c8b39c25cf",
   "metadata": {},
   "outputs": [],
   "source": [
    "# rf = RandomForestClassifier(n_estimators=100, max_depth=8, random_state=SEED)\n",
    "# rf.fit(X_train_scaled, y_train)"
   ]
  },
  {
   "cell_type": "code",
   "execution_count": 82,
   "id": "4852072a-d555-480a-8f8e-0b6107c3fd26",
   "metadata": {},
   "outputs": [],
   "source": [
    "# preds = rf.predict(X_test_scaled)\n",
    "# accuracy_score(y_test, preds)"
   ]
  },
  {
   "cell_type": "code",
   "execution_count": 83,
   "id": "ebdcd6a2-7171-470b-be05-5a3f0556b062",
   "metadata": {},
   "outputs": [],
   "source": [
    "# len(rf_feature_imp)"
   ]
  },
  {
   "cell_type": "code",
   "execution_count": 84,
   "id": "55790567-10ac-49c1-8cb8-9b86f3e8f71d",
   "metadata": {},
   "outputs": [],
   "source": [
    "# len(X.columns)"
   ]
  },
  {
   "cell_type": "code",
   "execution_count": 85,
   "id": "ecd0b23f-483e-4870-b4b8-d3bd81dbafea",
   "metadata": {},
   "outputs": [],
   "source": [
    "# rf_feature_imp = rf.feature_importances_\n",
    "# columns = X.columns\n",
    "\n",
    "# plt.figure(figsize=(10, 20))\n",
    "# sns.barplot(x=rf_feature_imp, y=columns, orient=\"h\")\n",
    "# plt.title(\"Random Forest Feature Importances\")"
   ]
  },
  {
   "cell_type": "code",
   "execution_count": 86,
   "id": "1ba08209-0d6e-4278-9ce0-98028dabd6e8",
   "metadata": {},
   "outputs": [],
   "source": [
    "# test_scaled = scaler.transform(test.drop(\"Game_ID\", axis=1).values)\n",
    "# preds_test = rf.predict(test_scaled)\n",
    "\n",
    "# preds_test"
   ]
  },
  {
   "cell_type": "code",
   "execution_count": 87,
   "id": "1115c0c6-2b4e-418f-8e81-d65745b110a3",
   "metadata": {},
   "outputs": [],
   "source": [
    "# map_preds = {0:\"Away win\",\n",
    "#             1:\"Draw\",\n",
    "#             2:\"Home Win\"}\n",
    "\n",
    "# score = np.array(list(map(lambda x: map_preds[x], preds_test)))\n",
    "# print(score)"
   ]
  },
  {
   "cell_type": "code",
   "execution_count": 88,
   "id": "909c226a-6d18-4ba6-a01b-da92efddc27a",
   "metadata": {},
   "outputs": [],
   "source": [
    "# sub = pd.DataFrame({\"Game_ID\": game_id,\n",
    "#                    \"Score\": score})\n",
    "# sub.head()"
   ]
  },
  {
   "cell_type": "code",
   "execution_count": 89,
   "id": "54bab240-e519-4369-be8b-a213a04a1b32",
   "metadata": {},
   "outputs": [],
   "source": [
    "# sub.to_csv(\"rf_sub_2.csv\", index=None)"
   ]
  },
  {
   "cell_type": "markdown",
   "id": "501a1601-d3d4-4f3a-a9a6-5901fd6e3b5b",
   "metadata": {},
   "source": [
    "## XGBoost Classifier"
   ]
  },
  {
   "cell_type": "code",
   "execution_count": 90,
   "id": "fb123354-9472-4002-9477-d140b484ce7f",
   "metadata": {},
   "outputs": [],
   "source": [
    "# xgb = XGBClassifier()\n",
    "# xgb.fit(X_train, y_train)"
   ]
  },
  {
   "cell_type": "code",
   "execution_count": 91,
   "id": "0d4c046c-95a5-4b4a-a69f-2a94a2ee85b6",
   "metadata": {},
   "outputs": [],
   "source": [
    "# preds = xgb.predict(X_test)\n",
    "# accuracy_score(y_test, preds)"
   ]
  },
  {
   "cell_type": "code",
   "execution_count": 92,
   "id": "13b2c8ea-9fb5-4c2b-884c-dd7cb7c9c534",
   "metadata": {},
   "outputs": [],
   "source": [
    "# test_scaled = scaler.transform(test.drop(\"Game_ID\", axis=1).values)\n",
    "# preds_test = xgb.predict(test_scaled)\n",
    "\n",
    "# preds_test"
   ]
  },
  {
   "cell_type": "code",
   "execution_count": 93,
   "id": "3b2ec074-1e8a-475b-b9f1-aaa78d1aa7b5",
   "metadata": {},
   "outputs": [],
   "source": [
    "# map_preds = {0:\"Away win\",\n",
    "#             1:\"Draw\",\n",
    "#             2:\"Home Win\"}\n",
    "\n",
    "# score = np.array(list(map(lambda x: map_preds[x], preds_test)))\n",
    "# print(score)"
   ]
  },
  {
   "cell_type": "code",
   "execution_count": 94,
   "id": "37b86599-4929-4abb-979e-d655488999a4",
   "metadata": {},
   "outputs": [],
   "source": [
    "# sub = pd.DataFrame({\"Game_ID\": game_id,\n",
    "#                    \"Score\": score})\n",
    "# sub.head()"
   ]
  },
  {
   "cell_type": "code",
   "execution_count": 95,
   "id": "fc0e36e1-3336-426c-ab15-19676059945c",
   "metadata": {},
   "outputs": [],
   "source": [
    "# sub.to_csv(\"xgb_2.csv\", index=None)"
   ]
  },
  {
   "cell_type": "markdown",
   "id": "53ccf622-9b55-43ce-bee2-bbc92f30e272",
   "metadata": {},
   "source": [
    "## CatBoostClassifier"
   ]
  },
  {
   "cell_type": "code",
   "execution_count": 96,
   "id": "3bd0db95-54fe-41b0-95f2-12e2f8931fa0",
   "metadata": {
    "collapsed": true,
    "jupyter": {
     "outputs_hidden": true
    },
    "tags": []
   },
   "outputs": [
    {
     "name": "stdout",
     "output_type": "stream",
     "text": [
      "Learning rate set to 0.115068\n",
      "0:\tlearn: 1.0669318\ttotal: 603ms\tremaining: 10m 2s\n",
      "1:\tlearn: 1.0400361\ttotal: 962ms\tremaining: 8m\n",
      "2:\tlearn: 1.0182051\ttotal: 1.26s\tremaining: 7m\n",
      "3:\tlearn: 0.9929044\ttotal: 1.6s\tremaining: 6m 37s\n",
      "4:\tlearn: 0.9709733\ttotal: 1.93s\tremaining: 6m 24s\n",
      "5:\tlearn: 0.9483112\ttotal: 2.25s\tremaining: 6m 12s\n",
      "6:\tlearn: 0.9275845\ttotal: 2.55s\tremaining: 6m 1s\n",
      "7:\tlearn: 0.9096054\ttotal: 2.88s\tremaining: 5m 56s\n",
      "8:\tlearn: 0.8930444\ttotal: 3.16s\tremaining: 5m 47s\n",
      "9:\tlearn: 0.8807295\ttotal: 3.46s\tremaining: 5m 42s\n",
      "10:\tlearn: 0.8651052\ttotal: 3.77s\tremaining: 5m 39s\n",
      "11:\tlearn: 0.8588791\ttotal: 4.04s\tremaining: 5m 32s\n",
      "12:\tlearn: 0.8411739\ttotal: 4.37s\tremaining: 5m 31s\n",
      "13:\tlearn: 0.8254544\ttotal: 4.68s\tremaining: 5m 29s\n",
      "14:\tlearn: 0.8116027\ttotal: 5s\tremaining: 5m 28s\n",
      "15:\tlearn: 0.7985680\ttotal: 5.32s\tremaining: 5m 27s\n",
      "16:\tlearn: 0.7867401\ttotal: 5.63s\tremaining: 5m 25s\n",
      "17:\tlearn: 0.7691585\ttotal: 5.99s\tremaining: 5m 26s\n",
      "18:\tlearn: 0.7583099\ttotal: 6.33s\tremaining: 5m 26s\n",
      "19:\tlearn: 0.7467612\ttotal: 6.68s\tremaining: 5m 27s\n",
      "20:\tlearn: 0.7361033\ttotal: 7.13s\tremaining: 5m 32s\n",
      "21:\tlearn: 0.7262444\ttotal: 7.76s\tremaining: 5m 44s\n",
      "22:\tlearn: 0.7174735\ttotal: 8.42s\tremaining: 5m 57s\n",
      "23:\tlearn: 0.7066857\ttotal: 8.94s\tremaining: 6m 3s\n",
      "24:\tlearn: 0.6986729\ttotal: 9.38s\tremaining: 6m 5s\n",
      "25:\tlearn: 0.6910484\ttotal: 9.78s\tremaining: 6m 6s\n",
      "26:\tlearn: 0.6827986\ttotal: 10.1s\tremaining: 6m 4s\n",
      "27:\tlearn: 0.6704782\ttotal: 10.5s\tremaining: 6m 5s\n",
      "28:\tlearn: 0.6628439\ttotal: 10.8s\tremaining: 6m 2s\n",
      "29:\tlearn: 0.6496493\ttotal: 11.2s\tremaining: 6m 1s\n",
      "30:\tlearn: 0.6407646\ttotal: 11.5s\tremaining: 5m 59s\n",
      "31:\tlearn: 0.6344813\ttotal: 11.9s\tremaining: 5m 58s\n",
      "32:\tlearn: 0.6268114\ttotal: 12.2s\tremaining: 5m 56s\n",
      "33:\tlearn: 0.6175087\ttotal: 12.5s\tremaining: 5m 55s\n",
      "34:\tlearn: 0.6104179\ttotal: 12.8s\tremaining: 5m 53s\n",
      "35:\tlearn: 0.6024170\ttotal: 13.2s\tremaining: 5m 52s\n",
      "36:\tlearn: 0.5976289\ttotal: 13.5s\tremaining: 5m 50s\n",
      "37:\tlearn: 0.5907031\ttotal: 13.8s\tremaining: 5m 49s\n",
      "38:\tlearn: 0.5819476\ttotal: 14.2s\tremaining: 5m 49s\n",
      "39:\tlearn: 0.5771208\ttotal: 14.5s\tremaining: 5m 47s\n",
      "40:\tlearn: 0.5690264\ttotal: 14.8s\tremaining: 5m 46s\n",
      "41:\tlearn: 0.5619902\ttotal: 15.2s\tremaining: 5m 46s\n",
      "42:\tlearn: 0.5541176\ttotal: 15.5s\tremaining: 5m 45s\n",
      "43:\tlearn: 0.5476468\ttotal: 15.8s\tremaining: 5m 43s\n",
      "44:\tlearn: 0.5416158\ttotal: 16.1s\tremaining: 5m 42s\n",
      "45:\tlearn: 0.5348470\ttotal: 16.5s\tremaining: 5m 42s\n",
      "46:\tlearn: 0.5306876\ttotal: 16.8s\tremaining: 5m 40s\n",
      "47:\tlearn: 0.5243822\ttotal: 17.2s\tremaining: 5m 40s\n",
      "48:\tlearn: 0.5187708\ttotal: 17.5s\tremaining: 5m 40s\n",
      "49:\tlearn: 0.5151062\ttotal: 17.8s\tremaining: 5m 38s\n",
      "50:\tlearn: 0.5087257\ttotal: 18.1s\tremaining: 5m 36s\n",
      "51:\tlearn: 0.4994405\ttotal: 18.5s\tremaining: 5m 36s\n",
      "52:\tlearn: 0.4927689\ttotal: 18.8s\tremaining: 5m 35s\n",
      "53:\tlearn: 0.4880709\ttotal: 19.1s\tremaining: 5m 34s\n",
      "54:\tlearn: 0.4819898\ttotal: 19.4s\tremaining: 5m 33s\n",
      "55:\tlearn: 0.4747808\ttotal: 19.8s\tremaining: 5m 33s\n",
      "56:\tlearn: 0.4704585\ttotal: 20.1s\tremaining: 5m 31s\n",
      "57:\tlearn: 0.4643701\ttotal: 20.4s\tremaining: 5m 31s\n",
      "58:\tlearn: 0.4609730\ttotal: 20.7s\tremaining: 5m 30s\n",
      "59:\tlearn: 0.4561752\ttotal: 21s\tremaining: 5m 29s\n",
      "60:\tlearn: 0.4539306\ttotal: 21.3s\tremaining: 5m 28s\n",
      "61:\tlearn: 0.4494621\ttotal: 21.6s\tremaining: 5m 27s\n",
      "62:\tlearn: 0.4441661\ttotal: 22s\tremaining: 5m 26s\n",
      "63:\tlearn: 0.4381002\ttotal: 22.3s\tremaining: 5m 26s\n",
      "64:\tlearn: 0.4312296\ttotal: 22.6s\tremaining: 5m 25s\n",
      "65:\tlearn: 0.4228225\ttotal: 23s\tremaining: 5m 25s\n",
      "66:\tlearn: 0.4181643\ttotal: 23.3s\tremaining: 5m 24s\n",
      "67:\tlearn: 0.4134736\ttotal: 23.6s\tremaining: 5m 24s\n",
      "68:\tlearn: 0.4075781\ttotal: 24s\tremaining: 5m 24s\n",
      "69:\tlearn: 0.4015557\ttotal: 24.4s\tremaining: 5m 23s\n",
      "70:\tlearn: 0.3966483\ttotal: 24.7s\tremaining: 5m 22s\n",
      "71:\tlearn: 0.3933081\ttotal: 25s\tremaining: 5m 22s\n",
      "72:\tlearn: 0.3898247\ttotal: 25.3s\tremaining: 5m 21s\n",
      "73:\tlearn: 0.3857677\ttotal: 25.6s\tremaining: 5m 20s\n",
      "74:\tlearn: 0.3798299\ttotal: 26s\tremaining: 5m 20s\n",
      "75:\tlearn: 0.3734739\ttotal: 26.3s\tremaining: 5m 19s\n",
      "76:\tlearn: 0.3694986\ttotal: 26.6s\tremaining: 5m 19s\n",
      "77:\tlearn: 0.3650485\ttotal: 27s\tremaining: 5m 18s\n",
      "78:\tlearn: 0.3594568\ttotal: 27.3s\tremaining: 5m 18s\n",
      "79:\tlearn: 0.3547649\ttotal: 27.7s\tremaining: 5m 18s\n",
      "80:\tlearn: 0.3497922\ttotal: 28s\tremaining: 5m 17s\n",
      "81:\tlearn: 0.3491196\ttotal: 28.2s\tremaining: 5m 15s\n",
      "82:\tlearn: 0.3461799\ttotal: 28.5s\tremaining: 5m 15s\n",
      "83:\tlearn: 0.3416789\ttotal: 28.9s\tremaining: 5m 14s\n",
      "84:\tlearn: 0.3380192\ttotal: 29.2s\tremaining: 5m 14s\n",
      "85:\tlearn: 0.3353951\ttotal: 29.5s\tremaining: 5m 13s\n",
      "86:\tlearn: 0.3309852\ttotal: 29.8s\tremaining: 5m 12s\n",
      "87:\tlearn: 0.3266215\ttotal: 30.1s\tremaining: 5m 12s\n",
      "88:\tlearn: 0.3231030\ttotal: 30.4s\tremaining: 5m 11s\n",
      "89:\tlearn: 0.3181855\ttotal: 30.8s\tremaining: 5m 11s\n",
      "90:\tlearn: 0.3152491\ttotal: 31.1s\tremaining: 5m 11s\n",
      "91:\tlearn: 0.3107734\ttotal: 31.5s\tremaining: 5m 10s\n",
      "92:\tlearn: 0.3086445\ttotal: 31.8s\tremaining: 5m 10s\n",
      "93:\tlearn: 0.3052370\ttotal: 32.1s\tremaining: 5m 9s\n",
      "94:\tlearn: 0.3012604\ttotal: 32.5s\tremaining: 5m 9s\n",
      "95:\tlearn: 0.2966159\ttotal: 32.8s\tremaining: 5m 8s\n",
      "96:\tlearn: 0.2932252\ttotal: 33.2s\tremaining: 5m 8s\n",
      "97:\tlearn: 0.2885496\ttotal: 33.5s\tremaining: 5m 8s\n",
      "98:\tlearn: 0.2852767\ttotal: 33.9s\tremaining: 5m 8s\n",
      "99:\tlearn: 0.2821337\ttotal: 34.2s\tremaining: 5m 7s\n",
      "100:\tlearn: 0.2790641\ttotal: 34.5s\tremaining: 5m 7s\n",
      "101:\tlearn: 0.2778692\ttotal: 34.8s\tremaining: 5m 6s\n",
      "102:\tlearn: 0.2743850\ttotal: 35.2s\tremaining: 5m 6s\n",
      "103:\tlearn: 0.2690155\ttotal: 35.5s\tremaining: 5m 6s\n",
      "104:\tlearn: 0.2669166\ttotal: 35.9s\tremaining: 5m 5s\n",
      "105:\tlearn: 0.2634754\ttotal: 36.2s\tremaining: 5m 5s\n",
      "106:\tlearn: 0.2601589\ttotal: 36.5s\tremaining: 5m 4s\n",
      "107:\tlearn: 0.2572189\ttotal: 36.9s\tremaining: 5m 4s\n",
      "108:\tlearn: 0.2546568\ttotal: 37.3s\tremaining: 5m 4s\n",
      "109:\tlearn: 0.2501921\ttotal: 37.6s\tremaining: 5m 4s\n",
      "110:\tlearn: 0.2462793\ttotal: 38s\tremaining: 5m 3s\n",
      "111:\tlearn: 0.2432143\ttotal: 38.3s\tremaining: 5m 3s\n",
      "112:\tlearn: 0.2407786\ttotal: 38.6s\tremaining: 5m 2s\n",
      "113:\tlearn: 0.2383699\ttotal: 38.9s\tremaining: 5m 2s\n",
      "114:\tlearn: 0.2361144\ttotal: 39.3s\tremaining: 5m 2s\n",
      "115:\tlearn: 0.2343770\ttotal: 39.5s\tremaining: 5m 1s\n",
      "116:\tlearn: 0.2320352\ttotal: 39.9s\tremaining: 5m 1s\n",
      "117:\tlearn: 0.2275843\ttotal: 40.3s\tremaining: 5m 1s\n",
      "118:\tlearn: 0.2255158\ttotal: 40.6s\tremaining: 5m\n",
      "119:\tlearn: 0.2236975\ttotal: 40.9s\tremaining: 5m\n",
      "120:\tlearn: 0.2210689\ttotal: 41.2s\tremaining: 4m 59s\n",
      "121:\tlearn: 0.2193666\ttotal: 41.6s\tremaining: 4m 59s\n",
      "122:\tlearn: 0.2176071\ttotal: 41.9s\tremaining: 4m 58s\n",
      "123:\tlearn: 0.2172436\ttotal: 42.1s\tremaining: 4m 57s\n",
      "124:\tlearn: 0.2156031\ttotal: 42.5s\tremaining: 4m 57s\n",
      "125:\tlearn: 0.2141927\ttotal: 42.7s\tremaining: 4m 56s\n",
      "126:\tlearn: 0.2127190\ttotal: 43.1s\tremaining: 4m 56s\n",
      "127:\tlearn: 0.2096016\ttotal: 43.5s\tremaining: 4m 56s\n",
      "128:\tlearn: 0.2067053\ttotal: 43.8s\tremaining: 4m 55s\n",
      "129:\tlearn: 0.2049915\ttotal: 44.1s\tremaining: 4m 55s\n",
      "130:\tlearn: 0.2036884\ttotal: 44.4s\tremaining: 4m 54s\n",
      "131:\tlearn: 0.2011458\ttotal: 44.8s\tremaining: 4m 54s\n",
      "132:\tlearn: 0.2003259\ttotal: 45.1s\tremaining: 4m 53s\n",
      "133:\tlearn: 0.1987690\ttotal: 45.4s\tremaining: 4m 53s\n",
      "134:\tlearn: 0.1961360\ttotal: 45.7s\tremaining: 4m 53s\n",
      "135:\tlearn: 0.1943757\ttotal: 46s\tremaining: 4m 52s\n",
      "136:\tlearn: 0.1928940\ttotal: 46.4s\tremaining: 4m 52s\n",
      "137:\tlearn: 0.1901760\ttotal: 46.7s\tremaining: 4m 51s\n",
      "138:\tlearn: 0.1875315\ttotal: 47.1s\tremaining: 4m 51s\n",
      "139:\tlearn: 0.1857433\ttotal: 47.4s\tremaining: 4m 51s\n",
      "140:\tlearn: 0.1835528\ttotal: 47.7s\tremaining: 4m 50s\n",
      "141:\tlearn: 0.1808723\ttotal: 48.1s\tremaining: 4m 50s\n",
      "142:\tlearn: 0.1788078\ttotal: 48.4s\tremaining: 4m 50s\n",
      "143:\tlearn: 0.1764922\ttotal: 48.8s\tremaining: 4m 50s\n",
      "144:\tlearn: 0.1739467\ttotal: 49.2s\tremaining: 4m 49s\n",
      "145:\tlearn: 0.1722867\ttotal: 49.5s\tremaining: 4m 49s\n",
      "146:\tlearn: 0.1707172\ttotal: 49.8s\tremaining: 4m 49s\n",
      "147:\tlearn: 0.1695924\ttotal: 50.1s\tremaining: 4m 48s\n",
      "148:\tlearn: 0.1685060\ttotal: 50.4s\tremaining: 4m 47s\n",
      "149:\tlearn: 0.1656599\ttotal: 50.7s\tremaining: 4m 47s\n",
      "150:\tlearn: 0.1644564\ttotal: 51.1s\tremaining: 4m 47s\n",
      "151:\tlearn: 0.1616850\ttotal: 51.4s\tremaining: 4m 46s\n",
      "152:\tlearn: 0.1606572\ttotal: 51.8s\tremaining: 4m 46s\n",
      "153:\tlearn: 0.1595857\ttotal: 52.1s\tremaining: 4m 46s\n",
      "154:\tlearn: 0.1573450\ttotal: 52.5s\tremaining: 4m 46s\n",
      "155:\tlearn: 0.1548730\ttotal: 52.8s\tremaining: 4m 45s\n",
      "156:\tlearn: 0.1533373\ttotal: 53.2s\tremaining: 4m 45s\n",
      "157:\tlearn: 0.1514480\ttotal: 53.5s\tremaining: 4m 45s\n",
      "158:\tlearn: 0.1494191\ttotal: 53.9s\tremaining: 4m 44s\n",
      "159:\tlearn: 0.1487095\ttotal: 54.2s\tremaining: 4m 44s\n",
      "160:\tlearn: 0.1469438\ttotal: 54.5s\tremaining: 4m 44s\n",
      "161:\tlearn: 0.1452058\ttotal: 54.8s\tremaining: 4m 43s\n",
      "162:\tlearn: 0.1436852\ttotal: 55.2s\tremaining: 4m 43s\n",
      "163:\tlearn: 0.1420228\ttotal: 55.5s\tremaining: 4m 42s\n",
      "164:\tlearn: 0.1410342\ttotal: 55.8s\tremaining: 4m 42s\n",
      "165:\tlearn: 0.1400326\ttotal: 56.1s\tremaining: 4m 41s\n",
      "166:\tlearn: 0.1389361\ttotal: 56.4s\tremaining: 4m 41s\n",
      "167:\tlearn: 0.1376839\ttotal: 56.7s\tremaining: 4m 40s\n",
      "168:\tlearn: 0.1361959\ttotal: 57.1s\tremaining: 4m 40s\n",
      "169:\tlearn: 0.1340789\ttotal: 57.4s\tremaining: 4m 40s\n",
      "170:\tlearn: 0.1325290\ttotal: 57.8s\tremaining: 4m 40s\n",
      "171:\tlearn: 0.1311707\ttotal: 58.1s\tremaining: 4m 39s\n",
      "172:\tlearn: 0.1297146\ttotal: 58.5s\tremaining: 4m 39s\n",
      "173:\tlearn: 0.1287761\ttotal: 58.9s\tremaining: 4m 39s\n",
      "174:\tlearn: 0.1278504\ttotal: 59.2s\tremaining: 4m 38s\n",
      "175:\tlearn: 0.1265070\ttotal: 59.5s\tremaining: 4m 38s\n",
      "176:\tlearn: 0.1261282\ttotal: 59.8s\tremaining: 4m 38s\n",
      "177:\tlearn: 0.1251160\ttotal: 1m\tremaining: 4m 37s\n",
      "178:\tlearn: 0.1235743\ttotal: 1m\tremaining: 4m 37s\n",
      "179:\tlearn: 0.1222664\ttotal: 1m\tremaining: 4m 36s\n",
      "180:\tlearn: 0.1210023\ttotal: 1m 1s\tremaining: 4m 36s\n",
      "181:\tlearn: 0.1201482\ttotal: 1m 1s\tremaining: 4m 35s\n",
      "182:\tlearn: 0.1189223\ttotal: 1m 1s\tremaining: 4m 35s\n",
      "183:\tlearn: 0.1179248\ttotal: 1m 2s\tremaining: 4m 35s\n",
      "184:\tlearn: 0.1165742\ttotal: 1m 2s\tremaining: 4m 35s\n",
      "185:\tlearn: 0.1158471\ttotal: 1m 2s\tremaining: 4m 34s\n",
      "186:\tlearn: 0.1147830\ttotal: 1m 3s\tremaining: 4m 34s\n",
      "187:\tlearn: 0.1139330\ttotal: 1m 3s\tremaining: 4m 33s\n",
      "188:\tlearn: 0.1128379\ttotal: 1m 3s\tremaining: 4m 33s\n",
      "189:\tlearn: 0.1118898\ttotal: 1m 4s\tremaining: 4m 33s\n",
      "190:\tlearn: 0.1101484\ttotal: 1m 4s\tremaining: 4m 33s\n",
      "191:\tlearn: 0.1088446\ttotal: 1m 4s\tremaining: 4m 33s\n",
      "192:\tlearn: 0.1080981\ttotal: 1m 5s\tremaining: 4m 32s\n",
      "193:\tlearn: 0.1072260\ttotal: 1m 5s\tremaining: 4m 32s\n",
      "194:\tlearn: 0.1062706\ttotal: 1m 5s\tremaining: 4m 32s\n",
      "195:\tlearn: 0.1050248\ttotal: 1m 6s\tremaining: 4m 32s\n",
      "196:\tlearn: 0.1036173\ttotal: 1m 6s\tremaining: 4m 31s\n",
      "197:\tlearn: 0.1023264\ttotal: 1m 7s\tremaining: 4m 31s\n",
      "198:\tlearn: 0.1011056\ttotal: 1m 7s\tremaining: 4m 31s\n",
      "199:\tlearn: 0.1006362\ttotal: 1m 7s\tremaining: 4m 30s\n",
      "200:\tlearn: 0.0999344\ttotal: 1m 7s\tremaining: 4m 29s\n",
      "201:\tlearn: 0.0993448\ttotal: 1m 8s\tremaining: 4m 29s\n",
      "202:\tlearn: 0.0986960\ttotal: 1m 8s\tremaining: 4m 29s\n",
      "203:\tlearn: 0.0980349\ttotal: 1m 8s\tremaining: 4m 28s\n",
      "204:\tlearn: 0.0975028\ttotal: 1m 9s\tremaining: 4m 28s\n",
      "205:\tlearn: 0.0962195\ttotal: 1m 9s\tremaining: 4m 28s\n",
      "206:\tlearn: 0.0957571\ttotal: 1m 9s\tremaining: 4m 27s\n",
      "207:\tlearn: 0.0946255\ttotal: 1m 10s\tremaining: 4m 27s\n",
      "208:\tlearn: 0.0934194\ttotal: 1m 10s\tremaining: 4m 26s\n",
      "209:\tlearn: 0.0927493\ttotal: 1m 10s\tremaining: 4m 26s\n",
      "210:\tlearn: 0.0917288\ttotal: 1m 11s\tremaining: 4m 26s\n",
      "211:\tlearn: 0.0910722\ttotal: 1m 11s\tremaining: 4m 26s\n",
      "212:\tlearn: 0.0904897\ttotal: 1m 11s\tremaining: 4m 25s\n",
      "213:\tlearn: 0.0898476\ttotal: 1m 12s\tremaining: 4m 25s\n",
      "214:\tlearn: 0.0889869\ttotal: 1m 12s\tremaining: 4m 24s\n",
      "215:\tlearn: 0.0881767\ttotal: 1m 12s\tremaining: 4m 24s\n",
      "216:\tlearn: 0.0878042\ttotal: 1m 13s\tremaining: 4m 23s\n",
      "217:\tlearn: 0.0868651\ttotal: 1m 13s\tremaining: 4m 23s\n",
      "218:\tlearn: 0.0852417\ttotal: 1m 13s\tremaining: 4m 23s\n",
      "219:\tlearn: 0.0848448\ttotal: 1m 14s\tremaining: 4m 22s\n",
      "220:\tlearn: 0.0842598\ttotal: 1m 14s\tremaining: 4m 22s\n",
      "221:\tlearn: 0.0830441\ttotal: 1m 14s\tremaining: 4m 22s\n",
      "222:\tlearn: 0.0823640\ttotal: 1m 15s\tremaining: 4m 21s\n",
      "223:\tlearn: 0.0817388\ttotal: 1m 15s\tremaining: 4m 21s\n",
      "224:\tlearn: 0.0805168\ttotal: 1m 15s\tremaining: 4m 21s\n",
      "225:\tlearn: 0.0794815\ttotal: 1m 16s\tremaining: 4m 21s\n",
      "226:\tlearn: 0.0787115\ttotal: 1m 16s\tremaining: 4m 20s\n",
      "227:\tlearn: 0.0780113\ttotal: 1m 16s\tremaining: 4m 20s\n",
      "228:\tlearn: 0.0773653\ttotal: 1m 17s\tremaining: 4m 20s\n",
      "229:\tlearn: 0.0765813\ttotal: 1m 17s\tremaining: 4m 19s\n",
      "230:\tlearn: 0.0764245\ttotal: 1m 17s\tremaining: 4m 19s\n",
      "231:\tlearn: 0.0755575\ttotal: 1m 18s\tremaining: 4m 18s\n",
      "232:\tlearn: 0.0748615\ttotal: 1m 18s\tremaining: 4m 18s\n",
      "233:\tlearn: 0.0741851\ttotal: 1m 18s\tremaining: 4m 18s\n",
      "234:\tlearn: 0.0731457\ttotal: 1m 19s\tremaining: 4m 17s\n",
      "235:\tlearn: 0.0726092\ttotal: 1m 19s\tremaining: 4m 17s\n",
      "236:\tlearn: 0.0719998\ttotal: 1m 19s\tremaining: 4m 17s\n",
      "237:\tlearn: 0.0708734\ttotal: 1m 20s\tremaining: 4m 16s\n",
      "238:\tlearn: 0.0701018\ttotal: 1m 20s\tremaining: 4m 16s\n",
      "239:\tlearn: 0.0695947\ttotal: 1m 20s\tremaining: 4m 16s\n",
      "240:\tlearn: 0.0690211\ttotal: 1m 21s\tremaining: 4m 15s\n",
      "241:\tlearn: 0.0679253\ttotal: 1m 21s\tremaining: 4m 15s\n",
      "242:\tlearn: 0.0674688\ttotal: 1m 21s\tremaining: 4m 15s\n",
      "243:\tlearn: 0.0669991\ttotal: 1m 22s\tremaining: 4m 14s\n",
      "244:\tlearn: 0.0663928\ttotal: 1m 22s\tremaining: 4m 14s\n",
      "245:\tlearn: 0.0654944\ttotal: 1m 22s\tremaining: 4m 14s\n",
      "246:\tlearn: 0.0644438\ttotal: 1m 23s\tremaining: 4m 13s\n",
      "247:\tlearn: 0.0638875\ttotal: 1m 23s\tremaining: 4m 13s\n",
      "248:\tlearn: 0.0631692\ttotal: 1m 23s\tremaining: 4m 13s\n",
      "249:\tlearn: 0.0626238\ttotal: 1m 24s\tremaining: 4m 12s\n",
      "250:\tlearn: 0.0620226\ttotal: 1m 24s\tremaining: 4m 12s\n",
      "251:\tlearn: 0.0615640\ttotal: 1m 25s\tremaining: 4m 12s\n",
      "252:\tlearn: 0.0609539\ttotal: 1m 25s\tremaining: 4m 12s\n",
      "253:\tlearn: 0.0603484\ttotal: 1m 25s\tremaining: 4m 11s\n",
      "254:\tlearn: 0.0599200\ttotal: 1m 26s\tremaining: 4m 11s\n",
      "255:\tlearn: 0.0594932\ttotal: 1m 26s\tremaining: 4m 11s\n",
      "256:\tlearn: 0.0586971\ttotal: 1m 26s\tremaining: 4m 11s\n",
      "257:\tlearn: 0.0582544\ttotal: 1m 27s\tremaining: 4m 10s\n",
      "258:\tlearn: 0.0578468\ttotal: 1m 27s\tremaining: 4m 10s\n",
      "259:\tlearn: 0.0574024\ttotal: 1m 28s\tremaining: 4m 10s\n",
      "260:\tlearn: 0.0568680\ttotal: 1m 28s\tremaining: 4m 10s\n",
      "261:\tlearn: 0.0565320\ttotal: 1m 28s\tremaining: 4m 9s\n",
      "262:\tlearn: 0.0562229\ttotal: 1m 29s\tremaining: 4m 9s\n",
      "263:\tlearn: 0.0559374\ttotal: 1m 29s\tremaining: 4m 9s\n",
      "264:\tlearn: 0.0553875\ttotal: 1m 29s\tremaining: 4m 8s\n",
      "265:\tlearn: 0.0547230\ttotal: 1m 30s\tremaining: 4m 8s\n",
      "266:\tlearn: 0.0542738\ttotal: 1m 30s\tremaining: 4m 8s\n",
      "267:\tlearn: 0.0537146\ttotal: 1m 30s\tremaining: 4m 7s\n",
      "268:\tlearn: 0.0529642\ttotal: 1m 31s\tremaining: 4m 7s\n",
      "269:\tlearn: 0.0524504\ttotal: 1m 31s\tremaining: 4m 7s\n",
      "270:\tlearn: 0.0522268\ttotal: 1m 31s\tremaining: 4m 6s\n",
      "271:\tlearn: 0.0518844\ttotal: 1m 32s\tremaining: 4m 6s\n",
      "272:\tlearn: 0.0514260\ttotal: 1m 32s\tremaining: 4m 6s\n",
      "273:\tlearn: 0.0509306\ttotal: 1m 32s\tremaining: 4m 5s\n",
      "274:\tlearn: 0.0504550\ttotal: 1m 33s\tremaining: 4m 5s\n",
      "275:\tlearn: 0.0500574\ttotal: 1m 33s\tremaining: 4m 5s\n",
      "276:\tlearn: 0.0497463\ttotal: 1m 33s\tremaining: 4m 4s\n",
      "277:\tlearn: 0.0492978\ttotal: 1m 34s\tremaining: 4m 4s\n",
      "278:\tlearn: 0.0489936\ttotal: 1m 34s\tremaining: 4m 4s\n",
      "279:\tlearn: 0.0484916\ttotal: 1m 34s\tremaining: 4m 3s\n",
      "280:\tlearn: 0.0482580\ttotal: 1m 35s\tremaining: 4m 3s\n",
      "281:\tlearn: 0.0475703\ttotal: 1m 35s\tremaining: 4m 3s\n",
      "282:\tlearn: 0.0469710\ttotal: 1m 35s\tremaining: 4m 2s\n",
      "283:\tlearn: 0.0464751\ttotal: 1m 36s\tremaining: 4m 2s\n",
      "284:\tlearn: 0.0459477\ttotal: 1m 36s\tremaining: 4m 2s\n",
      "285:\tlearn: 0.0458715\ttotal: 1m 36s\tremaining: 4m 1s\n",
      "286:\tlearn: 0.0454406\ttotal: 1m 37s\tremaining: 4m 1s\n",
      "287:\tlearn: 0.0451257\ttotal: 1m 37s\tremaining: 4m\n",
      "288:\tlearn: 0.0449027\ttotal: 1m 37s\tremaining: 4m\n",
      "289:\tlearn: 0.0446044\ttotal: 1m 38s\tremaining: 4m\n",
      "290:\tlearn: 0.0443398\ttotal: 1m 38s\tremaining: 3m 59s\n",
      "291:\tlearn: 0.0439093\ttotal: 1m 38s\tremaining: 3m 59s\n",
      "292:\tlearn: 0.0435585\ttotal: 1m 39s\tremaining: 3m 58s\n",
      "293:\tlearn: 0.0433232\ttotal: 1m 39s\tremaining: 3m 58s\n",
      "294:\tlearn: 0.0428217\ttotal: 1m 39s\tremaining: 3m 58s\n",
      "295:\tlearn: 0.0425323\ttotal: 1m 40s\tremaining: 3m 57s\n",
      "296:\tlearn: 0.0422250\ttotal: 1m 40s\tremaining: 3m 57s\n",
      "297:\tlearn: 0.0418327\ttotal: 1m 40s\tremaining: 3m 57s\n",
      "298:\tlearn: 0.0414821\ttotal: 1m 40s\tremaining: 3m 56s\n",
      "299:\tlearn: 0.0410947\ttotal: 1m 41s\tremaining: 3m 56s\n",
      "300:\tlearn: 0.0407532\ttotal: 1m 41s\tremaining: 3m 56s\n",
      "301:\tlearn: 0.0403367\ttotal: 1m 42s\tremaining: 3m 55s\n",
      "302:\tlearn: 0.0401270\ttotal: 1m 42s\tremaining: 3m 55s\n",
      "303:\tlearn: 0.0398858\ttotal: 1m 42s\tremaining: 3m 55s\n",
      "304:\tlearn: 0.0395711\ttotal: 1m 43s\tremaining: 3m 54s\n",
      "305:\tlearn: 0.0390127\ttotal: 1m 43s\tremaining: 3m 54s\n",
      "306:\tlearn: 0.0387352\ttotal: 1m 43s\tremaining: 3m 54s\n",
      "307:\tlearn: 0.0383230\ttotal: 1m 44s\tremaining: 3m 53s\n",
      "308:\tlearn: 0.0380937\ttotal: 1m 44s\tremaining: 3m 53s\n",
      "309:\tlearn: 0.0377177\ttotal: 1m 44s\tremaining: 3m 53s\n",
      "310:\tlearn: 0.0372314\ttotal: 1m 45s\tremaining: 3m 52s\n",
      "311:\tlearn: 0.0368556\ttotal: 1m 45s\tremaining: 3m 52s\n",
      "312:\tlearn: 0.0366157\ttotal: 1m 45s\tremaining: 3m 51s\n",
      "313:\tlearn: 0.0363768\ttotal: 1m 46s\tremaining: 3m 51s\n",
      "314:\tlearn: 0.0359174\ttotal: 1m 46s\tremaining: 3m 51s\n",
      "315:\tlearn: 0.0357239\ttotal: 1m 46s\tremaining: 3m 50s\n",
      "316:\tlearn: 0.0352862\ttotal: 1m 47s\tremaining: 3m 50s\n",
      "317:\tlearn: 0.0349124\ttotal: 1m 47s\tremaining: 3m 50s\n",
      "318:\tlearn: 0.0345723\ttotal: 1m 47s\tremaining: 3m 49s\n",
      "319:\tlearn: 0.0342868\ttotal: 1m 48s\tremaining: 3m 49s\n",
      "320:\tlearn: 0.0339551\ttotal: 1m 48s\tremaining: 3m 49s\n",
      "321:\tlearn: 0.0337327\ttotal: 1m 48s\tremaining: 3m 48s\n",
      "322:\tlearn: 0.0332113\ttotal: 1m 49s\tremaining: 3m 48s\n",
      "323:\tlearn: 0.0328591\ttotal: 1m 49s\tremaining: 3m 48s\n",
      "324:\tlearn: 0.0325473\ttotal: 1m 49s\tremaining: 3m 48s\n",
      "325:\tlearn: 0.0323692\ttotal: 1m 50s\tremaining: 3m 47s\n",
      "326:\tlearn: 0.0321440\ttotal: 1m 50s\tremaining: 3m 47s\n",
      "327:\tlearn: 0.0316657\ttotal: 1m 50s\tremaining: 3m 46s\n",
      "328:\tlearn: 0.0314812\ttotal: 1m 51s\tremaining: 3m 46s\n",
      "329:\tlearn: 0.0312190\ttotal: 1m 51s\tremaining: 3m 46s\n",
      "330:\tlearn: 0.0309798\ttotal: 1m 51s\tremaining: 3m 45s\n",
      "331:\tlearn: 0.0306309\ttotal: 1m 52s\tremaining: 3m 45s\n",
      "332:\tlearn: 0.0305799\ttotal: 1m 52s\tremaining: 3m 45s\n",
      "333:\tlearn: 0.0301842\ttotal: 1m 52s\tremaining: 3m 44s\n",
      "334:\tlearn: 0.0297697\ttotal: 1m 53s\tremaining: 3m 44s\n",
      "335:\tlearn: 0.0296148\ttotal: 1m 53s\tremaining: 3m 44s\n",
      "336:\tlearn: 0.0294369\ttotal: 1m 53s\tremaining: 3m 43s\n",
      "337:\tlearn: 0.0291332\ttotal: 1m 54s\tremaining: 3m 43s\n",
      "338:\tlearn: 0.0287692\ttotal: 1m 54s\tremaining: 3m 42s\n",
      "339:\tlearn: 0.0284869\ttotal: 1m 54s\tremaining: 3m 42s\n",
      "340:\tlearn: 0.0282754\ttotal: 1m 55s\tremaining: 3m 42s\n",
      "341:\tlearn: 0.0279821\ttotal: 1m 55s\tremaining: 3m 41s\n",
      "342:\tlearn: 0.0276759\ttotal: 1m 55s\tremaining: 3m 41s\n",
      "343:\tlearn: 0.0273715\ttotal: 1m 56s\tremaining: 3m 41s\n",
      "344:\tlearn: 0.0269942\ttotal: 1m 56s\tremaining: 3m 40s\n",
      "345:\tlearn: 0.0266298\ttotal: 1m 56s\tremaining: 3m 40s\n",
      "346:\tlearn: 0.0264413\ttotal: 1m 57s\tremaining: 3m 40s\n",
      "347:\tlearn: 0.0262627\ttotal: 1m 57s\tremaining: 3m 40s\n",
      "348:\tlearn: 0.0260299\ttotal: 1m 57s\tremaining: 3m 39s\n",
      "349:\tlearn: 0.0258267\ttotal: 1m 58s\tremaining: 3m 39s\n",
      "350:\tlearn: 0.0256935\ttotal: 1m 58s\tremaining: 3m 39s\n",
      "351:\tlearn: 0.0255566\ttotal: 1m 58s\tremaining: 3m 38s\n",
      "352:\tlearn: 0.0252988\ttotal: 1m 59s\tremaining: 3m 38s\n",
      "353:\tlearn: 0.0250854\ttotal: 1m 59s\tremaining: 3m 37s\n",
      "354:\tlearn: 0.0248808\ttotal: 1m 59s\tremaining: 3m 37s\n",
      "355:\tlearn: 0.0247389\ttotal: 2m\tremaining: 3m 37s\n",
      "356:\tlearn: 0.0245735\ttotal: 2m\tremaining: 3m 36s\n",
      "357:\tlearn: 0.0242938\ttotal: 2m\tremaining: 3m 36s\n",
      "358:\tlearn: 0.0241559\ttotal: 2m 1s\tremaining: 3m 36s\n",
      "359:\tlearn: 0.0239610\ttotal: 2m 1s\tremaining: 3m 35s\n",
      "360:\tlearn: 0.0237488\ttotal: 2m 1s\tremaining: 3m 35s\n",
      "361:\tlearn: 0.0234675\ttotal: 2m 2s\tremaining: 3m 35s\n",
      "362:\tlearn: 0.0233134\ttotal: 2m 2s\tremaining: 3m 34s\n",
      "363:\tlearn: 0.0232093\ttotal: 2m 2s\tremaining: 3m 34s\n",
      "364:\tlearn: 0.0230020\ttotal: 2m 3s\tremaining: 3m 34s\n",
      "365:\tlearn: 0.0228407\ttotal: 2m 3s\tremaining: 3m 33s\n",
      "366:\tlearn: 0.0226172\ttotal: 2m 3s\tremaining: 3m 33s\n",
      "367:\tlearn: 0.0225902\ttotal: 2m 4s\tremaining: 3m 32s\n",
      "368:\tlearn: 0.0222920\ttotal: 2m 4s\tremaining: 3m 32s\n",
      "369:\tlearn: 0.0220989\ttotal: 2m 4s\tremaining: 3m 32s\n",
      "370:\tlearn: 0.0219870\ttotal: 2m 5s\tremaining: 3m 32s\n",
      "371:\tlearn: 0.0217463\ttotal: 2m 5s\tremaining: 3m 31s\n",
      "372:\tlearn: 0.0215387\ttotal: 2m 5s\tremaining: 3m 31s\n",
      "373:\tlearn: 0.0214430\ttotal: 2m 6s\tremaining: 3m 31s\n",
      "374:\tlearn: 0.0212040\ttotal: 2m 6s\tremaining: 3m 30s\n",
      "375:\tlearn: 0.0211160\ttotal: 2m 6s\tremaining: 3m 30s\n",
      "376:\tlearn: 0.0209631\ttotal: 2m 7s\tremaining: 3m 29s\n",
      "377:\tlearn: 0.0207182\ttotal: 2m 7s\tremaining: 3m 29s\n",
      "378:\tlearn: 0.0204411\ttotal: 2m 7s\tremaining: 3m 29s\n",
      "379:\tlearn: 0.0203052\ttotal: 2m 7s\tremaining: 3m 28s\n",
      "380:\tlearn: 0.0201406\ttotal: 2m 8s\tremaining: 3m 28s\n",
      "381:\tlearn: 0.0199992\ttotal: 2m 8s\tremaining: 3m 28s\n",
      "382:\tlearn: 0.0199769\ttotal: 2m 8s\tremaining: 3m 27s\n",
      "383:\tlearn: 0.0198282\ttotal: 2m 9s\tremaining: 3m 27s\n",
      "384:\tlearn: 0.0197055\ttotal: 2m 9s\tremaining: 3m 26s\n",
      "385:\tlearn: 0.0195703\ttotal: 2m 9s\tremaining: 3m 26s\n",
      "386:\tlearn: 0.0193923\ttotal: 2m 10s\tremaining: 3m 26s\n",
      "387:\tlearn: 0.0191926\ttotal: 2m 10s\tremaining: 3m 25s\n",
      "388:\tlearn: 0.0190044\ttotal: 2m 10s\tremaining: 3m 25s\n",
      "389:\tlearn: 0.0188765\ttotal: 2m 11s\tremaining: 3m 25s\n",
      "390:\tlearn: 0.0185465\ttotal: 2m 11s\tremaining: 3m 24s\n",
      "391:\tlearn: 0.0184889\ttotal: 2m 11s\tremaining: 3m 24s\n",
      "392:\tlearn: 0.0183863\ttotal: 2m 12s\tremaining: 3m 24s\n",
      "393:\tlearn: 0.0182200\ttotal: 2m 12s\tremaining: 3m 23s\n",
      "394:\tlearn: 0.0181169\ttotal: 2m 12s\tremaining: 3m 23s\n",
      "395:\tlearn: 0.0179979\ttotal: 2m 13s\tremaining: 3m 23s\n",
      "396:\tlearn: 0.0177739\ttotal: 2m 13s\tremaining: 3m 22s\n",
      "397:\tlearn: 0.0176474\ttotal: 2m 13s\tremaining: 3m 22s\n",
      "398:\tlearn: 0.0173992\ttotal: 2m 14s\tremaining: 3m 22s\n",
      "399:\tlearn: 0.0172218\ttotal: 2m 14s\tremaining: 3m 22s\n",
      "400:\tlearn: 0.0171342\ttotal: 2m 15s\tremaining: 3m 21s\n",
      "401:\tlearn: 0.0169808\ttotal: 2m 15s\tremaining: 3m 21s\n",
      "402:\tlearn: 0.0168534\ttotal: 2m 15s\tremaining: 3m 21s\n",
      "403:\tlearn: 0.0167418\ttotal: 2m 16s\tremaining: 3m 20s\n",
      "404:\tlearn: 0.0165480\ttotal: 2m 16s\tremaining: 3m 20s\n",
      "405:\tlearn: 0.0164473\ttotal: 2m 16s\tremaining: 3m 20s\n",
      "406:\tlearn: 0.0162499\ttotal: 2m 17s\tremaining: 3m 19s\n",
      "407:\tlearn: 0.0160958\ttotal: 2m 17s\tremaining: 3m 19s\n",
      "408:\tlearn: 0.0159372\ttotal: 2m 17s\tremaining: 3m 19s\n",
      "409:\tlearn: 0.0158007\ttotal: 2m 18s\tremaining: 3m 18s\n",
      "410:\tlearn: 0.0156809\ttotal: 2m 18s\tremaining: 3m 18s\n",
      "411:\tlearn: 0.0155349\ttotal: 2m 18s\tremaining: 3m 18s\n",
      "412:\tlearn: 0.0154770\ttotal: 2m 19s\tremaining: 3m 17s\n",
      "413:\tlearn: 0.0153727\ttotal: 2m 19s\tremaining: 3m 17s\n",
      "414:\tlearn: 0.0151752\ttotal: 2m 19s\tremaining: 3m 17s\n",
      "415:\tlearn: 0.0149851\ttotal: 2m 20s\tremaining: 3m 16s\n",
      "416:\tlearn: 0.0149022\ttotal: 2m 20s\tremaining: 3m 16s\n",
      "417:\tlearn: 0.0147269\ttotal: 2m 20s\tremaining: 3m 16s\n",
      "418:\tlearn: 0.0145968\ttotal: 2m 21s\tremaining: 3m 15s\n",
      "419:\tlearn: 0.0145717\ttotal: 2m 21s\tremaining: 3m 15s\n",
      "420:\tlearn: 0.0144950\ttotal: 2m 21s\tremaining: 3m 14s\n",
      "421:\tlearn: 0.0144015\ttotal: 2m 22s\tremaining: 3m 14s\n",
      "422:\tlearn: 0.0142430\ttotal: 2m 22s\tremaining: 3m 14s\n",
      "423:\tlearn: 0.0141218\ttotal: 2m 22s\tremaining: 3m 13s\n",
      "424:\tlearn: 0.0139850\ttotal: 2m 23s\tremaining: 3m 13s\n",
      "425:\tlearn: 0.0138858\ttotal: 2m 23s\tremaining: 3m 13s\n",
      "426:\tlearn: 0.0138086\ttotal: 2m 23s\tremaining: 3m 12s\n",
      "427:\tlearn: 0.0137293\ttotal: 2m 24s\tremaining: 3m 12s\n",
      "428:\tlearn: 0.0136485\ttotal: 2m 24s\tremaining: 3m 12s\n",
      "429:\tlearn: 0.0136337\ttotal: 2m 24s\tremaining: 3m 11s\n",
      "430:\tlearn: 0.0134607\ttotal: 2m 24s\tremaining: 3m 11s\n",
      "431:\tlearn: 0.0133191\ttotal: 2m 25s\tremaining: 3m 11s\n",
      "432:\tlearn: 0.0132079\ttotal: 2m 25s\tremaining: 3m 10s\n",
      "433:\tlearn: 0.0131061\ttotal: 2m 26s\tremaining: 3m 10s\n",
      "434:\tlearn: 0.0129591\ttotal: 2m 26s\tremaining: 3m 10s\n",
      "435:\tlearn: 0.0128834\ttotal: 2m 26s\tremaining: 3m 9s\n",
      "436:\tlearn: 0.0128041\ttotal: 2m 27s\tremaining: 3m 9s\n",
      "437:\tlearn: 0.0127370\ttotal: 2m 27s\tremaining: 3m 9s\n",
      "438:\tlearn: 0.0126390\ttotal: 2m 27s\tremaining: 3m 8s\n",
      "439:\tlearn: 0.0124881\ttotal: 2m 28s\tremaining: 3m 8s\n",
      "440:\tlearn: 0.0123916\ttotal: 2m 28s\tremaining: 3m 8s\n",
      "441:\tlearn: 0.0122367\ttotal: 2m 28s\tremaining: 3m 7s\n",
      "442:\tlearn: 0.0121506\ttotal: 2m 29s\tremaining: 3m 7s\n",
      "443:\tlearn: 0.0120582\ttotal: 2m 29s\tremaining: 3m 7s\n",
      "444:\tlearn: 0.0119910\ttotal: 2m 29s\tremaining: 3m 6s\n",
      "445:\tlearn: 0.0119070\ttotal: 2m 30s\tremaining: 3m 6s\n",
      "446:\tlearn: 0.0118593\ttotal: 2m 30s\tremaining: 3m 6s\n",
      "447:\tlearn: 0.0117530\ttotal: 2m 30s\tremaining: 3m 5s\n",
      "448:\tlearn: 0.0116818\ttotal: 2m 31s\tremaining: 3m 5s\n",
      "449:\tlearn: 0.0116008\ttotal: 2m 31s\tremaining: 3m 4s\n",
      "450:\tlearn: 0.0114300\ttotal: 2m 31s\tremaining: 3m 4s\n",
      "451:\tlearn: 0.0113227\ttotal: 2m 32s\tremaining: 3m 4s\n",
      "452:\tlearn: 0.0112689\ttotal: 2m 32s\tremaining: 3m 4s\n",
      "453:\tlearn: 0.0111719\ttotal: 2m 32s\tremaining: 3m 3s\n",
      "454:\tlearn: 0.0110240\ttotal: 2m 33s\tremaining: 3m 3s\n",
      "455:\tlearn: 0.0109698\ttotal: 2m 33s\tremaining: 3m 3s\n",
      "456:\tlearn: 0.0108765\ttotal: 2m 33s\tremaining: 3m 2s\n",
      "457:\tlearn: 0.0107987\ttotal: 2m 34s\tremaining: 3m 2s\n",
      "458:\tlearn: 0.0106967\ttotal: 2m 34s\tremaining: 3m 2s\n",
      "459:\tlearn: 0.0106009\ttotal: 2m 34s\tremaining: 3m 1s\n",
      "460:\tlearn: 0.0104962\ttotal: 2m 35s\tremaining: 3m 1s\n",
      "461:\tlearn: 0.0104151\ttotal: 2m 35s\tremaining: 3m 1s\n",
      "462:\tlearn: 0.0103554\ttotal: 2m 35s\tremaining: 3m\n",
      "463:\tlearn: 0.0102958\ttotal: 2m 36s\tremaining: 3m\n",
      "464:\tlearn: 0.0102649\ttotal: 2m 36s\tremaining: 2m 59s\n",
      "465:\tlearn: 0.0101850\ttotal: 2m 36s\tremaining: 2m 59s\n",
      "466:\tlearn: 0.0101265\ttotal: 2m 37s\tremaining: 2m 59s\n",
      "467:\tlearn: 0.0100115\ttotal: 2m 37s\tremaining: 2m 58s\n",
      "468:\tlearn: 0.0099123\ttotal: 2m 37s\tremaining: 2m 58s\n",
      "469:\tlearn: 0.0098263\ttotal: 2m 38s\tremaining: 2m 58s\n",
      "470:\tlearn: 0.0096724\ttotal: 2m 38s\tremaining: 2m 57s\n",
      "471:\tlearn: 0.0095292\ttotal: 2m 38s\tremaining: 2m 57s\n",
      "472:\tlearn: 0.0094480\ttotal: 2m 39s\tremaining: 2m 57s\n",
      "473:\tlearn: 0.0093965\ttotal: 2m 39s\tremaining: 2m 56s\n",
      "474:\tlearn: 0.0093372\ttotal: 2m 39s\tremaining: 2m 56s\n",
      "475:\tlearn: 0.0092701\ttotal: 2m 40s\tremaining: 2m 56s\n",
      "476:\tlearn: 0.0091810\ttotal: 2m 40s\tremaining: 2m 55s\n",
      "477:\tlearn: 0.0090976\ttotal: 2m 40s\tremaining: 2m 55s\n",
      "478:\tlearn: 0.0090169\ttotal: 2m 41s\tremaining: 2m 55s\n",
      "479:\tlearn: 0.0089602\ttotal: 2m 41s\tremaining: 2m 54s\n",
      "480:\tlearn: 0.0088361\ttotal: 2m 41s\tremaining: 2m 54s\n",
      "481:\tlearn: 0.0087552\ttotal: 2m 42s\tremaining: 2m 54s\n",
      "482:\tlearn: 0.0086985\ttotal: 2m 42s\tremaining: 2m 53s\n",
      "483:\tlearn: 0.0086450\ttotal: 2m 42s\tremaining: 2m 53s\n",
      "484:\tlearn: 0.0085784\ttotal: 2m 43s\tremaining: 2m 53s\n",
      "485:\tlearn: 0.0084689\ttotal: 2m 43s\tremaining: 2m 53s\n",
      "486:\tlearn: 0.0084380\ttotal: 2m 44s\tremaining: 2m 52s\n",
      "487:\tlearn: 0.0083574\ttotal: 2m 44s\tremaining: 2m 52s\n",
      "488:\tlearn: 0.0082707\ttotal: 2m 44s\tremaining: 2m 52s\n",
      "489:\tlearn: 0.0082181\ttotal: 2m 44s\tremaining: 2m 51s\n",
      "490:\tlearn: 0.0081524\ttotal: 2m 45s\tremaining: 2m 51s\n",
      "491:\tlearn: 0.0080694\ttotal: 2m 45s\tremaining: 2m 51s\n",
      "492:\tlearn: 0.0080022\ttotal: 2m 46s\tremaining: 2m 50s\n",
      "493:\tlearn: 0.0079197\ttotal: 2m 46s\tremaining: 2m 50s\n",
      "494:\tlearn: 0.0078665\ttotal: 2m 46s\tremaining: 2m 50s\n",
      "495:\tlearn: 0.0078067\ttotal: 2m 47s\tremaining: 2m 49s\n",
      "496:\tlearn: 0.0077476\ttotal: 2m 47s\tremaining: 2m 49s\n",
      "497:\tlearn: 0.0077044\ttotal: 2m 47s\tremaining: 2m 49s\n",
      "498:\tlearn: 0.0076315\ttotal: 2m 48s\tremaining: 2m 48s\n",
      "499:\tlearn: 0.0076066\ttotal: 2m 48s\tremaining: 2m 48s\n",
      "500:\tlearn: 0.0075672\ttotal: 2m 48s\tremaining: 2m 47s\n",
      "501:\tlearn: 0.0075018\ttotal: 2m 48s\tremaining: 2m 47s\n",
      "502:\tlearn: 0.0074303\ttotal: 2m 49s\tremaining: 2m 47s\n",
      "503:\tlearn: 0.0073731\ttotal: 2m 49s\tremaining: 2m 47s\n",
      "504:\tlearn: 0.0072869\ttotal: 2m 50s\tremaining: 2m 46s\n",
      "505:\tlearn: 0.0072398\ttotal: 2m 50s\tremaining: 2m 46s\n",
      "506:\tlearn: 0.0071366\ttotal: 2m 50s\tremaining: 2m 46s\n",
      "507:\tlearn: 0.0071095\ttotal: 2m 51s\tremaining: 2m 45s\n",
      "508:\tlearn: 0.0070308\ttotal: 2m 51s\tremaining: 2m 45s\n",
      "509:\tlearn: 0.0069709\ttotal: 2m 51s\tremaining: 2m 44s\n",
      "510:\tlearn: 0.0069223\ttotal: 2m 52s\tremaining: 2m 44s\n",
      "511:\tlearn: 0.0068732\ttotal: 2m 52s\tremaining: 2m 44s\n",
      "512:\tlearn: 0.0068354\ttotal: 2m 52s\tremaining: 2m 43s\n",
      "513:\tlearn: 0.0067903\ttotal: 2m 53s\tremaining: 2m 43s\n",
      "514:\tlearn: 0.0067270\ttotal: 2m 53s\tremaining: 2m 43s\n",
      "515:\tlearn: 0.0066869\ttotal: 2m 53s\tremaining: 2m 42s\n",
      "516:\tlearn: 0.0066586\ttotal: 2m 53s\tremaining: 2m 42s\n",
      "517:\tlearn: 0.0066069\ttotal: 2m 54s\tremaining: 2m 42s\n",
      "518:\tlearn: 0.0065365\ttotal: 2m 54s\tremaining: 2m 41s\n",
      "519:\tlearn: 0.0064479\ttotal: 2m 55s\tremaining: 2m 41s\n",
      "520:\tlearn: 0.0063979\ttotal: 2m 55s\tremaining: 2m 41s\n",
      "521:\tlearn: 0.0063688\ttotal: 2m 55s\tremaining: 2m 40s\n",
      "522:\tlearn: 0.0063327\ttotal: 2m 56s\tremaining: 2m 40s\n",
      "523:\tlearn: 0.0062664\ttotal: 2m 56s\tremaining: 2m 40s\n",
      "524:\tlearn: 0.0062351\ttotal: 2m 56s\tremaining: 2m 39s\n",
      "525:\tlearn: 0.0061730\ttotal: 2m 57s\tremaining: 2m 39s\n",
      "526:\tlearn: 0.0061411\ttotal: 2m 57s\tremaining: 2m 39s\n",
      "527:\tlearn: 0.0060935\ttotal: 2m 57s\tremaining: 2m 38s\n",
      "528:\tlearn: 0.0060375\ttotal: 2m 58s\tremaining: 2m 38s\n",
      "529:\tlearn: 0.0059958\ttotal: 2m 58s\tremaining: 2m 38s\n",
      "530:\tlearn: 0.0059033\ttotal: 2m 58s\tremaining: 2m 37s\n",
      "531:\tlearn: 0.0058525\ttotal: 2m 59s\tremaining: 2m 37s\n",
      "532:\tlearn: 0.0057850\ttotal: 2m 59s\tremaining: 2m 37s\n",
      "533:\tlearn: 0.0057521\ttotal: 2m 59s\tremaining: 2m 36s\n",
      "534:\tlearn: 0.0057429\ttotal: 3m\tremaining: 2m 36s\n",
      "535:\tlearn: 0.0056978\ttotal: 3m\tremaining: 2m 36s\n",
      "536:\tlearn: 0.0056607\ttotal: 3m\tremaining: 2m 35s\n",
      "537:\tlearn: 0.0056054\ttotal: 3m 1s\tremaining: 2m 35s\n",
      "538:\tlearn: 0.0055648\ttotal: 3m 1s\tremaining: 2m 35s\n",
      "539:\tlearn: 0.0054963\ttotal: 3m 1s\tremaining: 2m 34s\n",
      "540:\tlearn: 0.0054408\ttotal: 3m 2s\tremaining: 2m 34s\n",
      "541:\tlearn: 0.0053813\ttotal: 3m 2s\tremaining: 2m 34s\n",
      "542:\tlearn: 0.0053482\ttotal: 3m 2s\tremaining: 2m 33s\n",
      "543:\tlearn: 0.0052953\ttotal: 3m 3s\tremaining: 2m 33s\n",
      "544:\tlearn: 0.0052294\ttotal: 3m 3s\tremaining: 2m 33s\n",
      "545:\tlearn: 0.0052160\ttotal: 3m 3s\tremaining: 2m 32s\n",
      "546:\tlearn: 0.0051897\ttotal: 3m 4s\tremaining: 2m 32s\n",
      "547:\tlearn: 0.0051547\ttotal: 3m 4s\tremaining: 2m 32s\n",
      "548:\tlearn: 0.0051286\ttotal: 3m 4s\tremaining: 2m 31s\n",
      "549:\tlearn: 0.0051051\ttotal: 3m 5s\tremaining: 2m 31s\n",
      "550:\tlearn: 0.0050592\ttotal: 3m 5s\tremaining: 2m 31s\n",
      "551:\tlearn: 0.0050256\ttotal: 3m 5s\tremaining: 2m 30s\n",
      "552:\tlearn: 0.0049940\ttotal: 3m 6s\tremaining: 2m 30s\n",
      "553:\tlearn: 0.0049423\ttotal: 3m 6s\tremaining: 2m 30s\n",
      "554:\tlearn: 0.0048908\ttotal: 3m 6s\tremaining: 2m 29s\n",
      "555:\tlearn: 0.0048593\ttotal: 3m 7s\tremaining: 2m 29s\n",
      "556:\tlearn: 0.0047941\ttotal: 3m 7s\tremaining: 2m 29s\n",
      "557:\tlearn: 0.0047486\ttotal: 3m 7s\tremaining: 2m 28s\n",
      "558:\tlearn: 0.0046483\ttotal: 3m 8s\tremaining: 2m 28s\n",
      "559:\tlearn: 0.0046249\ttotal: 3m 8s\tremaining: 2m 28s\n",
      "560:\tlearn: 0.0045949\ttotal: 3m 8s\tremaining: 2m 27s\n",
      "561:\tlearn: 0.0045374\ttotal: 3m 9s\tremaining: 2m 27s\n",
      "562:\tlearn: 0.0044703\ttotal: 3m 9s\tremaining: 2m 27s\n",
      "563:\tlearn: 0.0044467\ttotal: 3m 9s\tremaining: 2m 26s\n",
      "564:\tlearn: 0.0044020\ttotal: 3m 10s\tremaining: 2m 26s\n",
      "565:\tlearn: 0.0043616\ttotal: 3m 10s\tremaining: 2m 26s\n",
      "566:\tlearn: 0.0043133\ttotal: 3m 11s\tremaining: 2m 25s\n",
      "567:\tlearn: 0.0042771\ttotal: 3m 11s\tremaining: 2m 25s\n",
      "568:\tlearn: 0.0042237\ttotal: 3m 11s\tremaining: 2m 25s\n",
      "569:\tlearn: 0.0042072\ttotal: 3m 12s\tremaining: 2m 24s\n",
      "570:\tlearn: 0.0041384\ttotal: 3m 12s\tremaining: 2m 24s\n",
      "571:\tlearn: 0.0040946\ttotal: 3m 12s\tremaining: 2m 24s\n",
      "572:\tlearn: 0.0040725\ttotal: 3m 13s\tremaining: 2m 24s\n",
      "573:\tlearn: 0.0040314\ttotal: 3m 13s\tremaining: 2m 23s\n",
      "574:\tlearn: 0.0039870\ttotal: 3m 13s\tremaining: 2m 23s\n",
      "575:\tlearn: 0.0039494\ttotal: 3m 14s\tremaining: 2m 22s\n",
      "576:\tlearn: 0.0039177\ttotal: 3m 14s\tremaining: 2m 22s\n",
      "577:\tlearn: 0.0038959\ttotal: 3m 14s\tremaining: 2m 22s\n",
      "578:\tlearn: 0.0038519\ttotal: 3m 15s\tremaining: 2m 21s\n",
      "579:\tlearn: 0.0038228\ttotal: 3m 15s\tremaining: 2m 21s\n",
      "580:\tlearn: 0.0037828\ttotal: 3m 15s\tremaining: 2m 21s\n",
      "581:\tlearn: 0.0037494\ttotal: 3m 16s\tremaining: 2m 20s\n",
      "582:\tlearn: 0.0037221\ttotal: 3m 16s\tremaining: 2m 20s\n",
      "583:\tlearn: 0.0036845\ttotal: 3m 16s\tremaining: 2m 20s\n",
      "584:\tlearn: 0.0036513\ttotal: 3m 17s\tremaining: 2m 19s\n",
      "585:\tlearn: 0.0036128\ttotal: 3m 17s\tremaining: 2m 19s\n",
      "586:\tlearn: 0.0035848\ttotal: 3m 18s\tremaining: 2m 19s\n",
      "587:\tlearn: 0.0035588\ttotal: 3m 18s\tremaining: 2m 18s\n",
      "588:\tlearn: 0.0035313\ttotal: 3m 18s\tremaining: 2m 18s\n",
      "589:\tlearn: 0.0035039\ttotal: 3m 18s\tremaining: 2m 18s\n",
      "590:\tlearn: 0.0034903\ttotal: 3m 19s\tremaining: 2m 17s\n",
      "591:\tlearn: 0.0034466\ttotal: 3m 19s\tremaining: 2m 17s\n",
      "592:\tlearn: 0.0034120\ttotal: 3m 19s\tremaining: 2m 17s\n",
      "593:\tlearn: 0.0034085\ttotal: 3m 20s\tremaining: 2m 16s\n",
      "594:\tlearn: 0.0033786\ttotal: 3m 20s\tremaining: 2m 16s\n",
      "595:\tlearn: 0.0033640\ttotal: 3m 20s\tremaining: 2m 16s\n",
      "596:\tlearn: 0.0033409\ttotal: 3m 21s\tremaining: 2m 15s\n",
      "597:\tlearn: 0.0033237\ttotal: 3m 21s\tremaining: 2m 15s\n",
      "598:\tlearn: 0.0033068\ttotal: 3m 21s\tremaining: 2m 15s\n",
      "599:\tlearn: 0.0032931\ttotal: 3m 22s\tremaining: 2m 14s\n",
      "600:\tlearn: 0.0032677\ttotal: 3m 22s\tremaining: 2m 14s\n",
      "601:\tlearn: 0.0032282\ttotal: 3m 22s\tremaining: 2m 14s\n",
      "602:\tlearn: 0.0031961\ttotal: 3m 23s\tremaining: 2m 13s\n",
      "603:\tlearn: 0.0031720\ttotal: 3m 23s\tremaining: 2m 13s\n",
      "604:\tlearn: 0.0031409\ttotal: 3m 23s\tremaining: 2m 13s\n",
      "605:\tlearn: 0.0031194\ttotal: 3m 24s\tremaining: 2m 12s\n",
      "606:\tlearn: 0.0030907\ttotal: 3m 24s\tremaining: 2m 12s\n",
      "607:\tlearn: 0.0030662\ttotal: 3m 24s\tremaining: 2m 12s\n",
      "608:\tlearn: 0.0030418\ttotal: 3m 25s\tremaining: 2m 11s\n",
      "609:\tlearn: 0.0030335\ttotal: 3m 25s\tremaining: 2m 11s\n",
      "610:\tlearn: 0.0030051\ttotal: 3m 25s\tremaining: 2m 10s\n",
      "611:\tlearn: 0.0029836\ttotal: 3m 26s\tremaining: 2m 10s\n",
      "612:\tlearn: 0.0029694\ttotal: 3m 26s\tremaining: 2m 10s\n",
      "613:\tlearn: 0.0029382\ttotal: 3m 26s\tremaining: 2m 9s\n",
      "614:\tlearn: 0.0029342\ttotal: 3m 26s\tremaining: 2m 9s\n",
      "615:\tlearn: 0.0029117\ttotal: 3m 27s\tremaining: 2m 9s\n",
      "616:\tlearn: 0.0028858\ttotal: 3m 27s\tremaining: 2m 8s\n",
      "617:\tlearn: 0.0028653\ttotal: 3m 27s\tremaining: 2m 8s\n",
      "618:\tlearn: 0.0028600\ttotal: 3m 28s\tremaining: 2m 8s\n",
      "619:\tlearn: 0.0028421\ttotal: 3m 28s\tremaining: 2m 7s\n",
      "620:\tlearn: 0.0028101\ttotal: 3m 28s\tremaining: 2m 7s\n",
      "621:\tlearn: 0.0027716\ttotal: 3m 29s\tremaining: 2m 7s\n",
      "622:\tlearn: 0.0027564\ttotal: 3m 29s\tremaining: 2m 6s\n",
      "623:\tlearn: 0.0027280\ttotal: 3m 29s\tremaining: 2m 6s\n",
      "624:\tlearn: 0.0027255\ttotal: 3m 30s\tremaining: 2m 6s\n",
      "625:\tlearn: 0.0027042\ttotal: 3m 30s\tremaining: 2m 5s\n",
      "626:\tlearn: 0.0026894\ttotal: 3m 30s\tremaining: 2m 5s\n",
      "627:\tlearn: 0.0026758\ttotal: 3m 31s\tremaining: 2m 5s\n",
      "628:\tlearn: 0.0026495\ttotal: 3m 31s\tremaining: 2m 4s\n",
      "629:\tlearn: 0.0026243\ttotal: 3m 31s\tremaining: 2m 4s\n",
      "630:\tlearn: 0.0026205\ttotal: 3m 32s\tremaining: 2m 4s\n",
      "631:\tlearn: 0.0025967\ttotal: 3m 32s\tremaining: 2m 3s\n",
      "632:\tlearn: 0.0025848\ttotal: 3m 32s\tremaining: 2m 3s\n",
      "633:\tlearn: 0.0025660\ttotal: 3m 33s\tremaining: 2m 3s\n",
      "634:\tlearn: 0.0025388\ttotal: 3m 33s\tremaining: 2m 2s\n",
      "635:\tlearn: 0.0025135\ttotal: 3m 33s\tremaining: 2m 2s\n",
      "636:\tlearn: 0.0024841\ttotal: 3m 34s\tremaining: 2m 2s\n",
      "637:\tlearn: 0.0024605\ttotal: 3m 34s\tremaining: 2m 1s\n",
      "638:\tlearn: 0.0024460\ttotal: 3m 34s\tremaining: 2m 1s\n",
      "639:\tlearn: 0.0024111\ttotal: 3m 35s\tremaining: 2m 1s\n",
      "640:\tlearn: 0.0023985\ttotal: 3m 35s\tremaining: 2m\n",
      "641:\tlearn: 0.0023762\ttotal: 3m 35s\tremaining: 2m\n",
      "642:\tlearn: 0.0023596\ttotal: 3m 36s\tremaining: 2m\n",
      "643:\tlearn: 0.0023576\ttotal: 3m 36s\tremaining: 1m 59s\n",
      "644:\tlearn: 0.0023292\ttotal: 3m 36s\tremaining: 1m 59s\n",
      "645:\tlearn: 0.0023219\ttotal: 3m 37s\tremaining: 1m 58s\n",
      "646:\tlearn: 0.0022913\ttotal: 3m 37s\tremaining: 1m 58s\n",
      "647:\tlearn: 0.0022770\ttotal: 3m 37s\tremaining: 1m 58s\n",
      "648:\tlearn: 0.0022652\ttotal: 3m 38s\tremaining: 1m 57s\n",
      "649:\tlearn: 0.0022476\ttotal: 3m 38s\tremaining: 1m 57s\n",
      "650:\tlearn: 0.0022284\ttotal: 3m 38s\tremaining: 1m 57s\n",
      "651:\tlearn: 0.0022266\ttotal: 3m 39s\tremaining: 1m 56s\n",
      "652:\tlearn: 0.0021944\ttotal: 3m 39s\tremaining: 1m 56s\n",
      "653:\tlearn: 0.0021812\ttotal: 3m 39s\tremaining: 1m 56s\n",
      "654:\tlearn: 0.0021795\ttotal: 3m 39s\tremaining: 1m 55s\n",
      "655:\tlearn: 0.0021555\ttotal: 3m 40s\tremaining: 1m 55s\n",
      "656:\tlearn: 0.0021427\ttotal: 3m 40s\tremaining: 1m 55s\n",
      "657:\tlearn: 0.0021311\ttotal: 3m 40s\tremaining: 1m 54s\n",
      "658:\tlearn: 0.0021131\ttotal: 3m 41s\tremaining: 1m 54s\n",
      "659:\tlearn: 0.0020994\ttotal: 3m 41s\tremaining: 1m 54s\n",
      "660:\tlearn: 0.0020821\ttotal: 3m 41s\tremaining: 1m 53s\n",
      "661:\tlearn: 0.0020678\ttotal: 3m 42s\tremaining: 1m 53s\n",
      "662:\tlearn: 0.0020590\ttotal: 3m 42s\tremaining: 1m 53s\n",
      "663:\tlearn: 0.0020414\ttotal: 3m 42s\tremaining: 1m 52s\n",
      "664:\tlearn: 0.0020335\ttotal: 3m 43s\tremaining: 1m 52s\n",
      "665:\tlearn: 0.0020052\ttotal: 3m 43s\tremaining: 1m 52s\n",
      "666:\tlearn: 0.0019789\ttotal: 3m 43s\tremaining: 1m 51s\n",
      "667:\tlearn: 0.0019653\ttotal: 3m 44s\tremaining: 1m 51s\n",
      "668:\tlearn: 0.0019495\ttotal: 3m 44s\tremaining: 1m 51s\n",
      "669:\tlearn: 0.0019448\ttotal: 3m 44s\tremaining: 1m 50s\n",
      "670:\tlearn: 0.0019345\ttotal: 3m 45s\tremaining: 1m 50s\n",
      "671:\tlearn: 0.0019235\ttotal: 3m 45s\tremaining: 1m 50s\n",
      "672:\tlearn: 0.0019109\ttotal: 3m 45s\tremaining: 1m 49s\n",
      "673:\tlearn: 0.0018884\ttotal: 3m 46s\tremaining: 1m 49s\n",
      "674:\tlearn: 0.0018829\ttotal: 3m 46s\tremaining: 1m 49s\n",
      "675:\tlearn: 0.0018662\ttotal: 3m 46s\tremaining: 1m 48s\n",
      "676:\tlearn: 0.0018456\ttotal: 3m 47s\tremaining: 1m 48s\n",
      "677:\tlearn: 0.0018279\ttotal: 3m 47s\tremaining: 1m 48s\n",
      "678:\tlearn: 0.0018171\ttotal: 3m 47s\tremaining: 1m 47s\n",
      "679:\tlearn: 0.0018054\ttotal: 3m 48s\tremaining: 1m 47s\n",
      "680:\tlearn: 0.0017931\ttotal: 3m 48s\tremaining: 1m 47s\n",
      "681:\tlearn: 0.0017713\ttotal: 3m 48s\tremaining: 1m 46s\n",
      "682:\tlearn: 0.0017667\ttotal: 3m 49s\tremaining: 1m 46s\n",
      "683:\tlearn: 0.0017510\ttotal: 3m 49s\tremaining: 1m 46s\n",
      "684:\tlearn: 0.0017320\ttotal: 3m 49s\tremaining: 1m 45s\n",
      "685:\tlearn: 0.0017205\ttotal: 3m 50s\tremaining: 1m 45s\n",
      "686:\tlearn: 0.0017020\ttotal: 3m 50s\tremaining: 1m 45s\n",
      "687:\tlearn: 0.0016881\ttotal: 3m 50s\tremaining: 1m 44s\n",
      "688:\tlearn: 0.0016786\ttotal: 3m 51s\tremaining: 1m 44s\n",
      "689:\tlearn: 0.0016695\ttotal: 3m 51s\tremaining: 1m 44s\n",
      "690:\tlearn: 0.0016573\ttotal: 3m 51s\tremaining: 1m 43s\n",
      "691:\tlearn: 0.0016514\ttotal: 3m 52s\tremaining: 1m 43s\n",
      "692:\tlearn: 0.0016370\ttotal: 3m 52s\tremaining: 1m 43s\n",
      "693:\tlearn: 0.0016319\ttotal: 3m 52s\tremaining: 1m 42s\n",
      "694:\tlearn: 0.0016151\ttotal: 3m 53s\tremaining: 1m 42s\n",
      "695:\tlearn: 0.0016038\ttotal: 3m 53s\tremaining: 1m 42s\n",
      "696:\tlearn: 0.0015955\ttotal: 3m 53s\tremaining: 1m 41s\n",
      "697:\tlearn: 0.0015867\ttotal: 3m 54s\tremaining: 1m 41s\n",
      "698:\tlearn: 0.0015786\ttotal: 3m 54s\tremaining: 1m 41s\n",
      "699:\tlearn: 0.0015733\ttotal: 3m 54s\tremaining: 1m 40s\n",
      "700:\tlearn: 0.0015638\ttotal: 3m 55s\tremaining: 1m 40s\n",
      "701:\tlearn: 0.0015456\ttotal: 3m 55s\tremaining: 1m 39s\n",
      "702:\tlearn: 0.0015387\ttotal: 3m 55s\tremaining: 1m 39s\n",
      "703:\tlearn: 0.0015263\ttotal: 3m 56s\tremaining: 1m 39s\n",
      "704:\tlearn: 0.0015148\ttotal: 3m 56s\tremaining: 1m 38s\n",
      "705:\tlearn: 0.0015032\ttotal: 3m 56s\tremaining: 1m 38s\n",
      "706:\tlearn: 0.0014952\ttotal: 3m 57s\tremaining: 1m 38s\n",
      "707:\tlearn: 0.0014863\ttotal: 3m 57s\tremaining: 1m 37s\n",
      "708:\tlearn: 0.0014729\ttotal: 3m 57s\tremaining: 1m 37s\n",
      "709:\tlearn: 0.0014604\ttotal: 3m 58s\tremaining: 1m 37s\n",
      "710:\tlearn: 0.0014486\ttotal: 3m 58s\tremaining: 1m 36s\n",
      "711:\tlearn: 0.0014390\ttotal: 3m 58s\tremaining: 1m 36s\n",
      "712:\tlearn: 0.0014284\ttotal: 3m 59s\tremaining: 1m 36s\n",
      "713:\tlearn: 0.0014220\ttotal: 3m 59s\tremaining: 1m 35s\n",
      "714:\tlearn: 0.0014135\ttotal: 3m 59s\tremaining: 1m 35s\n",
      "715:\tlearn: 0.0014049\ttotal: 4m\tremaining: 1m 35s\n",
      "716:\tlearn: 0.0013970\ttotal: 4m\tremaining: 1m 34s\n",
      "717:\tlearn: 0.0013841\ttotal: 4m\tremaining: 1m 34s\n",
      "718:\tlearn: 0.0013698\ttotal: 4m 1s\tremaining: 1m 34s\n",
      "719:\tlearn: 0.0013508\ttotal: 4m 1s\tremaining: 1m 33s\n",
      "720:\tlearn: 0.0013422\ttotal: 4m 1s\tremaining: 1m 33s\n",
      "721:\tlearn: 0.0013239\ttotal: 4m 2s\tremaining: 1m 33s\n",
      "722:\tlearn: 0.0013105\ttotal: 4m 2s\tremaining: 1m 32s\n",
      "723:\tlearn: 0.0013040\ttotal: 4m 2s\tremaining: 1m 32s\n",
      "724:\tlearn: 0.0012949\ttotal: 4m 3s\tremaining: 1m 32s\n",
      "725:\tlearn: 0.0012838\ttotal: 4m 3s\tremaining: 1m 31s\n",
      "726:\tlearn: 0.0012730\ttotal: 4m 3s\tremaining: 1m 31s\n",
      "727:\tlearn: 0.0012637\ttotal: 4m 4s\tremaining: 1m 31s\n",
      "728:\tlearn: 0.0012621\ttotal: 4m 4s\tremaining: 1m 30s\n",
      "729:\tlearn: 0.0012556\ttotal: 4m 4s\tremaining: 1m 30s\n",
      "730:\tlearn: 0.0012402\ttotal: 4m 5s\tremaining: 1m 30s\n",
      "731:\tlearn: 0.0012370\ttotal: 4m 5s\tremaining: 1m 29s\n",
      "732:\tlearn: 0.0012328\ttotal: 4m 5s\tremaining: 1m 29s\n",
      "733:\tlearn: 0.0012266\ttotal: 4m 6s\tremaining: 1m 29s\n",
      "734:\tlearn: 0.0012185\ttotal: 4m 6s\tremaining: 1m 28s\n",
      "735:\tlearn: 0.0012066\ttotal: 4m 6s\tremaining: 1m 28s\n",
      "736:\tlearn: 0.0011977\ttotal: 4m 7s\tremaining: 1m 28s\n",
      "737:\tlearn: 0.0011827\ttotal: 4m 7s\tremaining: 1m 27s\n",
      "738:\tlearn: 0.0011816\ttotal: 4m 7s\tremaining: 1m 27s\n",
      "739:\tlearn: 0.0011764\ttotal: 4m 8s\tremaining: 1m 27s\n",
      "740:\tlearn: 0.0011708\ttotal: 4m 8s\tremaining: 1m 26s\n",
      "741:\tlearn: 0.0011581\ttotal: 4m 8s\tremaining: 1m 26s\n",
      "742:\tlearn: 0.0011445\ttotal: 4m 9s\tremaining: 1m 26s\n",
      "743:\tlearn: 0.0011331\ttotal: 4m 9s\tremaining: 1m 25s\n",
      "744:\tlearn: 0.0011274\ttotal: 4m 9s\tremaining: 1m 25s\n",
      "745:\tlearn: 0.0011261\ttotal: 4m 9s\tremaining: 1m 25s\n",
      "746:\tlearn: 0.0011169\ttotal: 4m 10s\tremaining: 1m 24s\n",
      "747:\tlearn: 0.0011080\ttotal: 4m 10s\tremaining: 1m 24s\n",
      "748:\tlearn: 0.0011023\ttotal: 4m 11s\tremaining: 1m 24s\n",
      "749:\tlearn: 0.0010908\ttotal: 4m 11s\tremaining: 1m 23s\n",
      "750:\tlearn: 0.0010822\ttotal: 4m 11s\tremaining: 1m 23s\n",
      "751:\tlearn: 0.0010701\ttotal: 4m 12s\tremaining: 1m 23s\n",
      "752:\tlearn: 0.0010611\ttotal: 4m 12s\tremaining: 1m 22s\n",
      "753:\tlearn: 0.0010547\ttotal: 4m 12s\tremaining: 1m 22s\n",
      "754:\tlearn: 0.0010515\ttotal: 4m 13s\tremaining: 1m 22s\n",
      "755:\tlearn: 0.0010440\ttotal: 4m 13s\tremaining: 1m 21s\n",
      "756:\tlearn: 0.0010337\ttotal: 4m 13s\tremaining: 1m 21s\n",
      "757:\tlearn: 0.0010241\ttotal: 4m 14s\tremaining: 1m 21s\n",
      "758:\tlearn: 0.0010171\ttotal: 4m 14s\tremaining: 1m 20s\n",
      "759:\tlearn: 0.0010080\ttotal: 4m 14s\tremaining: 1m 20s\n",
      "760:\tlearn: 0.0009999\ttotal: 4m 15s\tremaining: 1m 20s\n",
      "761:\tlearn: 0.0009892\ttotal: 4m 15s\tremaining: 1m 19s\n",
      "762:\tlearn: 0.0009793\ttotal: 4m 15s\tremaining: 1m 19s\n",
      "763:\tlearn: 0.0009754\ttotal: 4m 16s\tremaining: 1m 19s\n",
      "764:\tlearn: 0.0009681\ttotal: 4m 16s\tremaining: 1m 18s\n",
      "765:\tlearn: 0.0009605\ttotal: 4m 16s\tremaining: 1m 18s\n",
      "766:\tlearn: 0.0009551\ttotal: 4m 17s\tremaining: 1m 18s\n",
      "767:\tlearn: 0.0009511\ttotal: 4m 17s\tremaining: 1m 17s\n",
      "768:\tlearn: 0.0009449\ttotal: 4m 17s\tremaining: 1m 17s\n",
      "769:\tlearn: 0.0009384\ttotal: 4m 18s\tremaining: 1m 17s\n",
      "770:\tlearn: 0.0009286\ttotal: 4m 18s\tremaining: 1m 16s\n",
      "771:\tlearn: 0.0009221\ttotal: 4m 18s\tremaining: 1m 16s\n",
      "772:\tlearn: 0.0009156\ttotal: 4m 19s\tremaining: 1m 16s\n",
      "773:\tlearn: 0.0009072\ttotal: 4m 19s\tremaining: 1m 15s\n",
      "774:\tlearn: 0.0008998\ttotal: 4m 19s\tremaining: 1m 15s\n",
      "775:\tlearn: 0.0008948\ttotal: 4m 20s\tremaining: 1m 15s\n",
      "776:\tlearn: 0.0008938\ttotal: 4m 20s\tremaining: 1m 14s\n",
      "777:\tlearn: 0.0008864\ttotal: 4m 20s\tremaining: 1m 14s\n",
      "778:\tlearn: 0.0008822\ttotal: 4m 21s\tremaining: 1m 14s\n",
      "779:\tlearn: 0.0008733\ttotal: 4m 21s\tremaining: 1m 13s\n",
      "780:\tlearn: 0.0008698\ttotal: 4m 21s\tremaining: 1m 13s\n",
      "781:\tlearn: 0.0008632\ttotal: 4m 22s\tremaining: 1m 13s\n",
      "782:\tlearn: 0.0008587\ttotal: 4m 22s\tremaining: 1m 12s\n",
      "783:\tlearn: 0.0008525\ttotal: 4m 22s\tremaining: 1m 12s\n",
      "784:\tlearn: 0.0008450\ttotal: 4m 23s\tremaining: 1m 12s\n",
      "785:\tlearn: 0.0008396\ttotal: 4m 23s\tremaining: 1m 11s\n",
      "786:\tlearn: 0.0008359\ttotal: 4m 24s\tremaining: 1m 11s\n",
      "787:\tlearn: 0.0008311\ttotal: 4m 24s\tremaining: 1m 11s\n",
      "788:\tlearn: 0.0008235\ttotal: 4m 24s\tremaining: 1m 10s\n",
      "789:\tlearn: 0.0008167\ttotal: 4m 25s\tremaining: 1m 10s\n",
      "790:\tlearn: 0.0008126\ttotal: 4m 25s\tremaining: 1m 10s\n",
      "791:\tlearn: 0.0008072\ttotal: 4m 25s\tremaining: 1m 9s\n",
      "792:\tlearn: 0.0008009\ttotal: 4m 26s\tremaining: 1m 9s\n",
      "793:\tlearn: 0.0007924\ttotal: 4m 26s\tremaining: 1m 9s\n",
      "794:\tlearn: 0.0007883\ttotal: 4m 26s\tremaining: 1m 8s\n",
      "795:\tlearn: 0.0007831\ttotal: 4m 27s\tremaining: 1m 8s\n",
      "796:\tlearn: 0.0007751\ttotal: 4m 27s\tremaining: 1m 8s\n",
      "797:\tlearn: 0.0007681\ttotal: 4m 28s\tremaining: 1m 7s\n",
      "798:\tlearn: 0.0007644\ttotal: 4m 28s\tremaining: 1m 7s\n",
      "799:\tlearn: 0.0007621\ttotal: 4m 28s\tremaining: 1m 7s\n",
      "800:\tlearn: 0.0007615\ttotal: 4m 28s\tremaining: 1m 6s\n",
      "801:\tlearn: 0.0007565\ttotal: 4m 29s\tremaining: 1m 6s\n",
      "802:\tlearn: 0.0007534\ttotal: 4m 29s\tremaining: 1m 6s\n",
      "803:\tlearn: 0.0007500\ttotal: 4m 30s\tremaining: 1m 5s\n",
      "804:\tlearn: 0.0007443\ttotal: 4m 30s\tremaining: 1m 5s\n",
      "805:\tlearn: 0.0007381\ttotal: 4m 30s\tremaining: 1m 5s\n",
      "806:\tlearn: 0.0007338\ttotal: 4m 31s\tremaining: 1m 4s\n",
      "807:\tlearn: 0.0007295\ttotal: 4m 31s\tremaining: 1m 4s\n",
      "808:\tlearn: 0.0007237\ttotal: 4m 31s\tremaining: 1m 4s\n",
      "809:\tlearn: 0.0007187\ttotal: 4m 32s\tremaining: 1m 3s\n",
      "810:\tlearn: 0.0007130\ttotal: 4m 32s\tremaining: 1m 3s\n",
      "811:\tlearn: 0.0007104\ttotal: 4m 32s\tremaining: 1m 3s\n",
      "812:\tlearn: 0.0007036\ttotal: 4m 33s\tremaining: 1m 2s\n",
      "813:\tlearn: 0.0006980\ttotal: 4m 33s\tremaining: 1m 2s\n",
      "814:\tlearn: 0.0006937\ttotal: 4m 33s\tremaining: 1m 2s\n",
      "815:\tlearn: 0.0006903\ttotal: 4m 34s\tremaining: 1m 1s\n",
      "816:\tlearn: 0.0006855\ttotal: 4m 34s\tremaining: 1m 1s\n",
      "817:\tlearn: 0.0006824\ttotal: 4m 34s\tremaining: 1m 1s\n",
      "818:\tlearn: 0.0006757\ttotal: 4m 35s\tremaining: 1m\n",
      "819:\tlearn: 0.0006753\ttotal: 4m 35s\tremaining: 1m\n",
      "820:\tlearn: 0.0006715\ttotal: 4m 35s\tremaining: 1m\n",
      "821:\tlearn: 0.0006672\ttotal: 4m 36s\tremaining: 59.8s\n",
      "822:\tlearn: 0.0006629\ttotal: 4m 36s\tremaining: 59.5s\n",
      "823:\tlearn: 0.0006596\ttotal: 4m 36s\tremaining: 59.1s\n",
      "824:\tlearn: 0.0006544\ttotal: 4m 37s\tremaining: 58.8s\n",
      "825:\tlearn: 0.0006506\ttotal: 4m 37s\tremaining: 58.5s\n",
      "826:\tlearn: 0.0006488\ttotal: 4m 37s\tremaining: 58.1s\n",
      "827:\tlearn: 0.0006410\ttotal: 4m 38s\tremaining: 57.8s\n",
      "828:\tlearn: 0.0006381\ttotal: 4m 38s\tremaining: 57.4s\n",
      "829:\tlearn: 0.0006363\ttotal: 4m 38s\tremaining: 57.1s\n",
      "830:\tlearn: 0.0006343\ttotal: 4m 39s\tremaining: 56.7s\n",
      "831:\tlearn: 0.0006317\ttotal: 4m 39s\tremaining: 56.4s\n",
      "832:\tlearn: 0.0006265\ttotal: 4m 39s\tremaining: 56.1s\n",
      "833:\tlearn: 0.0006254\ttotal: 4m 39s\tremaining: 55.7s\n",
      "834:\tlearn: 0.0006238\ttotal: 4m 40s\tremaining: 55.4s\n",
      "835:\tlearn: 0.0006197\ttotal: 4m 40s\tremaining: 55s\n",
      "836:\tlearn: 0.0006164\ttotal: 4m 40s\tremaining: 54.7s\n",
      "837:\tlearn: 0.0006130\ttotal: 4m 41s\tremaining: 54.4s\n",
      "838:\tlearn: 0.0006097\ttotal: 4m 41s\tremaining: 54s\n",
      "839:\tlearn: 0.0006036\ttotal: 4m 41s\tremaining: 53.7s\n",
      "840:\tlearn: 0.0006021\ttotal: 4m 42s\tremaining: 53.4s\n",
      "841:\tlearn: 0.0005976\ttotal: 4m 42s\tremaining: 53s\n",
      "842:\tlearn: 0.0005949\ttotal: 4m 42s\tremaining: 52.7s\n",
      "843:\tlearn: 0.0005924\ttotal: 4m 43s\tremaining: 52.4s\n",
      "844:\tlearn: 0.0005868\ttotal: 4m 43s\tremaining: 52s\n",
      "845:\tlearn: 0.0005831\ttotal: 4m 43s\tremaining: 51.7s\n",
      "846:\tlearn: 0.0005777\ttotal: 4m 44s\tremaining: 51.4s\n",
      "847:\tlearn: 0.0005736\ttotal: 4m 44s\tremaining: 51s\n",
      "848:\tlearn: 0.0005692\ttotal: 4m 45s\tremaining: 50.7s\n",
      "849:\tlearn: 0.0005681\ttotal: 4m 45s\tremaining: 50.4s\n",
      "850:\tlearn: 0.0005635\ttotal: 4m 45s\tremaining: 50s\n",
      "851:\tlearn: 0.0005600\ttotal: 4m 45s\tremaining: 49.7s\n",
      "852:\tlearn: 0.0005551\ttotal: 4m 46s\tremaining: 49.4s\n",
      "853:\tlearn: 0.0005516\ttotal: 4m 46s\tremaining: 49s\n",
      "854:\tlearn: 0.0005465\ttotal: 4m 47s\tremaining: 48.7s\n",
      "855:\tlearn: 0.0005460\ttotal: 4m 47s\tremaining: 48.3s\n",
      "856:\tlearn: 0.0005434\ttotal: 4m 47s\tremaining: 48s\n",
      "857:\tlearn: 0.0005407\ttotal: 4m 47s\tremaining: 47.6s\n",
      "858:\tlearn: 0.0005395\ttotal: 4m 48s\tremaining: 47.3s\n",
      "859:\tlearn: 0.0005346\ttotal: 4m 48s\tremaining: 47s\n",
      "860:\tlearn: 0.0005330\ttotal: 4m 48s\tremaining: 46.6s\n",
      "861:\tlearn: 0.0005297\ttotal: 4m 49s\tremaining: 46.3s\n",
      "862:\tlearn: 0.0005258\ttotal: 4m 49s\tremaining: 46s\n",
      "863:\tlearn: 0.0005234\ttotal: 4m 49s\tremaining: 45.6s\n",
      "864:\tlearn: 0.0005204\ttotal: 4m 50s\tremaining: 45.3s\n",
      "865:\tlearn: 0.0005185\ttotal: 4m 50s\tremaining: 45s\n",
      "866:\tlearn: 0.0005147\ttotal: 4m 50s\tremaining: 44.6s\n",
      "867:\tlearn: 0.0005126\ttotal: 4m 51s\tremaining: 44.3s\n",
      "868:\tlearn: 0.0005091\ttotal: 4m 51s\tremaining: 43.9s\n",
      "869:\tlearn: 0.0005046\ttotal: 4m 51s\tremaining: 43.6s\n",
      "870:\tlearn: 0.0005023\ttotal: 4m 52s\tremaining: 43.3s\n",
      "871:\tlearn: 0.0004979\ttotal: 4m 52s\tremaining: 42.9s\n",
      "872:\tlearn: 0.0004958\ttotal: 4m 52s\tremaining: 42.6s\n",
      "873:\tlearn: 0.0004897\ttotal: 4m 53s\tremaining: 42.3s\n",
      "874:\tlearn: 0.0004895\ttotal: 4m 53s\tremaining: 41.9s\n",
      "875:\tlearn: 0.0004876\ttotal: 4m 53s\tremaining: 41.6s\n",
      "876:\tlearn: 0.0004861\ttotal: 4m 54s\tremaining: 41.2s\n",
      "877:\tlearn: 0.0004839\ttotal: 4m 54s\tremaining: 40.9s\n",
      "878:\tlearn: 0.0004797\ttotal: 4m 54s\tremaining: 40.6s\n",
      "879:\tlearn: 0.0004751\ttotal: 4m 55s\tremaining: 40.2s\n",
      "880:\tlearn: 0.0004732\ttotal: 4m 55s\tremaining: 39.9s\n",
      "881:\tlearn: 0.0004716\ttotal: 4m 55s\tremaining: 39.6s\n",
      "882:\tlearn: 0.0004682\ttotal: 4m 56s\tremaining: 39.2s\n",
      "883:\tlearn: 0.0004645\ttotal: 4m 56s\tremaining: 38.9s\n",
      "884:\tlearn: 0.0004617\ttotal: 4m 56s\tremaining: 38.6s\n",
      "885:\tlearn: 0.0004607\ttotal: 4m 57s\tremaining: 38.2s\n",
      "886:\tlearn: 0.0004554\ttotal: 4m 57s\tremaining: 37.9s\n",
      "887:\tlearn: 0.0004541\ttotal: 4m 57s\tremaining: 37.6s\n",
      "888:\tlearn: 0.0004519\ttotal: 4m 58s\tremaining: 37.2s\n",
      "889:\tlearn: 0.0004501\ttotal: 4m 58s\tremaining: 36.9s\n",
      "890:\tlearn: 0.0004472\ttotal: 4m 58s\tremaining: 36.5s\n",
      "891:\tlearn: 0.0004428\ttotal: 4m 59s\tremaining: 36.2s\n",
      "892:\tlearn: 0.0004391\ttotal: 4m 59s\tremaining: 35.9s\n",
      "893:\tlearn: 0.0004364\ttotal: 4m 59s\tremaining: 35.5s\n",
      "894:\tlearn: 0.0004345\ttotal: 5m\tremaining: 35.2s\n",
      "895:\tlearn: 0.0004303\ttotal: 5m\tremaining: 34.9s\n",
      "896:\tlearn: 0.0004271\ttotal: 5m\tremaining: 34.5s\n",
      "897:\tlearn: 0.0004246\ttotal: 5m 1s\tremaining: 34.2s\n",
      "898:\tlearn: 0.0004227\ttotal: 5m 1s\tremaining: 33.9s\n",
      "899:\tlearn: 0.0004169\ttotal: 5m 1s\tremaining: 33.5s\n",
      "900:\tlearn: 0.0004166\ttotal: 5m 2s\tremaining: 33.2s\n",
      "901:\tlearn: 0.0004151\ttotal: 5m 2s\tremaining: 32.9s\n",
      "902:\tlearn: 0.0004122\ttotal: 5m 2s\tremaining: 32.5s\n",
      "903:\tlearn: 0.0004105\ttotal: 5m 2s\tremaining: 32.2s\n",
      "904:\tlearn: 0.0004090\ttotal: 5m 3s\tremaining: 31.9s\n",
      "905:\tlearn: 0.0004056\ttotal: 5m 3s\tremaining: 31.5s\n",
      "906:\tlearn: 0.0004028\ttotal: 5m 4s\tremaining: 31.2s\n",
      "907:\tlearn: 0.0004015\ttotal: 5m 4s\tremaining: 30.9s\n",
      "908:\tlearn: 0.0003986\ttotal: 5m 4s\tremaining: 30.5s\n",
      "909:\tlearn: 0.0003961\ttotal: 5m 5s\tremaining: 30.2s\n",
      "910:\tlearn: 0.0003935\ttotal: 5m 5s\tremaining: 29.9s\n",
      "911:\tlearn: 0.0003921\ttotal: 5m 5s\tremaining: 29.5s\n",
      "912:\tlearn: 0.0003895\ttotal: 5m 6s\tremaining: 29.2s\n",
      "913:\tlearn: 0.0003878\ttotal: 5m 6s\tremaining: 28.8s\n",
      "914:\tlearn: 0.0003869\ttotal: 5m 6s\tremaining: 28.5s\n",
      "915:\tlearn: 0.0003837\ttotal: 5m 7s\tremaining: 28.2s\n",
      "916:\tlearn: 0.0003826\ttotal: 5m 7s\tremaining: 27.8s\n",
      "917:\tlearn: 0.0003807\ttotal: 5m 7s\tremaining: 27.5s\n",
      "918:\tlearn: 0.0003805\ttotal: 5m 8s\tremaining: 27.2s\n",
      "919:\tlearn: 0.0003774\ttotal: 5m 8s\tremaining: 26.8s\n",
      "920:\tlearn: 0.0003743\ttotal: 5m 8s\tremaining: 26.5s\n",
      "921:\tlearn: 0.0003724\ttotal: 5m 9s\tremaining: 26.1s\n",
      "922:\tlearn: 0.0003701\ttotal: 5m 9s\tremaining: 25.8s\n",
      "923:\tlearn: 0.0003683\ttotal: 5m 9s\tremaining: 25.5s\n",
      "924:\tlearn: 0.0003653\ttotal: 5m 10s\tremaining: 25.1s\n",
      "925:\tlearn: 0.0003640\ttotal: 5m 10s\tremaining: 24.8s\n",
      "926:\tlearn: 0.0003618\ttotal: 5m 10s\tremaining: 24.5s\n",
      "927:\tlearn: 0.0003602\ttotal: 5m 11s\tremaining: 24.1s\n",
      "928:\tlearn: 0.0003582\ttotal: 5m 11s\tremaining: 23.8s\n",
      "929:\tlearn: 0.0003568\ttotal: 5m 11s\tremaining: 23.5s\n",
      "930:\tlearn: 0.0003554\ttotal: 5m 12s\tremaining: 23.1s\n",
      "931:\tlearn: 0.0003533\ttotal: 5m 12s\tremaining: 22.8s\n",
      "932:\tlearn: 0.0003507\ttotal: 5m 12s\tremaining: 22.5s\n",
      "933:\tlearn: 0.0003484\ttotal: 5m 13s\tremaining: 22.1s\n",
      "934:\tlearn: 0.0003459\ttotal: 5m 13s\tremaining: 21.8s\n",
      "935:\tlearn: 0.0003455\ttotal: 5m 13s\tremaining: 21.5s\n",
      "936:\tlearn: 0.0003427\ttotal: 5m 14s\tremaining: 21.1s\n",
      "937:\tlearn: 0.0003408\ttotal: 5m 14s\tremaining: 20.8s\n",
      "938:\tlearn: 0.0003385\ttotal: 5m 14s\tremaining: 20.5s\n",
      "939:\tlearn: 0.0003369\ttotal: 5m 15s\tremaining: 20.1s\n",
      "940:\tlearn: 0.0003354\ttotal: 5m 15s\tremaining: 19.8s\n",
      "941:\tlearn: 0.0003344\ttotal: 5m 15s\tremaining: 19.4s\n",
      "942:\tlearn: 0.0003324\ttotal: 5m 16s\tremaining: 19.1s\n",
      "943:\tlearn: 0.0003312\ttotal: 5m 16s\tremaining: 18.8s\n",
      "944:\tlearn: 0.0003300\ttotal: 5m 16s\tremaining: 18.4s\n",
      "945:\tlearn: 0.0003275\ttotal: 5m 17s\tremaining: 18.1s\n",
      "946:\tlearn: 0.0003258\ttotal: 5m 17s\tremaining: 17.8s\n",
      "947:\tlearn: 0.0003243\ttotal: 5m 17s\tremaining: 17.4s\n",
      "948:\tlearn: 0.0003223\ttotal: 5m 18s\tremaining: 17.1s\n",
      "949:\tlearn: 0.0003210\ttotal: 5m 18s\tremaining: 16.8s\n",
      "950:\tlearn: 0.0003185\ttotal: 5m 18s\tremaining: 16.4s\n",
      "951:\tlearn: 0.0003173\ttotal: 5m 19s\tremaining: 16.1s\n",
      "952:\tlearn: 0.0003156\ttotal: 5m 19s\tremaining: 15.8s\n",
      "953:\tlearn: 0.0003143\ttotal: 5m 19s\tremaining: 15.4s\n",
      "954:\tlearn: 0.0003136\ttotal: 5m 20s\tremaining: 15.1s\n",
      "955:\tlearn: 0.0003116\ttotal: 5m 20s\tremaining: 14.7s\n",
      "956:\tlearn: 0.0003094\ttotal: 5m 20s\tremaining: 14.4s\n",
      "957:\tlearn: 0.0003074\ttotal: 5m 21s\tremaining: 14.1s\n",
      "958:\tlearn: 0.0003053\ttotal: 5m 21s\tremaining: 13.7s\n",
      "959:\tlearn: 0.0003046\ttotal: 5m 21s\tremaining: 13.4s\n",
      "960:\tlearn: 0.0003038\ttotal: 5m 22s\tremaining: 13.1s\n",
      "961:\tlearn: 0.0003012\ttotal: 5m 22s\tremaining: 12.7s\n",
      "962:\tlearn: 0.0002999\ttotal: 5m 22s\tremaining: 12.4s\n",
      "963:\tlearn: 0.0002977\ttotal: 5m 23s\tremaining: 12.1s\n",
      "964:\tlearn: 0.0002958\ttotal: 5m 23s\tremaining: 11.7s\n",
      "965:\tlearn: 0.0002928\ttotal: 5m 23s\tremaining: 11.4s\n",
      "966:\tlearn: 0.0002908\ttotal: 5m 24s\tremaining: 11.1s\n",
      "967:\tlearn: 0.0002885\ttotal: 5m 24s\tremaining: 10.7s\n",
      "968:\tlearn: 0.0002868\ttotal: 5m 25s\tremaining: 10.4s\n",
      "969:\tlearn: 0.0002864\ttotal: 5m 25s\tremaining: 10.1s\n",
      "970:\tlearn: 0.0002851\ttotal: 5m 25s\tremaining: 9.73s\n",
      "971:\tlearn: 0.0002830\ttotal: 5m 26s\tremaining: 9.39s\n",
      "972:\tlearn: 0.0002816\ttotal: 5m 26s\tremaining: 9.06s\n",
      "973:\tlearn: 0.0002801\ttotal: 5m 26s\tremaining: 8.72s\n",
      "974:\tlearn: 0.0002784\ttotal: 5m 27s\tremaining: 8.38s\n",
      "975:\tlearn: 0.0002774\ttotal: 5m 27s\tremaining: 8.05s\n",
      "976:\tlearn: 0.0002758\ttotal: 5m 27s\tremaining: 7.71s\n",
      "977:\tlearn: 0.0002744\ttotal: 5m 28s\tremaining: 7.38s\n",
      "978:\tlearn: 0.0002727\ttotal: 5m 28s\tremaining: 7.04s\n",
      "979:\tlearn: 0.0002722\ttotal: 5m 28s\tremaining: 6.71s\n",
      "980:\tlearn: 0.0002715\ttotal: 5m 29s\tremaining: 6.37s\n",
      "981:\tlearn: 0.0002697\ttotal: 5m 29s\tremaining: 6.04s\n",
      "982:\tlearn: 0.0002687\ttotal: 5m 29s\tremaining: 5.7s\n",
      "983:\tlearn: 0.0002677\ttotal: 5m 30s\tremaining: 5.37s\n",
      "984:\tlearn: 0.0002662\ttotal: 5m 30s\tremaining: 5.03s\n",
      "985:\tlearn: 0.0002646\ttotal: 5m 30s\tremaining: 4.7s\n",
      "986:\tlearn: 0.0002634\ttotal: 5m 31s\tremaining: 4.36s\n",
      "987:\tlearn: 0.0002615\ttotal: 5m 31s\tremaining: 4.03s\n",
      "988:\tlearn: 0.0002608\ttotal: 5m 31s\tremaining: 3.69s\n",
      "989:\tlearn: 0.0002595\ttotal: 5m 32s\tremaining: 3.35s\n",
      "990:\tlearn: 0.0002580\ttotal: 5m 32s\tremaining: 3.02s\n",
      "991:\tlearn: 0.0002572\ttotal: 5m 32s\tremaining: 2.68s\n",
      "992:\tlearn: 0.0002550\ttotal: 5m 33s\tremaining: 2.35s\n",
      "993:\tlearn: 0.0002549\ttotal: 5m 33s\tremaining: 2.01s\n",
      "994:\tlearn: 0.0002538\ttotal: 5m 33s\tremaining: 1.68s\n",
      "995:\tlearn: 0.0002528\ttotal: 5m 34s\tremaining: 1.34s\n",
      "996:\tlearn: 0.0002519\ttotal: 5m 34s\tremaining: 1.01s\n",
      "997:\tlearn: 0.0002499\ttotal: 5m 35s\tremaining: 671ms\n",
      "998:\tlearn: 0.0002487\ttotal: 5m 35s\tremaining: 336ms\n",
      "999:\tlearn: 0.0002483\ttotal: 5m 35s\tremaining: 0us\n"
     ]
    },
    {
     "data": {
      "text/plain": [
       "<catboost.core.CatBoostClassifier at 0x7fdffb9cd430>"
      ]
     },
     "execution_count": 96,
     "metadata": {},
     "output_type": "execute_result"
    }
   ],
   "source": [
    "# cb = CatBoostClassifier()\n",
    "# cb.fit(X_train, y_train)"
   ]
  },
  {
   "cell_type": "code",
   "execution_count": 97,
   "id": "2c468706-8010-4e8b-bcfc-705ac63d83c6",
   "metadata": {},
   "outputs": [
    {
     "name": "stdout",
     "output_type": "stream",
     "text": [
      "accuracy_score: 1.0\n"
     ]
    }
   ],
   "source": [
    "# preds = cb.predict(X_test)\n",
    "# print(f\"accuracy_score: {accuracy_score(y_test, preds)}\")"
   ]
  },
  {
   "cell_type": "code",
   "execution_count": 98,
   "id": "38137c0b-d833-4d1b-9570-0d7ddb9639be",
   "metadata": {},
   "outputs": [],
   "source": [
    "# preds_test = cb.predict(test.values)\n",
    "\n",
    "# map_preds = {0:\"Away win\",\n",
    "#             1:\"Draw\",\n",
    "#             2:\"Home Win\"}\n",
    "\n",
    "# score = np.array(list(map(lambda x: map_preds[x], preds_test.flatten())))\n",
    "# sub = pd.DataFrame({\"Game_ID\": game_id,\n",
    "#                    \"Score\": score})"
   ]
  },
  {
   "cell_type": "code",
   "execution_count": 99,
   "id": "490dc1ff-1d9d-4e31-bf00-92ad537ed52f",
   "metadata": {},
   "outputs": [
    {
     "data": {
      "text/plain": [
       "(802098, 2)"
      ]
     },
     "execution_count": 99,
     "metadata": {},
     "output_type": "execute_result"
    }
   ],
   "source": [
    "# sub.shape"
   ]
  },
  {
   "cell_type": "code",
   "execution_count": 100,
   "id": "5b2736f0-4fd3-4f94-a2ad-3b57aacbf193",
   "metadata": {},
   "outputs": [],
   "source": [
    "# sub.to_csv(\"cb.csv\", index=None)"
   ]
  },
  {
   "cell_type": "code",
   "execution_count": 101,
   "id": "a36695e8-9289-403c-bb46-a6370d851d5c",
   "metadata": {},
   "outputs": [
    {
     "data": {
      "text/plain": [
       "array([ 0.        ,  0.        ,  0.        ,  0.        ,  0.41147904,\n",
       "        0.        ,  0.        ,  2.11999422,  0.60607296,  0.        ,\n",
       "        0.        ,  0.        ,  0.        ,  0.        ,  0.        ,\n",
       "        0.        ,  0.        ,  0.        ,  0.95442502, 19.08229453,\n",
       "       18.39993676, 21.96810284,  4.41670402, 11.90638141, 20.1346092 ,\n",
       "        0.        ,  0.        ,  0.        ,  0.        ,  0.        ])"
      ]
     },
     "execution_count": 101,
     "metadata": {},
     "output_type": "execute_result"
    }
   ],
   "source": [
    "# cb.feature_importances_"
   ]
  },
  {
   "cell_type": "code",
   "execution_count": 102,
   "id": "9bd68a6e-c6c3-4257-a9af-65b3cca14deb",
   "metadata": {},
   "outputs": [
    {
     "name": "stderr",
     "output_type": "stream",
     "text": [
      "/home/sadkh/miniconda3/lib/python3.9/site-packages/seaborn/_decorators.py:36: FutureWarning: Pass the following variables as keyword args: x, y. From version 0.12, the only valid positional argument will be `data`, and passing other arguments without an explicit keyword will result in an error or misinterpretation.\n",
      "  warnings.warn(\n"
     ]
    },
    {
     "data": {
      "text/plain": [
       "<AxesSubplot:>"
      ]
     },
     "execution_count": 102,
     "metadata": {},
     "output_type": "execute_result"
    },
    {
     "data": {
      "image/png": "[encoded data removed]",
      "text/plain": [
       "<Figure size 1440x720 with 1 Axes>"
      ]
     },
     "metadata": {
      "needs_background": "light"
     },
     "output_type": "display_data"
    }
   ],
   "source": [
    "# plt.figure(figsize=(20, 10))\n",
    "# sns.barplot(cb.feature_importances_, X.columns)"
   ]
  },
  {
   "cell_type": "code",
   "execution_count": null,
   "id": "0328296c-c5a6-4f0b-87f9-b679dacdfb3f",
   "metadata": {},
   "outputs": [],
   "source": []
  }
 ],
 "metadata": {
  "kernelspec": {
   "display_name": "Python 3 (ipykernel)",
   "language": "python",
   "name": "python3"
  },
  "language_info": {
   "codemirror_mode": {
    "name": "ipython",
    "version": 3
   },
   "file_extension": ".py",
   "mimetype": "text/x-python",
   "name": "python",
   "nbconvert_exporter": "python",
   "pygments_lexer": "ipython3",
   "version": "3.9.9"
  }
 },
 "nbformat": 4,
 "nbformat_minor": 5
}
