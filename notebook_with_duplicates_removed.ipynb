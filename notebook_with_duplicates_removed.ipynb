{
 "cells": [
  {
   "cell_type": "code",
   "execution_count": 431,
   "id": "67493bb3-e12f-45b1-8bba-a5d4e67c6ef6",
   "metadata": {},
   "outputs": [],
   "source": [
    "import numpy as np\n",
    "import pandas as pd\n",
    "import matplotlib.pyplot as plt\n",
    "import seaborn as sns\n",
    "import missingno as msn\n",
    "from pandas_profiling import profile_report\n",
    "\n",
    "SEED =100\n",
    "np.random.seed(SEED)\n",
    "\n",
    "from sklearn.preprocessing import LabelEncoder, OrdinalEncoder\n",
    "from sklearn.preprocessing import StandardScaler\n",
    "from sklearn.model_selection import train_test_split, StratifiedShuffleSplit\n",
    "from sklearn.metrics import accuracy_score\n",
    "from sklearn.svm import SVC\n",
    "from sklearn.ensemble import RandomForestClassifier\n",
    "from xgboost import XGBClassifier\n",
    "from catboost import CatBoostClassifier\n",
    "from lightgbm import LGBMClassifier"
   ]
  },
  {
   "cell_type": "code",
   "execution_count": 156,
   "id": "973f4111-9ceb-4d82-ae88-fdb6d5292a7e",
   "metadata": {},
   "outputs": [
    {
     "ename": "KeyError",
     "evalue": "Index(['Game_ID'], dtype='object')",
     "output_type": "error",
     "traceback": [
      "\u001b[0;31m---------------------------------------------------------------------------\u001b[0m",
      "\u001b[0;31mKeyError\u001b[0m                                  Traceback (most recent call last)",
      "\u001b[0;32m/tmp/ipykernel_3353/1845881539.py\u001b[0m in \u001b[0;36m<module>\u001b[0;34m\u001b[0m\n\u001b[0;32m----> 1\u001b[0;31m \u001b[0mtrain\u001b[0m\u001b[0;34m.\u001b[0m\u001b[0mdrop_duplicates\u001b[0m\u001b[0;34m(\u001b[0m\u001b[0msubset\u001b[0m\u001b[0;34m=\u001b[0m\u001b[0;34m\"Game_ID\"\u001b[0m\u001b[0;34m,\u001b[0m \u001b[0minplace\u001b[0m\u001b[0;34m=\u001b[0m\u001b[0;32mTrue\u001b[0m\u001b[0;34m)\u001b[0m\u001b[0;34m\u001b[0m\u001b[0;34m\u001b[0m\u001b[0m\n\u001b[0m\u001b[1;32m      2\u001b[0m \u001b[0mtest\u001b[0m\u001b[0;34m.\u001b[0m\u001b[0mdrop_duplicates\u001b[0m\u001b[0;34m(\u001b[0m\u001b[0msubset\u001b[0m\u001b[0;34m=\u001b[0m\u001b[0;34m\"Game_ID\"\u001b[0m\u001b[0;34m,\u001b[0m \u001b[0minplace\u001b[0m\u001b[0;34m=\u001b[0m\u001b[0;32mTrue\u001b[0m\u001b[0;34m)\u001b[0m\u001b[0;34m\u001b[0m\u001b[0;34m\u001b[0m\u001b[0m\n",
      "\u001b[0;32m~/miniconda3/lib/python3.9/site-packages/pandas/util/_decorators.py\u001b[0m in \u001b[0;36mwrapper\u001b[0;34m(*args, **kwargs)\u001b[0m\n\u001b[1;32m    309\u001b[0m                     \u001b[0mstacklevel\u001b[0m\u001b[0;34m=\u001b[0m\u001b[0mstacklevel\u001b[0m\u001b[0;34m,\u001b[0m\u001b[0;34m\u001b[0m\u001b[0;34m\u001b[0m\u001b[0m\n\u001b[1;32m    310\u001b[0m                 )\n\u001b[0;32m--> 311\u001b[0;31m             \u001b[0;32mreturn\u001b[0m \u001b[0mfunc\u001b[0m\u001b[0;34m(\u001b[0m\u001b[0;34m*\u001b[0m\u001b[0margs\u001b[0m\u001b[0;34m,\u001b[0m \u001b[0;34m**\u001b[0m\u001b[0mkwargs\u001b[0m\u001b[0;34m)\u001b[0m\u001b[0;34m\u001b[0m\u001b[0;34m\u001b[0m\u001b[0m\n\u001b[0m\u001b[1;32m    312\u001b[0m \u001b[0;34m\u001b[0m\u001b[0m\n\u001b[1;32m    313\u001b[0m         \u001b[0;32mreturn\u001b[0m \u001b[0mwrapper\u001b[0m\u001b[0;34m\u001b[0m\u001b[0;34m\u001b[0m\u001b[0m\n",
      "\u001b[0;32m~/miniconda3/lib/python3.9/site-packages/pandas/core/frame.py\u001b[0m in \u001b[0;36mdrop_duplicates\u001b[0;34m(self, subset, keep, inplace, ignore_index)\u001b[0m\n\u001b[1;32m   6061\u001b[0m         \u001b[0minplace\u001b[0m \u001b[0;34m=\u001b[0m \u001b[0mvalidate_bool_kwarg\u001b[0m\u001b[0;34m(\u001b[0m\u001b[0minplace\u001b[0m\u001b[0;34m,\u001b[0m \u001b[0;34m\"inplace\"\u001b[0m\u001b[0;34m)\u001b[0m\u001b[0;34m\u001b[0m\u001b[0;34m\u001b[0m\u001b[0m\n\u001b[1;32m   6062\u001b[0m         \u001b[0mignore_index\u001b[0m \u001b[0;34m=\u001b[0m \u001b[0mvalidate_bool_kwarg\u001b[0m\u001b[0;34m(\u001b[0m\u001b[0mignore_index\u001b[0m\u001b[0;34m,\u001b[0m \u001b[0;34m\"ignore_index\"\u001b[0m\u001b[0;34m)\u001b[0m\u001b[0;34m\u001b[0m\u001b[0;34m\u001b[0m\u001b[0m\n\u001b[0;32m-> 6063\u001b[0;31m         \u001b[0mduplicated\u001b[0m \u001b[0;34m=\u001b[0m \u001b[0mself\u001b[0m\u001b[0;34m.\u001b[0m\u001b[0mduplicated\u001b[0m\u001b[0;34m(\u001b[0m\u001b[0msubset\u001b[0m\u001b[0;34m,\u001b[0m \u001b[0mkeep\u001b[0m\u001b[0;34m=\u001b[0m\u001b[0mkeep\u001b[0m\u001b[0;34m)\u001b[0m\u001b[0;34m\u001b[0m\u001b[0;34m\u001b[0m\u001b[0m\n\u001b[0m\u001b[1;32m   6064\u001b[0m \u001b[0;34m\u001b[0m\u001b[0m\n\u001b[1;32m   6065\u001b[0m         \u001b[0mresult\u001b[0m \u001b[0;34m=\u001b[0m \u001b[0mself\u001b[0m\u001b[0;34m[\u001b[0m\u001b[0;34m-\u001b[0m\u001b[0mduplicated\u001b[0m\u001b[0;34m]\u001b[0m\u001b[0;34m\u001b[0m\u001b[0;34m\u001b[0m\u001b[0m\n",
      "\u001b[0;32m~/miniconda3/lib/python3.9/site-packages/pandas/core/frame.py\u001b[0m in \u001b[0;36mduplicated\u001b[0;34m(self, subset, keep)\u001b[0m\n\u001b[1;32m   6195\u001b[0m         \u001b[0mdiff\u001b[0m \u001b[0;34m=\u001b[0m \u001b[0mIndex\u001b[0m\u001b[0;34m(\u001b[0m\u001b[0msubset\u001b[0m\u001b[0;34m)\u001b[0m\u001b[0;34m.\u001b[0m\u001b[0mdifference\u001b[0m\u001b[0;34m(\u001b[0m\u001b[0mself\u001b[0m\u001b[0;34m.\u001b[0m\u001b[0mcolumns\u001b[0m\u001b[0;34m)\u001b[0m\u001b[0;34m\u001b[0m\u001b[0;34m\u001b[0m\u001b[0m\n\u001b[1;32m   6196\u001b[0m         \u001b[0;32mif\u001b[0m \u001b[0;32mnot\u001b[0m \u001b[0mdiff\u001b[0m\u001b[0;34m.\u001b[0m\u001b[0mempty\u001b[0m\u001b[0;34m:\u001b[0m\u001b[0;34m\u001b[0m\u001b[0;34m\u001b[0m\u001b[0m\n\u001b[0;32m-> 6197\u001b[0;31m             \u001b[0;32mraise\u001b[0m \u001b[0mKeyError\u001b[0m\u001b[0;34m(\u001b[0m\u001b[0mdiff\u001b[0m\u001b[0;34m)\u001b[0m\u001b[0;34m\u001b[0m\u001b[0;34m\u001b[0m\u001b[0m\n\u001b[0m\u001b[1;32m   6198\u001b[0m \u001b[0;34m\u001b[0m\u001b[0m\n\u001b[1;32m   6199\u001b[0m         \u001b[0mvals\u001b[0m \u001b[0;34m=\u001b[0m \u001b[0;34m(\u001b[0m\u001b[0mcol\u001b[0m\u001b[0;34m.\u001b[0m\u001b[0mvalues\u001b[0m \u001b[0;32mfor\u001b[0m \u001b[0mname\u001b[0m\u001b[0;34m,\u001b[0m \u001b[0mcol\u001b[0m \u001b[0;32min\u001b[0m \u001b[0mself\u001b[0m\u001b[0;34m.\u001b[0m\u001b[0mitems\u001b[0m\u001b[0;34m(\u001b[0m\u001b[0;34m)\u001b[0m \u001b[0;32mif\u001b[0m \u001b[0mname\u001b[0m \u001b[0;32min\u001b[0m \u001b[0msubset\u001b[0m\u001b[0;34m)\u001b[0m\u001b[0;34m\u001b[0m\u001b[0;34m\u001b[0m\u001b[0m\n",
      "\u001b[0;31mKeyError\u001b[0m: Index(['Game_ID'], dtype='object')"
     ]
    }
   ],
   "source": [
    "train.drop_duplicates(subset=\"Game_ID\", inplace=True)\n",
    "test.drop_duplicates(subset=\"Game_ID\", inplace=True)"
   ]
  },
  {
   "cell_type": "code",
   "execution_count": 432,
   "id": "568a6f05-8b2f-4308-8fe5-ae2b66197f16",
   "metadata": {},
   "outputs": [],
   "source": [
    "%matplotlib inline"
   ]
  },
  {
   "cell_type": "code",
   "execution_count": 433,
   "id": "6c732087-cd6b-4742-997f-c83254440bf4",
   "metadata": {},
   "outputs": [
    {
     "name": "stderr",
     "output_type": "stream",
     "text": [
      "/home/sadkh/miniconda3/lib/python3.9/site-packages/IPython/core/interactiveshell.py:3444: DtypeWarning: Columns (19,20,24) have mixed types.Specify dtype option on import or set low_memory=False.\n",
      "  exec(code_obj, self.user_global_ns, self.user_ns)\n"
     ]
    }
   ],
   "source": [
    "# Reading the data\n",
    "train = pd.read_csv(\"Train.csv\")\n",
    "test = pd.read_csv(\"Test.csv\")\n",
    "game_statistics = pd.read_csv(\"game_statistics.csv\")"
   ]
  },
  {
   "cell_type": "code",
   "execution_count": 434,
   "id": "d35f5203-c169-4921-b70a-bba41e3678ae",
   "metadata": {},
   "outputs": [
    {
     "data": {
      "text/html": [
       "<div>\n",
       "<style scoped>\n",
       "    .dataframe tbody tr th:only-of-type {\n",
       "        vertical-align: middle;\n",
       "    }\n",
       "\n",
       "    .dataframe tbody tr th {\n",
       "        vertical-align: top;\n",
       "    }\n",
       "\n",
       "    .dataframe thead th {\n",
       "        text-align: right;\n",
       "    }\n",
       "</style>\n",
       "<table border=\"1\" class=\"dataframe\">\n",
       "  <thead>\n",
       "    <tr style=\"text-align: right;\">\n",
       "      <th></th>\n",
       "      <th>Date</th>\n",
       "      <th>Season</th>\n",
       "      <th>Match_ID</th>\n",
       "      <th>Game_ID</th>\n",
       "      <th>Home Team</th>\n",
       "      <th>Away Team</th>\n",
       "      <th>Score</th>\n",
       "    </tr>\n",
       "  </thead>\n",
       "  <tbody>\n",
       "    <tr>\n",
       "      <th>0</th>\n",
       "      <td>2017-02-15</td>\n",
       "      <td>1</td>\n",
       "      <td>1.0</td>\n",
       "      <td>ID_KAG4KAE9</td>\n",
       "      <td>Antennae</td>\n",
       "      <td>Andromeda</td>\n",
       "      <td>Away win</td>\n",
       "    </tr>\n",
       "    <tr>\n",
       "      <th>1</th>\n",
       "      <td>2016-09-14</td>\n",
       "      <td>1</td>\n",
       "      <td>12.0</td>\n",
       "      <td>ID_T7H1XN5Z</td>\n",
       "      <td>Andromeda</td>\n",
       "      <td>Antennae</td>\n",
       "      <td>Draw</td>\n",
       "    </tr>\n",
       "    <tr>\n",
       "      <th>2</th>\n",
       "      <td>2016-12-12</td>\n",
       "      <td>1</td>\n",
       "      <td>13.0</td>\n",
       "      <td>ID_O1P9FGN4</td>\n",
       "      <td>Andromeda</td>\n",
       "      <td>Butterfly</td>\n",
       "      <td>Away win</td>\n",
       "    </tr>\n",
       "    <tr>\n",
       "      <th>3</th>\n",
       "      <td>2017-01-25</td>\n",
       "      <td>1</td>\n",
       "      <td>14.0</td>\n",
       "      <td>ID_TR5M4KQV</td>\n",
       "      <td>Andromeda</td>\n",
       "      <td>Cigar</td>\n",
       "      <td>Away win</td>\n",
       "    </tr>\n",
       "    <tr>\n",
       "      <th>4</th>\n",
       "      <td>2016-08-24</td>\n",
       "      <td>1</td>\n",
       "      <td>15.0</td>\n",
       "      <td>ID_EOIECRE2</td>\n",
       "      <td>Andromeda</td>\n",
       "      <td>Circinus</td>\n",
       "      <td>Home Win</td>\n",
       "    </tr>\n",
       "  </tbody>\n",
       "</table>\n",
       "</div>"
      ],
      "text/plain": [
       "         Date  Season  Match_ID      Game_ID  Home Team  Away Team     Score\n",
       "0  2017-02-15       1       1.0  ID_KAG4KAE9   Antennae  Andromeda  Away win\n",
       "1  2016-09-14       1      12.0  ID_T7H1XN5Z  Andromeda   Antennae      Draw\n",
       "2  2016-12-12       1      13.0  ID_O1P9FGN4  Andromeda  Butterfly  Away win\n",
       "3  2017-01-25       1      14.0  ID_TR5M4KQV  Andromeda      Cigar  Away win\n",
       "4  2016-08-24       1      15.0  ID_EOIECRE2  Andromeda   Circinus  Home Win"
      ]
     },
     "execution_count": 434,
     "metadata": {},
     "output_type": "execute_result"
    }
   ],
   "source": [
    "train.head()"
   ]
  },
  {
   "cell_type": "code",
   "execution_count": 435,
   "id": "3464cab9-4e21-4b35-ab2b-85a37d421838",
   "metadata": {},
   "outputs": [
    {
     "data": {
      "text/html": [
       "<div>\n",
       "<style scoped>\n",
       "    .dataframe tbody tr th:only-of-type {\n",
       "        vertical-align: middle;\n",
       "    }\n",
       "\n",
       "    .dataframe tbody tr th {\n",
       "        vertical-align: top;\n",
       "    }\n",
       "\n",
       "    .dataframe thead th {\n",
       "        text-align: right;\n",
       "    }\n",
       "</style>\n",
       "<table border=\"1\" class=\"dataframe\">\n",
       "  <thead>\n",
       "    <tr style=\"text-align: right;\">\n",
       "      <th></th>\n",
       "      <th>Date</th>\n",
       "      <th>Season</th>\n",
       "      <th>Match_ID</th>\n",
       "      <th>Game_ID</th>\n",
       "      <th>Home Team</th>\n",
       "      <th>Away Team</th>\n",
       "    </tr>\n",
       "  </thead>\n",
       "  <tbody>\n",
       "    <tr>\n",
       "      <th>0</th>\n",
       "      <td>2018-12-08</td>\n",
       "      <td>3</td>\n",
       "      <td>102.0</td>\n",
       "      <td>ID_8518U587</td>\n",
       "      <td>Antennae</td>\n",
       "      <td>Cosmos Redshift 7</td>\n",
       "    </tr>\n",
       "    <tr>\n",
       "      <th>1</th>\n",
       "      <td>2018-09-11</td>\n",
       "      <td>3</td>\n",
       "      <td>18.0</td>\n",
       "      <td>ID_H49BIKG7</td>\n",
       "      <td>Cosmos Redshift 7</td>\n",
       "      <td>Tadpole</td>\n",
       "    </tr>\n",
       "    <tr>\n",
       "      <th>2</th>\n",
       "      <td>2018-09-25</td>\n",
       "      <td>3</td>\n",
       "      <td>32.0</td>\n",
       "      <td>ID_PO6SP4VA</td>\n",
       "      <td>Cosmos Redshift 7</td>\n",
       "      <td>Medusa Merger</td>\n",
       "    </tr>\n",
       "    <tr>\n",
       "      <th>3</th>\n",
       "      <td>2018-10-02</td>\n",
       "      <td>3</td>\n",
       "      <td>40.0</td>\n",
       "      <td>ID_MZRCNBAQ</td>\n",
       "      <td>Cartwheel</td>\n",
       "      <td>Cosmos Redshift 7</td>\n",
       "    </tr>\n",
       "    <tr>\n",
       "      <th>4</th>\n",
       "      <td>2018-12-20</td>\n",
       "      <td>3</td>\n",
       "      <td>123.0</td>\n",
       "      <td>ID_CV9VOLIU</td>\n",
       "      <td>Cosmos Redshift 7</td>\n",
       "      <td>Needle</td>\n",
       "    </tr>\n",
       "  </tbody>\n",
       "</table>\n",
       "</div>"
      ],
      "text/plain": [
       "         Date  Season  Match_ID      Game_ID          Home Team  \\\n",
       "0  2018-12-08       3     102.0  ID_8518U587           Antennae   \n",
       "1  2018-09-11       3      18.0  ID_H49BIKG7  Cosmos Redshift 7   \n",
       "2  2018-09-25       3      32.0  ID_PO6SP4VA  Cosmos Redshift 7   \n",
       "3  2018-10-02       3      40.0  ID_MZRCNBAQ          Cartwheel   \n",
       "4  2018-12-20       3     123.0  ID_CV9VOLIU  Cosmos Redshift 7   \n",
       "\n",
       "           Away Team  \n",
       "0  Cosmos Redshift 7  \n",
       "1            Tadpole  \n",
       "2      Medusa Merger  \n",
       "3  Cosmos Redshift 7  \n",
       "4             Needle  "
      ]
     },
     "execution_count": 435,
     "metadata": {},
     "output_type": "execute_result"
    }
   ],
   "source": [
    "test.head()"
   ]
  },
  {
   "cell_type": "code",
   "execution_count": 436,
   "id": "51b1eef5-bd5a-463b-bd58-853cf8864991",
   "metadata": {},
   "outputs": [
    {
     "data": {
      "text/html": [
       "<div>\n",
       "<style scoped>\n",
       "    .dataframe tbody tr th:only-of-type {\n",
       "        vertical-align: middle;\n",
       "    }\n",
       "\n",
       "    .dataframe tbody tr th {\n",
       "        vertical-align: top;\n",
       "    }\n",
       "\n",
       "    .dataframe thead th {\n",
       "        text-align: right;\n",
       "    }\n",
       "</style>\n",
       "<table border=\"1\" class=\"dataframe\">\n",
       "  <thead>\n",
       "    <tr style=\"text-align: right;\">\n",
       "      <th></th>\n",
       "      <th>Game_ID</th>\n",
       "      <th>Player_ID</th>\n",
       "      <th>id</th>\n",
       "      <th>X</th>\n",
       "      <th>Y</th>\n",
       "      <th>Team</th>\n",
       "      <th>Action</th>\n",
       "      <th>Half</th>\n",
       "      <th>Manager</th>\n",
       "      <th>Opposition_Team</th>\n",
       "      <th>...</th>\n",
       "      <th>Start_minutes</th>\n",
       "      <th>End_minutes</th>\n",
       "      <th>next_player</th>\n",
       "      <th>next_action</th>\n",
       "      <th>next_x</th>\n",
       "      <th>next_y</th>\n",
       "      <th>event_id</th>\n",
       "      <th>next_team</th>\n",
       "      <th>next_event_id</th>\n",
       "      <th>xt_value</th>\n",
       "    </tr>\n",
       "  </thead>\n",
       "  <tbody>\n",
       "    <tr>\n",
       "      <th>0</th>\n",
       "      <td>ID_ZZKYYPVY</td>\n",
       "      <td>Player_O7HO1NOB</td>\n",
       "      <td>1.0</td>\n",
       "      <td>52.5</td>\n",
       "      <td>34.0</td>\n",
       "      <td>Circinus</td>\n",
       "      <td>Accurate passes</td>\n",
       "      <td>1st half</td>\n",
       "      <td>Ryoichi</td>\n",
       "      <td>Backward</td>\n",
       "      <td>...</td>\n",
       "      <td>0.03</td>\n",
       "      <td>0.37</td>\n",
       "      <td>NaN</td>\n",
       "      <td>NaN</td>\n",
       "      <td>NaN</td>\n",
       "      <td>NaN</td>\n",
       "      <td>NaN</td>\n",
       "      <td>NaN</td>\n",
       "      <td>NaN</td>\n",
       "      <td>NaN</td>\n",
       "    </tr>\n",
       "    <tr>\n",
       "      <th>1</th>\n",
       "      <td>ID_ZZKYYPVY</td>\n",
       "      <td>Player_O7HO1NOB</td>\n",
       "      <td>2.0</td>\n",
       "      <td>52.5</td>\n",
       "      <td>34.0</td>\n",
       "      <td>Circinus</td>\n",
       "      <td>Positional attacks</td>\n",
       "      <td>1st half</td>\n",
       "      <td>Ryoichi</td>\n",
       "      <td>Backward</td>\n",
       "      <td>...</td>\n",
       "      <td>0.03</td>\n",
       "      <td>0.37</td>\n",
       "      <td>NaN</td>\n",
       "      <td>NaN</td>\n",
       "      <td>NaN</td>\n",
       "      <td>NaN</td>\n",
       "      <td>NaN</td>\n",
       "      <td>NaN</td>\n",
       "      <td>NaN</td>\n",
       "      <td>NaN</td>\n",
       "    </tr>\n",
       "    <tr>\n",
       "      <th>2</th>\n",
       "      <td>ID_ZZKYYPVY</td>\n",
       "      <td>Player_J0V7B0YE</td>\n",
       "      <td>3.0</td>\n",
       "      <td>37.0</td>\n",
       "      <td>32.7</td>\n",
       "      <td>Circinus</td>\n",
       "      <td>Positional attacks</td>\n",
       "      <td>1st half</td>\n",
       "      <td>Ryoichi</td>\n",
       "      <td>Backward</td>\n",
       "      <td>...</td>\n",
       "      <td>0.05</td>\n",
       "      <td>0.38</td>\n",
       "      <td>NaN</td>\n",
       "      <td>NaN</td>\n",
       "      <td>NaN</td>\n",
       "      <td>NaN</td>\n",
       "      <td>NaN</td>\n",
       "      <td>NaN</td>\n",
       "      <td>NaN</td>\n",
       "      <td>NaN</td>\n",
       "    </tr>\n",
       "    <tr>\n",
       "      <th>3</th>\n",
       "      <td>ID_ZZKYYPVY</td>\n",
       "      <td>Player_J0V7B0YE</td>\n",
       "      <td>4.0</td>\n",
       "      <td>39.5</td>\n",
       "      <td>33.0</td>\n",
       "      <td>Circinus</td>\n",
       "      <td>Positional attacks</td>\n",
       "      <td>1st half</td>\n",
       "      <td>Ryoichi</td>\n",
       "      <td>Backward</td>\n",
       "      <td>...</td>\n",
       "      <td>0.07</td>\n",
       "      <td>0.40</td>\n",
       "      <td>NaN</td>\n",
       "      <td>NaN</td>\n",
       "      <td>NaN</td>\n",
       "      <td>NaN</td>\n",
       "      <td>NaN</td>\n",
       "      <td>NaN</td>\n",
       "      <td>NaN</td>\n",
       "      <td>NaN</td>\n",
       "    </tr>\n",
       "    <tr>\n",
       "      <th>4</th>\n",
       "      <td>ID_ZZKYYPVY</td>\n",
       "      <td>Player_J0V7B0YE</td>\n",
       "      <td>5.0</td>\n",
       "      <td>39.5</td>\n",
       "      <td>33.0</td>\n",
       "      <td>Circinus</td>\n",
       "      <td>Inaccurate passes</td>\n",
       "      <td>1st half</td>\n",
       "      <td>Ryoichi</td>\n",
       "      <td>Backward</td>\n",
       "      <td>...</td>\n",
       "      <td>0.07</td>\n",
       "      <td>0.40</td>\n",
       "      <td>NaN</td>\n",
       "      <td>NaN</td>\n",
       "      <td>NaN</td>\n",
       "      <td>NaN</td>\n",
       "      <td>NaN</td>\n",
       "      <td>NaN</td>\n",
       "      <td>NaN</td>\n",
       "      <td>NaN</td>\n",
       "    </tr>\n",
       "  </tbody>\n",
       "</table>\n",
       "<p>5 rows × 27 columns</p>\n",
       "</div>"
      ],
      "text/plain": [
       "       Game_ID        Player_ID   id     X     Y      Team  \\\n",
       "0  ID_ZZKYYPVY  Player_O7HO1NOB  1.0  52.5  34.0  Circinus   \n",
       "1  ID_ZZKYYPVY  Player_O7HO1NOB  2.0  52.5  34.0  Circinus   \n",
       "2  ID_ZZKYYPVY  Player_J0V7B0YE  3.0  37.0  32.7  Circinus   \n",
       "3  ID_ZZKYYPVY  Player_J0V7B0YE  4.0  39.5  33.0  Circinus   \n",
       "4  ID_ZZKYYPVY  Player_J0V7B0YE  5.0  39.5  33.0  Circinus   \n",
       "\n",
       "               Action      Half  Manager Opposition_Team  ...  Start_minutes  \\\n",
       "0     Accurate passes  1st half  Ryoichi        Backward  ...           0.03   \n",
       "1  Positional attacks  1st half  Ryoichi        Backward  ...           0.03   \n",
       "2  Positional attacks  1st half  Ryoichi        Backward  ...           0.05   \n",
       "3  Positional attacks  1st half  Ryoichi        Backward  ...           0.07   \n",
       "4   Inaccurate passes  1st half  Ryoichi        Backward  ...           0.07   \n",
       "\n",
       "   End_minutes  next_player  next_action  next_x  next_y  event_id  next_team  \\\n",
       "0         0.37          NaN          NaN     NaN     NaN       NaN        NaN   \n",
       "1         0.37          NaN          NaN     NaN     NaN       NaN        NaN   \n",
       "2         0.38          NaN          NaN     NaN     NaN       NaN        NaN   \n",
       "3         0.40          NaN          NaN     NaN     NaN       NaN        NaN   \n",
       "4         0.40          NaN          NaN     NaN     NaN       NaN        NaN   \n",
       "\n",
       "   next_event_id xt_value  \n",
       "0            NaN      NaN  \n",
       "1            NaN      NaN  \n",
       "2            NaN      NaN  \n",
       "3            NaN      NaN  \n",
       "4            NaN      NaN  \n",
       "\n",
       "[5 rows x 27 columns]"
      ]
     },
     "execution_count": 436,
     "metadata": {},
     "output_type": "execute_result"
    }
   ],
   "source": [
    "game_statistics.head()"
   ]
  },
  {
   "cell_type": "code",
   "execution_count": 437,
   "id": "d9b1b961-0f7f-44d4-9abf-5b5a3598e989",
   "metadata": {},
   "outputs": [
    {
     "name": "stdout",
     "output_type": "stream",
     "text": [
      "<class 'pandas.core.frame.DataFrame'>\n",
      "RangeIndex: 412 entries, 0 to 411\n",
      "Data columns (total 7 columns):\n",
      " #   Column     Non-Null Count  Dtype  \n",
      "---  ------     --------------  -----  \n",
      " 0   Date       412 non-null    object \n",
      " 1   Season     412 non-null    int64  \n",
      " 2   Match_ID   412 non-null    float64\n",
      " 3   Game_ID    412 non-null    object \n",
      " 4   Home Team  412 non-null    object \n",
      " 5   Away Team  412 non-null    object \n",
      " 6   Score      412 non-null    object \n",
      "dtypes: float64(1), int64(1), object(5)\n",
      "memory usage: 22.7+ KB\n"
     ]
    }
   ],
   "source": [
    "train.info()"
   ]
  },
  {
   "cell_type": "code",
   "execution_count": 438,
   "id": "6835bf91-38cf-4375-976f-80e884c1d1fb",
   "metadata": {},
   "outputs": [
    {
     "name": "stdout",
     "output_type": "stream",
     "text": [
      "<class 'pandas.core.frame.DataFrame'>\n",
      "RangeIndex: 234 entries, 0 to 233\n",
      "Data columns (total 6 columns):\n",
      " #   Column     Non-Null Count  Dtype  \n",
      "---  ------     --------------  -----  \n",
      " 0   Date       234 non-null    object \n",
      " 1   Season     234 non-null    int64  \n",
      " 2   Match_ID   234 non-null    float64\n",
      " 3   Game_ID    234 non-null    object \n",
      " 4   Home Team  234 non-null    object \n",
      " 5   Away Team  234 non-null    object \n",
      "dtypes: float64(1), int64(1), object(4)\n",
      "memory usage: 11.1+ KB\n"
     ]
    }
   ],
   "source": [
    "test.info()"
   ]
  },
  {
   "cell_type": "code",
   "execution_count": 439,
   "id": "0b563d8a-0ceb-4181-a996-5ab20be7057a",
   "metadata": {},
   "outputs": [
    {
     "name": "stdout",
     "output_type": "stream",
     "text": [
      "<class 'pandas.core.frame.DataFrame'>\n",
      "RangeIndex: 2428101 entries, 0 to 2428100\n",
      "Data columns (total 27 columns):\n",
      " #   Column             Dtype  \n",
      "---  ------             -----  \n",
      " 0   Game_ID            object \n",
      " 1   Player_ID          object \n",
      " 2   id                 float64\n",
      " 3   X                  float64\n",
      " 4   Y                  float64\n",
      " 5   Team               object \n",
      " 6   Action             object \n",
      " 7   Half               object \n",
      " 8   Manager            object \n",
      " 9   Opposition_Team    object \n",
      " 10  Shots              float64\n",
      " 11  SoT                float64\n",
      " 12  Goals_scored       float64\n",
      " 13  Goals_conceded     float64\n",
      " 14  Accurate passes    float64\n",
      " 15  Inaccurate passes  float64\n",
      " 16  Passes             float64\n",
      " 17  Start_minutes      float64\n",
      " 18  End_minutes        float64\n",
      " 19  next_player        object \n",
      " 20  next_action        object \n",
      " 21  next_x             float64\n",
      " 22  next_y             float64\n",
      " 23  event_id           float64\n",
      " 24  next_team          object \n",
      " 25  next_event_id      float64\n",
      " 26  xt_value           float64\n",
      "dtypes: float64(17), object(10)\n",
      "memory usage: 500.2+ MB\n"
     ]
    }
   ],
   "source": [
    "game_statistics.info()"
   ]
  },
  {
   "cell_type": "markdown",
   "id": "a9c71438-d950-4cd7-aa5c-dbb52fd34026",
   "metadata": {},
   "source": [
    "## Data Analyis & Visualization"
   ]
  },
  {
   "cell_type": "code",
   "execution_count": 440,
   "id": "a11ae20a-016b-409b-93f7-cfbfb2120b7d",
   "metadata": {},
   "outputs": [],
   "source": [
    "# train.profile_report()"
   ]
  },
  {
   "cell_type": "code",
   "execution_count": 441,
   "id": "99c4ada5-1f11-4403-b33c-454e49b35f57",
   "metadata": {},
   "outputs": [
    {
     "name": "stderr",
     "output_type": "stream",
     "text": [
      "/home/sadkh/miniconda3/lib/python3.9/site-packages/seaborn/_decorators.py:36: FutureWarning: Pass the following variable as a keyword arg: x. From version 0.12, the only valid positional argument will be `data`, and passing other arguments without an explicit keyword will result in an error or misinterpretation.\n",
      "  warnings.warn(\n"
     ]
    },
    {
     "data": {
      "text/plain": [
       "<AxesSubplot:xlabel='Score', ylabel='count'>"
      ]
     },
     "execution_count": 441,
     "metadata": {},
     "output_type": "execute_result"
    },
    {
     "data": {
      "image/png": "[encoded data removed]",
      "text/plain": [
       "<Figure size 432x288 with 1 Axes>"
      ]
     },
     "metadata": {
      "needs_background": "light"
     },
     "output_type": "display_data"
    }
   ],
   "source": [
    "sns.countplot(train['Score'])"
   ]
  },
  {
   "cell_type": "code",
   "execution_count": 442,
   "id": "40338755-5de6-460a-87fb-e891b5aa4b75",
   "metadata": {},
   "outputs": [
    {
     "name": "stderr",
     "output_type": "stream",
     "text": [
      "/home/sadkh/miniconda3/lib/python3.9/site-packages/seaborn/_decorators.py:36: FutureWarning: Pass the following variable as a keyword arg: x. From version 0.12, the only valid positional argument will be `data`, and passing other arguments without an explicit keyword will result in an error or misinterpretation.\n",
      "  warnings.warn(\n"
     ]
    },
    {
     "data": {
      "text/plain": [
       "<AxesSubplot:xlabel='Home Team', ylabel='count'>"
      ]
     },
     "execution_count": 442,
     "metadata": {},
     "output_type": "execute_result"
    },
    {
     "data": {
      "image/png": "[encoded data removed]",
      "text/plain": [
       "<Figure size 1944x576 with 1 Axes>"
      ]
     },
     "metadata": {
      "needs_background": "light"
     },
     "output_type": "display_data"
    }
   ],
   "source": [
    "plt.figure(figsize=(27, 8))\n",
    "sns.countplot(train['Home Team'])"
   ]
  },
  {
   "cell_type": "code",
   "execution_count": 443,
   "id": "20e32f20-03ba-430d-8872-78b63620a7b0",
   "metadata": {},
   "outputs": [
    {
     "name": "stderr",
     "output_type": "stream",
     "text": [
      "/home/sadkh/miniconda3/lib/python3.9/site-packages/seaborn/_decorators.py:36: FutureWarning: Pass the following variable as a keyword arg: x. From version 0.12, the only valid positional argument will be `data`, and passing other arguments without an explicit keyword will result in an error or misinterpretation.\n",
      "  warnings.warn(\n"
     ]
    },
    {
     "data": {
      "text/plain": [
       "<AxesSubplot:xlabel='Away Team', ylabel='count'>"
      ]
     },
     "execution_count": 443,
     "metadata": {},
     "output_type": "execute_result"
    },
    {
     "data": {
      "image/png": "[encoded data removed]",
      "text/plain": [
       "<Figure size 1944x576 with 1 Axes>"
      ]
     },
     "metadata": {
      "needs_background": "light"
     },
     "output_type": "display_data"
    }
   ],
   "source": [
    "plt.figure(figsize=(27, 8))\n",
    "sns.countplot(train['Away Team'])"
   ]
  },
  {
   "cell_type": "code",
   "execution_count": 444,
   "id": "f660ad4d-83e9-4e2a-9066-3c36f366eced",
   "metadata": {},
   "outputs": [
    {
     "name": "stderr",
     "output_type": "stream",
     "text": [
      "/home/sadkh/miniconda3/lib/python3.9/site-packages/seaborn/_decorators.py:36: FutureWarning: Pass the following variable as a keyword arg: x. From version 0.12, the only valid positional argument will be `data`, and passing other arguments without an explicit keyword will result in an error or misinterpretation.\n",
      "  warnings.warn(\n"
     ]
    },
    {
     "data": {
      "text/plain": [
       "<AxesSubplot:xlabel='Season', ylabel='count'>"
      ]
     },
     "execution_count": 444,
     "metadata": {},
     "output_type": "execute_result"
    },
    {
     "data": {
      "image/png": "[encoded data removed]",
      "text/plain": [
       "<Figure size 432x288 with 1 Axes>"
      ]
     },
     "metadata": {
      "needs_background": "light"
     },
     "output_type": "display_data"
    }
   ],
   "source": [
    "sns.countplot(train['Season'])"
   ]
  },
  {
   "cell_type": "code",
   "execution_count": 445,
   "id": "d2945f79-3327-4bac-ba79-1503eb9acc9f",
   "metadata": {},
   "outputs": [
    {
     "data": {
      "text/plain": [
       "19"
      ]
     },
     "execution_count": 445,
     "metadata": {},
     "output_type": "execute_result"
    }
   ],
   "source": [
    "train['Home Team'].nunique()"
   ]
  },
  {
   "cell_type": "code",
   "execution_count": 446,
   "id": "180ed739-bfb8-4f5c-abc4-4b58901967ae",
   "metadata": {},
   "outputs": [
    {
     "data": {
      "text/plain": [
       "19"
      ]
     },
     "execution_count": 446,
     "metadata": {},
     "output_type": "execute_result"
    }
   ],
   "source": [
    "train[\"Away Team\"].nunique()"
   ]
  },
  {
   "cell_type": "code",
   "execution_count": 447,
   "id": "1e1bdbdd-0948-4903-9690-b31d08a87355",
   "metadata": {},
   "outputs": [
    {
     "data": {
      "text/plain": [
       "224"
      ]
     },
     "execution_count": 447,
     "metadata": {},
     "output_type": "execute_result"
    }
   ],
   "source": [
    "train[\"Match_ID\"].nunique()"
   ]
  },
  {
   "cell_type": "code",
   "execution_count": 448,
   "id": "19d9bfd6-d43f-4516-a79a-cb259da969a2",
   "metadata": {},
   "outputs": [
    {
     "data": {
      "text/plain": [
       "412"
      ]
     },
     "execution_count": 448,
     "metadata": {},
     "output_type": "execute_result"
    }
   ],
   "source": [
    "train[\"Game_ID\"].nunique()"
   ]
  },
  {
   "cell_type": "code",
   "execution_count": 449,
   "id": "7c2a358d-a7b1-4d30-bb3f-a7d09dfc2141",
   "metadata": {},
   "outputs": [
    {
     "name": "stderr",
     "output_type": "stream",
     "text": [
      "/home/sadkh/miniconda3/lib/python3.9/site-packages/seaborn/_decorators.py:36: FutureWarning: Pass the following variable as a keyword arg: x. From version 0.12, the only valid positional argument will be `data`, and passing other arguments without an explicit keyword will result in an error or misinterpretation.\n",
      "  warnings.warn(\n"
     ]
    },
    {
     "data": {
      "text/plain": [
       "<AxesSubplot:xlabel='Home Team', ylabel='count'>"
      ]
     },
     "execution_count": 449,
     "metadata": {},
     "output_type": "execute_result"
    },
    {
     "data": {
      "image/png": "[encoded data removed]",
      "text/plain": [
       "<Figure size 1944x576 with 1 Axes>"
      ]
     },
     "metadata": {
      "needs_background": "light"
     },
     "output_type": "display_data"
    }
   ],
   "source": [
    "plt.figure(figsize=(27, 8))\n",
    "sns.countplot(test['Home Team'])"
   ]
  },
  {
   "cell_type": "code",
   "execution_count": 450,
   "id": "6e283baa-a86a-41bb-aa3a-557e4d618fa5",
   "metadata": {},
   "outputs": [
    {
     "name": "stderr",
     "output_type": "stream",
     "text": [
      "/home/sadkh/miniconda3/lib/python3.9/site-packages/seaborn/_decorators.py:36: FutureWarning: Pass the following variable as a keyword arg: x. From version 0.12, the only valid positional argument will be `data`, and passing other arguments without an explicit keyword will result in an error or misinterpretation.\n",
      "  warnings.warn(\n"
     ]
    },
    {
     "data": {
      "text/plain": [
       "<AxesSubplot:xlabel='Away Team', ylabel='count'>"
      ]
     },
     "execution_count": 450,
     "metadata": {},
     "output_type": "execute_result"
    },
    {
     "data": {
      "image/png": "[encoded data removed]",
      "text/plain": [
       "<Figure size 1944x576 with 1 Axes>"
      ]
     },
     "metadata": {
      "needs_background": "light"
     },
     "output_type": "display_data"
    }
   ],
   "source": [
    "plt.figure(figsize=(27,8))\n",
    "sns.countplot(test[\"Away Team\"])"
   ]
  },
  {
   "cell_type": "code",
   "execution_count": 451,
   "id": "26931b7b-bedf-4248-afa7-04513db0712f",
   "metadata": {},
   "outputs": [
    {
     "name": "stderr",
     "output_type": "stream",
     "text": [
      "/home/sadkh/miniconda3/lib/python3.9/site-packages/seaborn/_decorators.py:36: FutureWarning: Pass the following variable as a keyword arg: x. From version 0.12, the only valid positional argument will be `data`, and passing other arguments without an explicit keyword will result in an error or misinterpretation.\n",
      "  warnings.warn(\n"
     ]
    },
    {
     "data": {
      "text/plain": [
       "<AxesSubplot:xlabel='Season', ylabel='count'>"
      ]
     },
     "execution_count": 451,
     "metadata": {},
     "output_type": "execute_result"
    },
    {
     "data": {
      "image/png": "[encoded data removed]",
      "text/plain": [
       "<Figure size 432x288 with 1 Axes>"
      ]
     },
     "metadata": {
      "needs_background": "light"
     },
     "output_type": "display_data"
    }
   ],
   "source": [
    "sns.countplot(test['Season'])"
   ]
  },
  {
   "cell_type": "code",
   "execution_count": 452,
   "id": "6c716e5a-123d-431b-92f2-6689df2f038e",
   "metadata": {},
   "outputs": [
    {
     "data": {
      "text/plain": [
       "16"
      ]
     },
     "execution_count": 452,
     "metadata": {},
     "output_type": "execute_result"
    }
   ],
   "source": [
    "test[\"Home Team\"].nunique()"
   ]
  },
  {
   "cell_type": "code",
   "execution_count": 453,
   "id": "3ff7ed31-0cfc-4fa4-97df-f1dcb0cb7afe",
   "metadata": {},
   "outputs": [
    {
     "data": {
      "text/plain": [
       "16"
      ]
     },
     "execution_count": 453,
     "metadata": {},
     "output_type": "execute_result"
    }
   ],
   "source": [
    "test[\"Away Team\"].nunique()"
   ]
  },
  {
   "cell_type": "code",
   "execution_count": 454,
   "id": "89dea630-4114-40a1-ad5d-8ea97e179ccc",
   "metadata": {},
   "outputs": [
    {
     "data": {
      "text/plain": [
       "213"
      ]
     },
     "execution_count": 454,
     "metadata": {},
     "output_type": "execute_result"
    }
   ],
   "source": [
    "test[\"Match_ID\"].nunique()"
   ]
  },
  {
   "cell_type": "code",
   "execution_count": 455,
   "id": "b2bac520-142d-4c0c-89f6-a98fd5826f24",
   "metadata": {},
   "outputs": [
    {
     "data": {
      "text/plain": [
       "234"
      ]
     },
     "execution_count": 455,
     "metadata": {},
     "output_type": "execute_result"
    }
   ],
   "source": [
    "test[\"Game_ID\"].nunique()"
   ]
  },
  {
   "cell_type": "code",
   "execution_count": 456,
   "id": "08291a77-c8fc-4671-b0b0-82390f47de01",
   "metadata": {},
   "outputs": [
    {
     "data": {
      "text/plain": [
       "Index(['Date', 'Season', 'Match_ID', 'Game_ID', 'Home Team', 'Away Team',\n",
       "       'Score'],\n",
       "      dtype='object')"
      ]
     },
     "execution_count": 456,
     "metadata": {},
     "output_type": "execute_result"
    }
   ],
   "source": [
    "train.columns"
   ]
  },
  {
   "cell_type": "code",
   "execution_count": 457,
   "id": "a8cd393c-2fbf-4b0a-b9c5-a32515f079ad",
   "metadata": {},
   "outputs": [
    {
     "data": {
      "text/plain": [
       "Index(['Date', 'Season', 'Match_ID', 'Game_ID', 'Home Team', 'Away Team'], dtype='object')"
      ]
     },
     "execution_count": 457,
     "metadata": {},
     "output_type": "execute_result"
    }
   ],
   "source": [
    "test.columns"
   ]
  },
  {
   "cell_type": "markdown",
   "id": "f6ec7f70-5ac1-4370-962c-9673fd1c15a7",
   "metadata": {},
   "source": [
    "## Data Preprocesing"
   ]
  },
  {
   "cell_type": "code",
   "execution_count": 458,
   "id": "6e311e7d-6777-48fa-b9c4-f031d38dfcf6",
   "metadata": {},
   "outputs": [],
   "source": [
    "train[\"Train\"] = 1\n",
    "test[\"Train\"] = 0\n",
    "\n",
    "train_test = pd.concat([train, test])"
   ]
  },
  {
   "cell_type": "code",
   "execution_count": 459,
   "id": "f80e8015-555d-49fe-9439-283d3a3cf6e9",
   "metadata": {},
   "outputs": [
    {
     "data": {
      "text/html": [
       "<div>\n",
       "<style scoped>\n",
       "    .dataframe tbody tr th:only-of-type {\n",
       "        vertical-align: middle;\n",
       "    }\n",
       "\n",
       "    .dataframe tbody tr th {\n",
       "        vertical-align: top;\n",
       "    }\n",
       "\n",
       "    .dataframe thead th {\n",
       "        text-align: right;\n",
       "    }\n",
       "</style>\n",
       "<table border=\"1\" class=\"dataframe\">\n",
       "  <thead>\n",
       "    <tr style=\"text-align: right;\">\n",
       "      <th></th>\n",
       "      <th>Date</th>\n",
       "      <th>Season</th>\n",
       "      <th>Match_ID</th>\n",
       "      <th>Game_ID</th>\n",
       "      <th>Home Team</th>\n",
       "      <th>Away Team</th>\n",
       "      <th>Score</th>\n",
       "      <th>Train</th>\n",
       "    </tr>\n",
       "  </thead>\n",
       "  <tbody>\n",
       "    <tr>\n",
       "      <th>229</th>\n",
       "      <td>2018-12-08</td>\n",
       "      <td>3</td>\n",
       "      <td>300.0</td>\n",
       "      <td>ID_QKQ00O16</td>\n",
       "      <td>Malin 1</td>\n",
       "      <td>Needle</td>\n",
       "      <td>NaN</td>\n",
       "      <td>0</td>\n",
       "    </tr>\n",
       "    <tr>\n",
       "      <th>230</th>\n",
       "      <td>2018-12-11</td>\n",
       "      <td>3</td>\n",
       "      <td>300.0</td>\n",
       "      <td>ID_172V2IXW</td>\n",
       "      <td>Tadpole</td>\n",
       "      <td>Needle</td>\n",
       "      <td>NaN</td>\n",
       "      <td>0</td>\n",
       "    </tr>\n",
       "    <tr>\n",
       "      <th>231</th>\n",
       "      <td>2018-12-22</td>\n",
       "      <td>3</td>\n",
       "      <td>300.0</td>\n",
       "      <td>ID_2ZK5TE39</td>\n",
       "      <td>Circinus</td>\n",
       "      <td>Malin 1</td>\n",
       "      <td>NaN</td>\n",
       "      <td>0</td>\n",
       "    </tr>\n",
       "    <tr>\n",
       "      <th>232</th>\n",
       "      <td>2019-05-07</td>\n",
       "      <td>3</td>\n",
       "      <td>300.0</td>\n",
       "      <td>ID_IS54QGW9</td>\n",
       "      <td>Needle</td>\n",
       "      <td>Andromeda</td>\n",
       "      <td>NaN</td>\n",
       "      <td>0</td>\n",
       "    </tr>\n",
       "    <tr>\n",
       "      <th>233</th>\n",
       "      <td>2019-05-14</td>\n",
       "      <td>3</td>\n",
       "      <td>300.0</td>\n",
       "      <td>ID_YG9IONLS</td>\n",
       "      <td>Tadpole</td>\n",
       "      <td>Circinus</td>\n",
       "      <td>NaN</td>\n",
       "      <td>0</td>\n",
       "    </tr>\n",
       "  </tbody>\n",
       "</table>\n",
       "</div>"
      ],
      "text/plain": [
       "           Date  Season  Match_ID      Game_ID Home Team  Away Team Score  \\\n",
       "229  2018-12-08       3     300.0  ID_QKQ00O16   Malin 1     Needle   NaN   \n",
       "230  2018-12-11       3     300.0  ID_172V2IXW   Tadpole     Needle   NaN   \n",
       "231  2018-12-22       3     300.0  ID_2ZK5TE39  Circinus    Malin 1   NaN   \n",
       "232  2019-05-07       3     300.0  ID_IS54QGW9    Needle  Andromeda   NaN   \n",
       "233  2019-05-14       3     300.0  ID_YG9IONLS   Tadpole   Circinus   NaN   \n",
       "\n",
       "     Train  \n",
       "229      0  \n",
       "230      0  \n",
       "231      0  \n",
       "232      0  \n",
       "233      0  "
      ]
     },
     "execution_count": 459,
     "metadata": {},
     "output_type": "execute_result"
    }
   ],
   "source": [
    "train_test.tail(5)"
   ]
  },
  {
   "cell_type": "code",
   "execution_count": 460,
   "id": "9a095d9b-ce28-4c34-9e12-fc7c05957a9a",
   "metadata": {},
   "outputs": [
    {
     "data": {
      "text/plain": [
       "646"
      ]
     },
     "execution_count": 460,
     "metadata": {},
     "output_type": "execute_result"
    }
   ],
   "source": [
    "len(train_test)"
   ]
  },
  {
   "cell_type": "code",
   "execution_count": 461,
   "id": "16cb08be-8ed2-4e02-89c5-8defc5caf2e6",
   "metadata": {},
   "outputs": [
    {
     "data": {
      "text/html": [
       "<div>\n",
       "<style scoped>\n",
       "    .dataframe tbody tr th:only-of-type {\n",
       "        vertical-align: middle;\n",
       "    }\n",
       "\n",
       "    .dataframe tbody tr th {\n",
       "        vertical-align: top;\n",
       "    }\n",
       "\n",
       "    .dataframe thead th {\n",
       "        text-align: right;\n",
       "    }\n",
       "</style>\n",
       "<table border=\"1\" class=\"dataframe\">\n",
       "  <thead>\n",
       "    <tr style=\"text-align: right;\">\n",
       "      <th></th>\n",
       "      <th>Game_ID</th>\n",
       "      <th>Player_ID</th>\n",
       "      <th>id</th>\n",
       "      <th>X</th>\n",
       "      <th>Y</th>\n",
       "      <th>Team</th>\n",
       "      <th>Action</th>\n",
       "      <th>Half</th>\n",
       "      <th>Manager</th>\n",
       "      <th>Opposition_Team</th>\n",
       "      <th>...</th>\n",
       "      <th>Start_minutes</th>\n",
       "      <th>End_minutes</th>\n",
       "      <th>next_player</th>\n",
       "      <th>next_action</th>\n",
       "      <th>next_x</th>\n",
       "      <th>next_y</th>\n",
       "      <th>event_id</th>\n",
       "      <th>next_team</th>\n",
       "      <th>next_event_id</th>\n",
       "      <th>xt_value</th>\n",
       "    </tr>\n",
       "  </thead>\n",
       "  <tbody>\n",
       "    <tr>\n",
       "      <th>0</th>\n",
       "      <td>ID_ZZKYYPVY</td>\n",
       "      <td>Player_O7HO1NOB</td>\n",
       "      <td>1.0</td>\n",
       "      <td>52.5</td>\n",
       "      <td>34.0</td>\n",
       "      <td>Circinus</td>\n",
       "      <td>Accurate passes</td>\n",
       "      <td>1st half</td>\n",
       "      <td>Ryoichi</td>\n",
       "      <td>Backward</td>\n",
       "      <td>...</td>\n",
       "      <td>0.03</td>\n",
       "      <td>0.37</td>\n",
       "      <td>NaN</td>\n",
       "      <td>NaN</td>\n",
       "      <td>NaN</td>\n",
       "      <td>NaN</td>\n",
       "      <td>NaN</td>\n",
       "      <td>NaN</td>\n",
       "      <td>NaN</td>\n",
       "      <td>NaN</td>\n",
       "    </tr>\n",
       "    <tr>\n",
       "      <th>1</th>\n",
       "      <td>ID_ZZKYYPVY</td>\n",
       "      <td>Player_O7HO1NOB</td>\n",
       "      <td>2.0</td>\n",
       "      <td>52.5</td>\n",
       "      <td>34.0</td>\n",
       "      <td>Circinus</td>\n",
       "      <td>Positional attacks</td>\n",
       "      <td>1st half</td>\n",
       "      <td>Ryoichi</td>\n",
       "      <td>Backward</td>\n",
       "      <td>...</td>\n",
       "      <td>0.03</td>\n",
       "      <td>0.37</td>\n",
       "      <td>NaN</td>\n",
       "      <td>NaN</td>\n",
       "      <td>NaN</td>\n",
       "      <td>NaN</td>\n",
       "      <td>NaN</td>\n",
       "      <td>NaN</td>\n",
       "      <td>NaN</td>\n",
       "      <td>NaN</td>\n",
       "    </tr>\n",
       "    <tr>\n",
       "      <th>2</th>\n",
       "      <td>ID_ZZKYYPVY</td>\n",
       "      <td>Player_J0V7B0YE</td>\n",
       "      <td>3.0</td>\n",
       "      <td>37.0</td>\n",
       "      <td>32.7</td>\n",
       "      <td>Circinus</td>\n",
       "      <td>Positional attacks</td>\n",
       "      <td>1st half</td>\n",
       "      <td>Ryoichi</td>\n",
       "      <td>Backward</td>\n",
       "      <td>...</td>\n",
       "      <td>0.05</td>\n",
       "      <td>0.38</td>\n",
       "      <td>NaN</td>\n",
       "      <td>NaN</td>\n",
       "      <td>NaN</td>\n",
       "      <td>NaN</td>\n",
       "      <td>NaN</td>\n",
       "      <td>NaN</td>\n",
       "      <td>NaN</td>\n",
       "      <td>NaN</td>\n",
       "    </tr>\n",
       "    <tr>\n",
       "      <th>3</th>\n",
       "      <td>ID_ZZKYYPVY</td>\n",
       "      <td>Player_J0V7B0YE</td>\n",
       "      <td>4.0</td>\n",
       "      <td>39.5</td>\n",
       "      <td>33.0</td>\n",
       "      <td>Circinus</td>\n",
       "      <td>Positional attacks</td>\n",
       "      <td>1st half</td>\n",
       "      <td>Ryoichi</td>\n",
       "      <td>Backward</td>\n",
       "      <td>...</td>\n",
       "      <td>0.07</td>\n",
       "      <td>0.40</td>\n",
       "      <td>NaN</td>\n",
       "      <td>NaN</td>\n",
       "      <td>NaN</td>\n",
       "      <td>NaN</td>\n",
       "      <td>NaN</td>\n",
       "      <td>NaN</td>\n",
       "      <td>NaN</td>\n",
       "      <td>NaN</td>\n",
       "    </tr>\n",
       "    <tr>\n",
       "      <th>4</th>\n",
       "      <td>ID_ZZKYYPVY</td>\n",
       "      <td>Player_J0V7B0YE</td>\n",
       "      <td>5.0</td>\n",
       "      <td>39.5</td>\n",
       "      <td>33.0</td>\n",
       "      <td>Circinus</td>\n",
       "      <td>Inaccurate passes</td>\n",
       "      <td>1st half</td>\n",
       "      <td>Ryoichi</td>\n",
       "      <td>Backward</td>\n",
       "      <td>...</td>\n",
       "      <td>0.07</td>\n",
       "      <td>0.40</td>\n",
       "      <td>NaN</td>\n",
       "      <td>NaN</td>\n",
       "      <td>NaN</td>\n",
       "      <td>NaN</td>\n",
       "      <td>NaN</td>\n",
       "      <td>NaN</td>\n",
       "      <td>NaN</td>\n",
       "      <td>NaN</td>\n",
       "    </tr>\n",
       "  </tbody>\n",
       "</table>\n",
       "<p>5 rows × 27 columns</p>\n",
       "</div>"
      ],
      "text/plain": [
       "       Game_ID        Player_ID   id     X     Y      Team  \\\n",
       "0  ID_ZZKYYPVY  Player_O7HO1NOB  1.0  52.5  34.0  Circinus   \n",
       "1  ID_ZZKYYPVY  Player_O7HO1NOB  2.0  52.5  34.0  Circinus   \n",
       "2  ID_ZZKYYPVY  Player_J0V7B0YE  3.0  37.0  32.7  Circinus   \n",
       "3  ID_ZZKYYPVY  Player_J0V7B0YE  4.0  39.5  33.0  Circinus   \n",
       "4  ID_ZZKYYPVY  Player_J0V7B0YE  5.0  39.5  33.0  Circinus   \n",
       "\n",
       "               Action      Half  Manager Opposition_Team  ...  Start_minutes  \\\n",
       "0     Accurate passes  1st half  Ryoichi        Backward  ...           0.03   \n",
       "1  Positional attacks  1st half  Ryoichi        Backward  ...           0.03   \n",
       "2  Positional attacks  1st half  Ryoichi        Backward  ...           0.05   \n",
       "3  Positional attacks  1st half  Ryoichi        Backward  ...           0.07   \n",
       "4   Inaccurate passes  1st half  Ryoichi        Backward  ...           0.07   \n",
       "\n",
       "   End_minutes  next_player  next_action  next_x  next_y  event_id  next_team  \\\n",
       "0         0.37          NaN          NaN     NaN     NaN       NaN        NaN   \n",
       "1         0.37          NaN          NaN     NaN     NaN       NaN        NaN   \n",
       "2         0.38          NaN          NaN     NaN     NaN       NaN        NaN   \n",
       "3         0.40          NaN          NaN     NaN     NaN       NaN        NaN   \n",
       "4         0.40          NaN          NaN     NaN     NaN       NaN        NaN   \n",
       "\n",
       "   next_event_id xt_value  \n",
       "0            NaN      NaN  \n",
       "1            NaN      NaN  \n",
       "2            NaN      NaN  \n",
       "3            NaN      NaN  \n",
       "4            NaN      NaN  \n",
       "\n",
       "[5 rows x 27 columns]"
      ]
     },
     "execution_count": 461,
     "metadata": {},
     "output_type": "execute_result"
    }
   ],
   "source": [
    "game_statistics.head(5)"
   ]
  },
  {
   "cell_type": "code",
   "execution_count": 462,
   "id": "d9ae5d83-6745-4dc7-a47a-89b9fb151797",
   "metadata": {},
   "outputs": [],
   "source": [
    "# Merging all the data \n",
    "all_data = pd.merge(game_statistics, train_test, on=\"Game_ID\")"
   ]
  },
  {
   "cell_type": "code",
   "execution_count": 463,
   "id": "c88ba88d-7559-404b-8310-039901ef01d0",
   "metadata": {},
   "outputs": [
    {
     "data": {
      "text/plain": [
       "(2428101, 34)"
      ]
     },
     "execution_count": 463,
     "metadata": {},
     "output_type": "execute_result"
    }
   ],
   "source": [
    "all_data.shape"
   ]
  },
  {
   "cell_type": "code",
   "execution_count": 464,
   "id": "c04c68d7-a486-497b-ad28-6d82bfaa7ac9",
   "metadata": {},
   "outputs": [
    {
     "data": {
      "text/html": [
       "<div>\n",
       "<style scoped>\n",
       "    .dataframe tbody tr th:only-of-type {\n",
       "        vertical-align: middle;\n",
       "    }\n",
       "\n",
       "    .dataframe tbody tr th {\n",
       "        vertical-align: top;\n",
       "    }\n",
       "\n",
       "    .dataframe thead th {\n",
       "        text-align: right;\n",
       "    }\n",
       "</style>\n",
       "<table border=\"1\" class=\"dataframe\">\n",
       "  <thead>\n",
       "    <tr style=\"text-align: right;\">\n",
       "      <th></th>\n",
       "      <th>Game_ID</th>\n",
       "      <th>Player_ID</th>\n",
       "      <th>id</th>\n",
       "      <th>X</th>\n",
       "      <th>Y</th>\n",
       "      <th>Team</th>\n",
       "      <th>Action</th>\n",
       "      <th>Half</th>\n",
       "      <th>Manager</th>\n",
       "      <th>Opposition_Team</th>\n",
       "      <th>...</th>\n",
       "      <th>next_team</th>\n",
       "      <th>next_event_id</th>\n",
       "      <th>xt_value</th>\n",
       "      <th>Date</th>\n",
       "      <th>Season</th>\n",
       "      <th>Match_ID</th>\n",
       "      <th>Home Team</th>\n",
       "      <th>Away Team</th>\n",
       "      <th>Score</th>\n",
       "      <th>Train</th>\n",
       "    </tr>\n",
       "  </thead>\n",
       "  <tbody>\n",
       "    <tr>\n",
       "      <th>1785278</th>\n",
       "      <td>ID_A0EALXUP</td>\n",
       "      <td>Player_3JRB0GFG</td>\n",
       "      <td>1753.0</td>\n",
       "      <td>62.3</td>\n",
       "      <td>55.2</td>\n",
       "      <td>Medusa Merger</td>\n",
       "      <td>Inaccurate passes</td>\n",
       "      <td>2nd half</td>\n",
       "      <td>Akuma/Inuyasha</td>\n",
       "      <td>Sunflower</td>\n",
       "      <td>...</td>\n",
       "      <td>Sunflower</td>\n",
       "      <td>1037.0</td>\n",
       "      <td>0.0</td>\n",
       "      <td>2018-09-19</td>\n",
       "      <td>3</td>\n",
       "      <td>25.0</td>\n",
       "      <td>Medusa Merger</td>\n",
       "      <td>Sunflower</td>\n",
       "      <td>NaN</td>\n",
       "      <td>0</td>\n",
       "    </tr>\n",
       "    <tr>\n",
       "      <th>747486</th>\n",
       "      <td>ID_PMX7KBOK</td>\n",
       "      <td>Player_M6RKVH8G</td>\n",
       "      <td>2495.0</td>\n",
       "      <td>43.4</td>\n",
       "      <td>7.6</td>\n",
       "      <td>Medusa Merger</td>\n",
       "      <td>Positional attacks</td>\n",
       "      <td>2nd half</td>\n",
       "      <td>Levi</td>\n",
       "      <td>Cigar</td>\n",
       "      <td>...</td>\n",
       "      <td>NaN</td>\n",
       "      <td>NaN</td>\n",
       "      <td>NaN</td>\n",
       "      <td>2016-10-27</td>\n",
       "      <td>1</td>\n",
       "      <td>152.0</td>\n",
       "      <td>Medusa Merger</td>\n",
       "      <td>Cigar</td>\n",
       "      <td>Away win</td>\n",
       "      <td>1</td>\n",
       "    </tr>\n",
       "    <tr>\n",
       "      <th>1176713</th>\n",
       "      <td>ID_JMKNLEUZ</td>\n",
       "      <td>Player_LY73FGIV</td>\n",
       "      <td>2885.0</td>\n",
       "      <td>1.1</td>\n",
       "      <td>60.6</td>\n",
       "      <td>Cosmos Redshift 7</td>\n",
       "      <td>Challenges won</td>\n",
       "      <td>2nd half</td>\n",
       "      <td>Kouki</td>\n",
       "      <td>Cartwheel</td>\n",
       "      <td>...</td>\n",
       "      <td>NaN</td>\n",
       "      <td>NaN</td>\n",
       "      <td>NaN</td>\n",
       "      <td>2016-09-28</td>\n",
       "      <td>1</td>\n",
       "      <td>117.0</td>\n",
       "      <td>Cosmos Redshift 7</td>\n",
       "      <td>Cartwheel</td>\n",
       "      <td>Draw</td>\n",
       "      <td>1</td>\n",
       "    </tr>\n",
       "    <tr>\n",
       "      <th>1731272</th>\n",
       "      <td>ID_AOLHJTW3</td>\n",
       "      <td>Player_93SHHX3N</td>\n",
       "      <td>3075.0</td>\n",
       "      <td>95.3</td>\n",
       "      <td>14.1</td>\n",
       "      <td>Tadpole</td>\n",
       "      <td>Throw-in attacks</td>\n",
       "      <td>2nd half</td>\n",
       "      <td>Daiki</td>\n",
       "      <td>Fireworks</td>\n",
       "      <td>...</td>\n",
       "      <td>Tadpole</td>\n",
       "      <td>1758.0</td>\n",
       "      <td>0.0</td>\n",
       "      <td>2019-02-16</td>\n",
       "      <td>3</td>\n",
       "      <td>135.0</td>\n",
       "      <td>Fireworks</td>\n",
       "      <td>Tadpole</td>\n",
       "      <td>NaN</td>\n",
       "      <td>0</td>\n",
       "    </tr>\n",
       "    <tr>\n",
       "      <th>2285372</th>\n",
       "      <td>ID_1Y735BT9</td>\n",
       "      <td>Player_UMEMIWZL</td>\n",
       "      <td>2321.0</td>\n",
       "      <td>78.5</td>\n",
       "      <td>5.4</td>\n",
       "      <td>Andromeda</td>\n",
       "      <td>Positional attacks</td>\n",
       "      <td>2nd half</td>\n",
       "      <td>Ryoichi</td>\n",
       "      <td>Antennae</td>\n",
       "      <td>...</td>\n",
       "      <td>Andromeda</td>\n",
       "      <td>1337.0</td>\n",
       "      <td>0.0</td>\n",
       "      <td>2018-09-22</td>\n",
       "      <td>3</td>\n",
       "      <td>30.0</td>\n",
       "      <td>Andromeda</td>\n",
       "      <td>Antennae</td>\n",
       "      <td>NaN</td>\n",
       "      <td>0</td>\n",
       "    </tr>\n",
       "  </tbody>\n",
       "</table>\n",
       "<p>5 rows × 34 columns</p>\n",
       "</div>"
      ],
      "text/plain": [
       "             Game_ID        Player_ID      id     X     Y               Team  \\\n",
       "1785278  ID_A0EALXUP  Player_3JRB0GFG  1753.0  62.3  55.2      Medusa Merger   \n",
       "747486   ID_PMX7KBOK  Player_M6RKVH8G  2495.0  43.4   7.6      Medusa Merger   \n",
       "1176713  ID_JMKNLEUZ  Player_LY73FGIV  2885.0   1.1  60.6  Cosmos Redshift 7   \n",
       "1731272  ID_AOLHJTW3  Player_93SHHX3N  3075.0  95.3  14.1            Tadpole   \n",
       "2285372  ID_1Y735BT9  Player_UMEMIWZL  2321.0  78.5   5.4          Andromeda   \n",
       "\n",
       "                     Action      Half         Manager Opposition_Team  ...  \\\n",
       "1785278   Inaccurate passes  2nd half  Akuma/Inuyasha       Sunflower  ...   \n",
       "747486   Positional attacks  2nd half            Levi           Cigar  ...   \n",
       "1176713      Challenges won  2nd half           Kouki       Cartwheel  ...   \n",
       "1731272    Throw-in attacks  2nd half           Daiki       Fireworks  ...   \n",
       "2285372  Positional attacks  2nd half         Ryoichi        Antennae  ...   \n",
       "\n",
       "         next_team  next_event_id  xt_value        Date  Season  Match_ID  \\\n",
       "1785278  Sunflower         1037.0       0.0  2018-09-19       3      25.0   \n",
       "747486         NaN            NaN       NaN  2016-10-27       1     152.0   \n",
       "1176713        NaN            NaN       NaN  2016-09-28       1     117.0   \n",
       "1731272    Tadpole         1758.0       0.0  2019-02-16       3     135.0   \n",
       "2285372  Andromeda         1337.0       0.0  2018-09-22       3      30.0   \n",
       "\n",
       "                 Home Team  Away Team     Score Train  \n",
       "1785278      Medusa Merger  Sunflower       NaN     0  \n",
       "747486       Medusa Merger      Cigar  Away win     1  \n",
       "1176713  Cosmos Redshift 7  Cartwheel      Draw     1  \n",
       "1731272          Fireworks    Tadpole       NaN     0  \n",
       "2285372          Andromeda   Antennae       NaN     0  \n",
       "\n",
       "[5 rows x 34 columns]"
      ]
     },
     "execution_count": 464,
     "metadata": {},
     "output_type": "execute_result"
    }
   ],
   "source": [
    "all_data.sample(5)"
   ]
  },
  {
   "cell_type": "code",
   "execution_count": 465,
   "id": "74aa93df-cab5-445f-a076-1d3f6e2d7346",
   "metadata": {},
   "outputs": [
    {
     "name": "stdout",
     "output_type": "stream",
     "text": [
      "<class 'pandas.core.frame.DataFrame'>\n",
      "Int64Index: 2428101 entries, 0 to 2428100\n",
      "Data columns (total 34 columns):\n",
      " #   Column             Dtype  \n",
      "---  ------             -----  \n",
      " 0   Game_ID            object \n",
      " 1   Player_ID          object \n",
      " 2   id                 float64\n",
      " 3   X                  float64\n",
      " 4   Y                  float64\n",
      " 5   Team               object \n",
      " 6   Action             object \n",
      " 7   Half               object \n",
      " 8   Manager            object \n",
      " 9   Opposition_Team    object \n",
      " 10  Shots              float64\n",
      " 11  SoT                float64\n",
      " 12  Goals_scored       float64\n",
      " 13  Goals_conceded     float64\n",
      " 14  Accurate passes    float64\n",
      " 15  Inaccurate passes  float64\n",
      " 16  Passes             float64\n",
      " 17  Start_minutes      float64\n",
      " 18  End_minutes        float64\n",
      " 19  next_player        object \n",
      " 20  next_action        object \n",
      " 21  next_x             float64\n",
      " 22  next_y             float64\n",
      " 23  event_id           float64\n",
      " 24  next_team          object \n",
      " 25  next_event_id      float64\n",
      " 26  xt_value           float64\n",
      " 27  Date               object \n",
      " 28  Season             int64  \n",
      " 29  Match_ID           float64\n",
      " 30  Home Team          object \n",
      " 31  Away Team          object \n",
      " 32  Score              object \n",
      " 33  Train              int64  \n",
      "dtypes: float64(18), int64(2), object(14)\n",
      "memory usage: 648.4+ MB\n"
     ]
    }
   ],
   "source": [
    "all_data.info()"
   ]
  },
  {
   "cell_type": "code",
   "execution_count": 466,
   "id": "f8d9cb4b-ad3a-4fba-9cc6-198da73de459",
   "metadata": {},
   "outputs": [],
   "source": [
    "# msn.matrix(all_data)"
   ]
  },
  {
   "cell_type": "code",
   "execution_count": 467,
   "id": "3f12d9b7-a5f9-4a4c-8755-d1d630e82653",
   "metadata": {},
   "outputs": [
    {
     "data": {
      "text/plain": [
       "Game_ID              0.000000\n",
       "Player_ID            0.000000\n",
       "id                   0.000000\n",
       "X                    0.000000\n",
       "Y                    0.000000\n",
       "Team                 0.000000\n",
       "Action               0.000004\n",
       "Half                 0.000005\n",
       "Manager              0.002307\n",
       "Opposition_Team      0.000000\n",
       "Shots                0.000038\n",
       "SoT                  0.000038\n",
       "Goals_scored         0.000038\n",
       "Goals_conceded       0.000038\n",
       "Accurate passes      0.000038\n",
       "Inaccurate passes    0.000038\n",
       "Passes               0.000038\n",
       "Start_minutes        0.000004\n",
       "End_minutes          0.000000\n",
       "next_player          0.672909\n",
       "next_action          0.672909\n",
       "next_x               0.672909\n",
       "next_y               0.672909\n",
       "event_id             0.672820\n",
       "next_team            0.672907\n",
       "next_event_id        0.672909\n",
       "xt_value             0.672820\n",
       "Date                 0.000000\n",
       "Season               0.000000\n",
       "Match_ID             0.000000\n",
       "Home Team            0.000000\n",
       "Away Team            0.000000\n",
       "Score                0.330340\n",
       "Train                0.000000\n",
       "dtype: float64"
      ]
     },
     "execution_count": 467,
     "metadata": {},
     "output_type": "execute_result"
    }
   ],
   "source": [
    "all_data.isnull().sum() / len(all_data) "
   ]
  },
  {
   "cell_type": "code",
   "execution_count": 468,
   "id": "fd0e85b0-1281-45bf-a463-145a95d3ef59",
   "metadata": {},
   "outputs": [],
   "source": [
    "train = all_data.loc[all_data[\"Train\"] == 1].copy()\n",
    "test = all_data.loc[all_data[\"Train\"] == 0].copy()"
   ]
  },
  {
   "cell_type": "code",
   "execution_count": 469,
   "id": "4fdc62bd-febe-4a7b-892f-31b3653463f6",
   "metadata": {},
   "outputs": [
    {
     "data": {
      "text/html": [
       "<div>\n",
       "<style scoped>\n",
       "    .dataframe tbody tr th:only-of-type {\n",
       "        vertical-align: middle;\n",
       "    }\n",
       "\n",
       "    .dataframe tbody tr th {\n",
       "        vertical-align: top;\n",
       "    }\n",
       "\n",
       "    .dataframe thead th {\n",
       "        text-align: right;\n",
       "    }\n",
       "</style>\n",
       "<table border=\"1\" class=\"dataframe\">\n",
       "  <thead>\n",
       "    <tr style=\"text-align: right;\">\n",
       "      <th></th>\n",
       "      <th>Game_ID</th>\n",
       "      <th>Player_ID</th>\n",
       "      <th>id</th>\n",
       "      <th>X</th>\n",
       "      <th>Y</th>\n",
       "      <th>Team</th>\n",
       "      <th>Action</th>\n",
       "      <th>Half</th>\n",
       "      <th>Manager</th>\n",
       "      <th>Opposition_Team</th>\n",
       "      <th>...</th>\n",
       "      <th>next_team</th>\n",
       "      <th>next_event_id</th>\n",
       "      <th>xt_value</th>\n",
       "      <th>Date</th>\n",
       "      <th>Season</th>\n",
       "      <th>Match_ID</th>\n",
       "      <th>Home Team</th>\n",
       "      <th>Away Team</th>\n",
       "      <th>Score</th>\n",
       "      <th>Train</th>\n",
       "    </tr>\n",
       "  </thead>\n",
       "  <tbody>\n",
       "    <tr>\n",
       "      <th>0</th>\n",
       "      <td>ID_ZZKYYPVY</td>\n",
       "      <td>Player_O7HO1NOB</td>\n",
       "      <td>1.0</td>\n",
       "      <td>52.5</td>\n",
       "      <td>34.0</td>\n",
       "      <td>Circinus</td>\n",
       "      <td>Accurate passes</td>\n",
       "      <td>1st half</td>\n",
       "      <td>Ryoichi</td>\n",
       "      <td>Backward</td>\n",
       "      <td>...</td>\n",
       "      <td>NaN</td>\n",
       "      <td>NaN</td>\n",
       "      <td>NaN</td>\n",
       "      <td>2017-12-06</td>\n",
       "      <td>2</td>\n",
       "      <td>39.0</td>\n",
       "      <td>Backward</td>\n",
       "      <td>Circinus</td>\n",
       "      <td>Home Win</td>\n",
       "      <td>1</td>\n",
       "    </tr>\n",
       "    <tr>\n",
       "      <th>1</th>\n",
       "      <td>ID_ZZKYYPVY</td>\n",
       "      <td>Player_O7HO1NOB</td>\n",
       "      <td>2.0</td>\n",
       "      <td>52.5</td>\n",
       "      <td>34.0</td>\n",
       "      <td>Circinus</td>\n",
       "      <td>Positional attacks</td>\n",
       "      <td>1st half</td>\n",
       "      <td>Ryoichi</td>\n",
       "      <td>Backward</td>\n",
       "      <td>...</td>\n",
       "      <td>NaN</td>\n",
       "      <td>NaN</td>\n",
       "      <td>NaN</td>\n",
       "      <td>2017-12-06</td>\n",
       "      <td>2</td>\n",
       "      <td>39.0</td>\n",
       "      <td>Backward</td>\n",
       "      <td>Circinus</td>\n",
       "      <td>Home Win</td>\n",
       "      <td>1</td>\n",
       "    </tr>\n",
       "    <tr>\n",
       "      <th>2</th>\n",
       "      <td>ID_ZZKYYPVY</td>\n",
       "      <td>Player_J0V7B0YE</td>\n",
       "      <td>3.0</td>\n",
       "      <td>37.0</td>\n",
       "      <td>32.7</td>\n",
       "      <td>Circinus</td>\n",
       "      <td>Positional attacks</td>\n",
       "      <td>1st half</td>\n",
       "      <td>Ryoichi</td>\n",
       "      <td>Backward</td>\n",
       "      <td>...</td>\n",
       "      <td>NaN</td>\n",
       "      <td>NaN</td>\n",
       "      <td>NaN</td>\n",
       "      <td>2017-12-06</td>\n",
       "      <td>2</td>\n",
       "      <td>39.0</td>\n",
       "      <td>Backward</td>\n",
       "      <td>Circinus</td>\n",
       "      <td>Home Win</td>\n",
       "      <td>1</td>\n",
       "    </tr>\n",
       "    <tr>\n",
       "      <th>3</th>\n",
       "      <td>ID_ZZKYYPVY</td>\n",
       "      <td>Player_J0V7B0YE</td>\n",
       "      <td>4.0</td>\n",
       "      <td>39.5</td>\n",
       "      <td>33.0</td>\n",
       "      <td>Circinus</td>\n",
       "      <td>Positional attacks</td>\n",
       "      <td>1st half</td>\n",
       "      <td>Ryoichi</td>\n",
       "      <td>Backward</td>\n",
       "      <td>...</td>\n",
       "      <td>NaN</td>\n",
       "      <td>NaN</td>\n",
       "      <td>NaN</td>\n",
       "      <td>2017-12-06</td>\n",
       "      <td>2</td>\n",
       "      <td>39.0</td>\n",
       "      <td>Backward</td>\n",
       "      <td>Circinus</td>\n",
       "      <td>Home Win</td>\n",
       "      <td>1</td>\n",
       "    </tr>\n",
       "    <tr>\n",
       "      <th>4</th>\n",
       "      <td>ID_ZZKYYPVY</td>\n",
       "      <td>Player_J0V7B0YE</td>\n",
       "      <td>5.0</td>\n",
       "      <td>39.5</td>\n",
       "      <td>33.0</td>\n",
       "      <td>Circinus</td>\n",
       "      <td>Inaccurate passes</td>\n",
       "      <td>1st half</td>\n",
       "      <td>Ryoichi</td>\n",
       "      <td>Backward</td>\n",
       "      <td>...</td>\n",
       "      <td>NaN</td>\n",
       "      <td>NaN</td>\n",
       "      <td>NaN</td>\n",
       "      <td>2017-12-06</td>\n",
       "      <td>2</td>\n",
       "      <td>39.0</td>\n",
       "      <td>Backward</td>\n",
       "      <td>Circinus</td>\n",
       "      <td>Home Win</td>\n",
       "      <td>1</td>\n",
       "    </tr>\n",
       "  </tbody>\n",
       "</table>\n",
       "<p>5 rows × 34 columns</p>\n",
       "</div>"
      ],
      "text/plain": [
       "       Game_ID        Player_ID   id     X     Y      Team  \\\n",
       "0  ID_ZZKYYPVY  Player_O7HO1NOB  1.0  52.5  34.0  Circinus   \n",
       "1  ID_ZZKYYPVY  Player_O7HO1NOB  2.0  52.5  34.0  Circinus   \n",
       "2  ID_ZZKYYPVY  Player_J0V7B0YE  3.0  37.0  32.7  Circinus   \n",
       "3  ID_ZZKYYPVY  Player_J0V7B0YE  4.0  39.5  33.0  Circinus   \n",
       "4  ID_ZZKYYPVY  Player_J0V7B0YE  5.0  39.5  33.0  Circinus   \n",
       "\n",
       "               Action      Half  Manager Opposition_Team  ...  next_team  \\\n",
       "0     Accurate passes  1st half  Ryoichi        Backward  ...        NaN   \n",
       "1  Positional attacks  1st half  Ryoichi        Backward  ...        NaN   \n",
       "2  Positional attacks  1st half  Ryoichi        Backward  ...        NaN   \n",
       "3  Positional attacks  1st half  Ryoichi        Backward  ...        NaN   \n",
       "4   Inaccurate passes  1st half  Ryoichi        Backward  ...        NaN   \n",
       "\n",
       "   next_event_id  xt_value        Date  Season  Match_ID  Home Team  \\\n",
       "0            NaN       NaN  2017-12-06       2      39.0   Backward   \n",
       "1            NaN       NaN  2017-12-06       2      39.0   Backward   \n",
       "2            NaN       NaN  2017-12-06       2      39.0   Backward   \n",
       "3            NaN       NaN  2017-12-06       2      39.0   Backward   \n",
       "4            NaN       NaN  2017-12-06       2      39.0   Backward   \n",
       "\n",
       "   Away Team     Score Train  \n",
       "0   Circinus  Home Win     1  \n",
       "1   Circinus  Home Win     1  \n",
       "2   Circinus  Home Win     1  \n",
       "3   Circinus  Home Win     1  \n",
       "4   Circinus  Home Win     1  \n",
       "\n",
       "[5 rows x 34 columns]"
      ]
     },
     "execution_count": 469,
     "metadata": {},
     "output_type": "execute_result"
    }
   ],
   "source": [
    "train.head()"
   ]
  },
  {
   "cell_type": "code",
   "execution_count": 470,
   "id": "f3d0568d-b0f8-47a0-9996-2fa3a4f5e982",
   "metadata": {},
   "outputs": [
    {
     "data": {
      "text/html": [
       "<div>\n",
       "<style scoped>\n",
       "    .dataframe tbody tr th:only-of-type {\n",
       "        vertical-align: middle;\n",
       "    }\n",
       "\n",
       "    .dataframe tbody tr th {\n",
       "        vertical-align: top;\n",
       "    }\n",
       "\n",
       "    .dataframe thead th {\n",
       "        text-align: right;\n",
       "    }\n",
       "</style>\n",
       "<table border=\"1\" class=\"dataframe\">\n",
       "  <thead>\n",
       "    <tr style=\"text-align: right;\">\n",
       "      <th></th>\n",
       "      <th>Game_ID</th>\n",
       "      <th>Player_ID</th>\n",
       "      <th>id</th>\n",
       "      <th>X</th>\n",
       "      <th>Y</th>\n",
       "      <th>Team</th>\n",
       "      <th>Action</th>\n",
       "      <th>Half</th>\n",
       "      <th>Manager</th>\n",
       "      <th>Opposition_Team</th>\n",
       "      <th>...</th>\n",
       "      <th>next_team</th>\n",
       "      <th>next_event_id</th>\n",
       "      <th>xt_value</th>\n",
       "      <th>Date</th>\n",
       "      <th>Season</th>\n",
       "      <th>Match_ID</th>\n",
       "      <th>Home Team</th>\n",
       "      <th>Away Team</th>\n",
       "      <th>Score</th>\n",
       "      <th>Train</th>\n",
       "    </tr>\n",
       "  </thead>\n",
       "  <tbody>\n",
       "    <tr>\n",
       "      <th>19031</th>\n",
       "      <td>ID_ZUPS2JD2</td>\n",
       "      <td>Player_5CBBVY85</td>\n",
       "      <td>1.0</td>\n",
       "      <td>52.5</td>\n",
       "      <td>34.0</td>\n",
       "      <td>Milky Way</td>\n",
       "      <td>Accurate passes</td>\n",
       "      <td>1st half</td>\n",
       "      <td>Masashi</td>\n",
       "      <td>Sunflower</td>\n",
       "      <td>...</td>\n",
       "      <td>Milky Way</td>\n",
       "      <td>1.0</td>\n",
       "      <td>-0.002220</td>\n",
       "      <td>2019-03-19</td>\n",
       "      <td>3</td>\n",
       "      <td>158.0</td>\n",
       "      <td>Sunflower</td>\n",
       "      <td>Milky Way</td>\n",
       "      <td>NaN</td>\n",
       "      <td>0</td>\n",
       "    </tr>\n",
       "    <tr>\n",
       "      <th>19032</th>\n",
       "      <td>ID_ZUPS2JD2</td>\n",
       "      <td>Player_5CBBVY85</td>\n",
       "      <td>2.0</td>\n",
       "      <td>52.5</td>\n",
       "      <td>34.0</td>\n",
       "      <td>Milky Way</td>\n",
       "      <td>Positional attacks</td>\n",
       "      <td>1st half</td>\n",
       "      <td>Masashi</td>\n",
       "      <td>Sunflower</td>\n",
       "      <td>...</td>\n",
       "      <td>Milky Way</td>\n",
       "      <td>0.0</td>\n",
       "      <td>0.000000</td>\n",
       "      <td>2019-03-19</td>\n",
       "      <td>3</td>\n",
       "      <td>158.0</td>\n",
       "      <td>Sunflower</td>\n",
       "      <td>Milky Way</td>\n",
       "      <td>NaN</td>\n",
       "      <td>0</td>\n",
       "    </tr>\n",
       "    <tr>\n",
       "      <th>19033</th>\n",
       "      <td>ID_ZUPS2JD2</td>\n",
       "      <td>Player_INTSA2WQ</td>\n",
       "      <td>3.0</td>\n",
       "      <td>37.5</td>\n",
       "      <td>30.9</td>\n",
       "      <td>Milky Way</td>\n",
       "      <td>Positional attacks</td>\n",
       "      <td>1st half</td>\n",
       "      <td>Masashi</td>\n",
       "      <td>Sunflower</td>\n",
       "      <td>...</td>\n",
       "      <td>Milky Way</td>\n",
       "      <td>1.0</td>\n",
       "      <td>0.000000</td>\n",
       "      <td>2019-03-19</td>\n",
       "      <td>3</td>\n",
       "      <td>158.0</td>\n",
       "      <td>Sunflower</td>\n",
       "      <td>Milky Way</td>\n",
       "      <td>NaN</td>\n",
       "      <td>0</td>\n",
       "    </tr>\n",
       "    <tr>\n",
       "      <th>19034</th>\n",
       "      <td>ID_ZUPS2JD2</td>\n",
       "      <td>Player_INTSA2WQ</td>\n",
       "      <td>4.0</td>\n",
       "      <td>37.5</td>\n",
       "      <td>30.9</td>\n",
       "      <td>Milky Way</td>\n",
       "      <td>Accurate passes</td>\n",
       "      <td>1st half</td>\n",
       "      <td>Masashi</td>\n",
       "      <td>Sunflower</td>\n",
       "      <td>...</td>\n",
       "      <td>Sunflower</td>\n",
       "      <td>2.0</td>\n",
       "      <td>0.016906</td>\n",
       "      <td>2019-03-19</td>\n",
       "      <td>3</td>\n",
       "      <td>158.0</td>\n",
       "      <td>Sunflower</td>\n",
       "      <td>Milky Way</td>\n",
       "      <td>NaN</td>\n",
       "      <td>0</td>\n",
       "    </tr>\n",
       "    <tr>\n",
       "      <th>19035</th>\n",
       "      <td>ID_ZUPS2JD2</td>\n",
       "      <td>Player_1AJ0QRLU</td>\n",
       "      <td>5.0</td>\n",
       "      <td>26.0</td>\n",
       "      <td>10.8</td>\n",
       "      <td>Sunflower</td>\n",
       "      <td>Positional attacks</td>\n",
       "      <td>1st half</td>\n",
       "      <td>Frodo</td>\n",
       "      <td>Milky Way</td>\n",
       "      <td>...</td>\n",
       "      <td>Milky Way</td>\n",
       "      <td>3.0</td>\n",
       "      <td>0.000000</td>\n",
       "      <td>2019-03-19</td>\n",
       "      <td>3</td>\n",
       "      <td>158.0</td>\n",
       "      <td>Sunflower</td>\n",
       "      <td>Milky Way</td>\n",
       "      <td>NaN</td>\n",
       "      <td>0</td>\n",
       "    </tr>\n",
       "  </tbody>\n",
       "</table>\n",
       "<p>5 rows × 34 columns</p>\n",
       "</div>"
      ],
      "text/plain": [
       "           Game_ID        Player_ID   id     X     Y       Team  \\\n",
       "19031  ID_ZUPS2JD2  Player_5CBBVY85  1.0  52.5  34.0  Milky Way   \n",
       "19032  ID_ZUPS2JD2  Player_5CBBVY85  2.0  52.5  34.0  Milky Way   \n",
       "19033  ID_ZUPS2JD2  Player_INTSA2WQ  3.0  37.5  30.9  Milky Way   \n",
       "19034  ID_ZUPS2JD2  Player_INTSA2WQ  4.0  37.5  30.9  Milky Way   \n",
       "19035  ID_ZUPS2JD2  Player_1AJ0QRLU  5.0  26.0  10.8  Sunflower   \n",
       "\n",
       "                   Action      Half  Manager Opposition_Team  ...  next_team  \\\n",
       "19031     Accurate passes  1st half  Masashi       Sunflower  ...  Milky Way   \n",
       "19032  Positional attacks  1st half  Masashi       Sunflower  ...  Milky Way   \n",
       "19033  Positional attacks  1st half  Masashi       Sunflower  ...  Milky Way   \n",
       "19034     Accurate passes  1st half  Masashi       Sunflower  ...  Sunflower   \n",
       "19035  Positional attacks  1st half    Frodo       Milky Way  ...  Milky Way   \n",
       "\n",
       "       next_event_id  xt_value        Date  Season  Match_ID  Home Team  \\\n",
       "19031            1.0 -0.002220  2019-03-19       3     158.0  Sunflower   \n",
       "19032            0.0  0.000000  2019-03-19       3     158.0  Sunflower   \n",
       "19033            1.0  0.000000  2019-03-19       3     158.0  Sunflower   \n",
       "19034            2.0  0.016906  2019-03-19       3     158.0  Sunflower   \n",
       "19035            3.0  0.000000  2019-03-19       3     158.0  Sunflower   \n",
       "\n",
       "       Away Team  Score Train  \n",
       "19031  Milky Way    NaN     0  \n",
       "19032  Milky Way    NaN     0  \n",
       "19033  Milky Way    NaN     0  \n",
       "19034  Milky Way    NaN     0  \n",
       "19035  Milky Way    NaN     0  \n",
       "\n",
       "[5 rows x 34 columns]"
      ]
     },
     "execution_count": 470,
     "metadata": {},
     "output_type": "execute_result"
    }
   ],
   "source": [
    "test.head()"
   ]
  },
  {
   "cell_type": "code",
   "execution_count": null,
   "id": "a372221a-561b-47e2-ae50-fae6b8a12bc4",
   "metadata": {},
   "outputs": [],
   "source": []
  },
  {
   "cell_type": "markdown",
   "id": "393f9f22-c546-4ba4-bcfb-3fc1bfeacf99",
   "metadata": {},
   "source": [
    "### Handling missing value"
   ]
  },
  {
   "cell_type": "code",
   "execution_count": 471,
   "id": "00f5a59f-5227-4685-9508-6a450d278bad",
   "metadata": {},
   "outputs": [],
   "source": [
    "## Droping columns having very large no of missing values\n",
    "train.drop([\"next_player\", \"next_action\", \"next_x\", \"next_y\", \"event_id\", \"next_team\", \"next_event_id\", \"xt_value\", \"Train\"], axis=1, inplace=True)\n",
    "test.drop([\"next_player\", \"next_action\", \"next_x\", \"next_y\", \"event_id\", \"next_team\", \"next_event_id\", \"xt_value\", \"Train\", \"Score\"], axis=1, inplace=True)"
   ]
  },
  {
   "cell_type": "code",
   "execution_count": 472,
   "id": "416676c4-e9b3-49c1-a136-7745aa475e72",
   "metadata": {},
   "outputs": [
    {
     "data": {
      "text/plain": [
       "Game_ID              0\n",
       "Player_ID            0\n",
       "id                   0\n",
       "X                    0\n",
       "Y                    0\n",
       "Team                 0\n",
       "Action               0\n",
       "Half                 0\n",
       "Manager              0\n",
       "Opposition_Team      0\n",
       "Shots                0\n",
       "SoT                  0\n",
       "Goals_scored         0\n",
       "Goals_conceded       0\n",
       "Accurate passes      0\n",
       "Inaccurate passes    0\n",
       "Passes               0\n",
       "Start_minutes        0\n",
       "End_minutes          0\n",
       "Date                 0\n",
       "Season               0\n",
       "Match_ID             0\n",
       "Home Team            0\n",
       "Away Team            0\n",
       "Score                0\n",
       "dtype: int64"
      ]
     },
     "execution_count": 472,
     "metadata": {},
     "output_type": "execute_result"
    }
   ],
   "source": [
    "train.isnull().sum()"
   ]
  },
  {
   "cell_type": "code",
   "execution_count": 473,
   "id": "d3b6fd31-0f77-46f1-99e0-35c4c61abc8c",
   "metadata": {},
   "outputs": [
    {
     "data": {
      "text/plain": [
       "Game_ID                 0\n",
       "Player_ID               0\n",
       "id                      0\n",
       "X                       0\n",
       "Y                       0\n",
       "Team                    0\n",
       "Action                 10\n",
       "Half                   11\n",
       "Manager              5602\n",
       "Opposition_Team         0\n",
       "Shots                  92\n",
       "SoT                    92\n",
       "Goals_scored           92\n",
       "Goals_conceded         92\n",
       "Accurate passes        92\n",
       "Inaccurate passes      92\n",
       "Passes                 92\n",
       "Start_minutes          10\n",
       "End_minutes             0\n",
       "Date                    0\n",
       "Season                  0\n",
       "Match_ID                0\n",
       "Home Team               0\n",
       "Away Team               0\n",
       "dtype: int64"
      ]
     },
     "execution_count": 473,
     "metadata": {},
     "output_type": "execute_result"
    }
   ],
   "source": [
    "test.isnull().sum()"
   ]
  },
  {
   "cell_type": "code",
   "execution_count": 474,
   "id": "371dde91-455c-4e17-991f-9832cd70787a",
   "metadata": {},
   "outputs": [
    {
     "data": {
      "text/plain": [
       "46.78"
      ]
     },
     "execution_count": 474,
     "metadata": {},
     "output_type": "execute_result"
    }
   ],
   "source": [
    "test[\"Start_minutes\"].median()"
   ]
  },
  {
   "cell_type": "code",
   "execution_count": 475,
   "id": "52fe5fdf-5376-4264-8b45-5a4623f13cce",
   "metadata": {},
   "outputs": [],
   "source": [
    "# Filling nan values in categorical with mode\n",
    "test[\"Action\"].fillna(test[\"Action\"].mode()[0], inplace=True)\n",
    "test[\"Half\"].fillna(test[\"Half\"].mode()[0], inplace=True)\n",
    "test[\"Manager\"].fillna(test[\"Manager\"].mode()[0], inplace=True)\n",
    "\n",
    "# Filling nan values with median\n",
    "test[\"Shots\"].fillna(test[\"Shots\"].median(), inplace=True)\n",
    "test[\"SoT\"].fillna(test[\"SoT\"].median(), inplace=True)\n",
    "test[\"Goals_scored\"].fillna(test[\"Goals_scored\"].median(), inplace=True)\n",
    "test[\"Goals_conceded\"].fillna(test[\"Goals_conceded\"].median(), inplace=True)\n",
    "test[\"Accurate passes\"].fillna(test[\"Accurate passes\"].median(), inplace=True)\n",
    "test[\"Inaccurate passes\"].fillna(test[\"Inaccurate passes\"].median(), inplace=True)\n",
    "test[\"Passes\"].fillna(test[\"Passes\"].median(), inplace=True)\n",
    "test[\"Start_minutes\"].fillna(test[\"Start_minutes\"].median(), inplace=True)"
   ]
  },
  {
   "cell_type": "code",
   "execution_count": 476,
   "id": "96f50b2d-2d5f-4f7e-9249-23fb351e51f8",
   "metadata": {},
   "outputs": [
    {
     "data": {
      "text/plain": [
       "Game_ID              0\n",
       "Player_ID            0\n",
       "id                   0\n",
       "X                    0\n",
       "Y                    0\n",
       "Team                 0\n",
       "Action               0\n",
       "Half                 0\n",
       "Manager              0\n",
       "Opposition_Team      0\n",
       "Shots                0\n",
       "SoT                  0\n",
       "Goals_scored         0\n",
       "Goals_conceded       0\n",
       "Accurate passes      0\n",
       "Inaccurate passes    0\n",
       "Passes               0\n",
       "Start_minutes        0\n",
       "End_minutes          0\n",
       "Date                 0\n",
       "Season               0\n",
       "Match_ID             0\n",
       "Home Team            0\n",
       "Away Team            0\n",
       "dtype: int64"
      ]
     },
     "execution_count": 476,
     "metadata": {},
     "output_type": "execute_result"
    }
   ],
   "source": [
    "# Dropping columns having very few missing values\n",
    "test.isnull().sum()"
   ]
  },
  {
   "cell_type": "markdown",
   "id": "9a786905-6009-47d7-a9b2-d4919b464e51",
   "metadata": {},
   "source": [
    "## Features Engineering"
   ]
  },
  {
   "cell_type": "code",
   "execution_count": 477,
   "id": "3af40583-170e-4f7e-9596-669156b43de5",
   "metadata": {},
   "outputs": [
    {
     "data": {
      "text/plain": [
       "Index(['Game_ID', 'Player_ID', 'id', 'X', 'Y', 'Team', 'Action', 'Half',\n",
       "       'Manager', 'Opposition_Team', 'Shots', 'SoT', 'Goals_scored',\n",
       "       'Goals_conceded', 'Accurate passes', 'Inaccurate passes', 'Passes',\n",
       "       'Start_minutes', 'End_minutes', 'Date', 'Season', 'Match_ID',\n",
       "       'Home Team', 'Away Team', 'Score'],\n",
       "      dtype='object')"
      ]
     },
     "execution_count": 477,
     "metadata": {},
     "output_type": "execute_result"
    }
   ],
   "source": [
    "train.columns"
   ]
  },
  {
   "cell_type": "code",
   "execution_count": 478,
   "id": "4f2de329-67e1-4de1-9389-37482ce24ab6",
   "metadata": {},
   "outputs": [
    {
     "data": {
      "text/plain": [
       "Index(['Game_ID', 'Player_ID', 'id', 'X', 'Y', 'Team', 'Action', 'Half',\n",
       "       'Manager', 'Opposition_Team', 'Shots', 'SoT', 'Goals_scored',\n",
       "       'Goals_conceded', 'Accurate passes', 'Inaccurate passes', 'Passes',\n",
       "       'Start_minutes', 'End_minutes', 'Date', 'Season', 'Match_ID',\n",
       "       'Home Team', 'Away Team'],\n",
       "      dtype='object')"
      ]
     },
     "execution_count": 478,
     "metadata": {},
     "output_type": "execute_result"
    }
   ],
   "source": [
    "test.columns"
   ]
  },
  {
   "cell_type": "code",
   "execution_count": 479,
   "id": "2e4744c6-602c-453b-a29d-f73cdc513d39",
   "metadata": {},
   "outputs": [],
   "source": [
    "# Converting Date column datatye to datetime \n",
    "train[\"Date\"] = pd.to_datetime(train[\"Date\"])\n",
    "test[\"Date\"] = pd.to_datetime(test[\"Date\"])"
   ]
  },
  {
   "cell_type": "code",
   "execution_count": 480,
   "id": "6c931c01-a83b-4710-a39b-3cc198ef7bd8",
   "metadata": {},
   "outputs": [],
   "source": [
    "# Extracting day, month and year from date column\n",
    "train[\"Year\"] = train[\"Date\"].dt.year\n",
    "train[\"Month\"] = train[\"Date\"].dt.month\n",
    "train[\"Day\"] = train[\"Date\"].dt.day\n",
    "train.drop(\"Date\", axis=1, inplace=True)\n",
    "\n",
    "\n",
    "test[\"Year\"] = test[\"Date\"].dt.year\n",
    "test[\"Month\"] = test[\"Date\"].dt.month\n",
    "test[\"Day\"] = test[\"Date\"].dt.day\n",
    "test.drop(\"Date\", axis=1, inplace=True)"
   ]
  },
  {
   "cell_type": "code",
   "execution_count": 481,
   "id": "1397d9c5-f087-4638-943f-9afebbd110a5",
   "metadata": {},
   "outputs": [],
   "source": [
    "# Creating new feature \"Total_shots\"\n",
    "train[\"Total_Shots\"] = train[\"Shots\"] + train[\"SoT\"]\n",
    "test[\"Total_Shots\"] = test[\"Shots\"] + test[\"SoT\"]"
   ]
  },
  {
   "cell_type": "code",
   "execution_count": 482,
   "id": "2fac9e7a-87ad-4852-bd61-9ffa793e11ad",
   "metadata": {},
   "outputs": [],
   "source": [
    "# # Creating new feature \"Total_min_played\"\n",
    "train[\"Total_min_played\"] = train[\"End_minutes\"] - train[\"Start_minutes\"]\n",
    "test[\"Total_min_played\"] = test[\"End_minutes\"] - test[\"Start_minutes\"]"
   ]
  },
  {
   "cell_type": "code",
   "execution_count": 483,
   "id": "c061e74e-a204-4c08-bcc8-4bc7ae51287d",
   "metadata": {},
   "outputs": [],
   "source": [
    "# Creating new feature \"Total_goals\"\n",
    "train[\"Total_goals\"] = train[\"Goals_scored\"] + train[\"Goals_conceded\"]\n",
    "test[\"Total_goals\"] = test[\"Goals_scored\"] + test[\"Goals_conceded\"]"
   ]
  },
  {
   "cell_type": "code",
   "execution_count": 484,
   "id": "b413034a-5eaa-4fb6-babc-73b0f8d39908",
   "metadata": {},
   "outputs": [],
   "source": [
    "# Creating new feature distance covered by baal from X to Y\n",
    "train[\"Dist_X_Y\"] = np.abs(train[\"Y\"] - train[\"X\"])\n",
    "test[\"Dist_X_Y\"] = np.abs(test[\"Y\"] - test[\"X\"])"
   ]
  },
  {
   "cell_type": "code",
   "execution_count": 485,
   "id": "32085c4f-04de-43d1-ba33-06b550b95774",
   "metadata": {
    "tags": []
   },
   "outputs": [],
   "source": [
    "# Extracting which half played from th \"Half\" column\n",
    "train[\"Half\"] = train[\"Half\"].str.extract(r'([12])').astype(\"int64\")\n",
    "test[\"Half\"] = test[\"Half\"].str.extract(r'([12])').astype(\"int64\")"
   ]
  },
  {
   "cell_type": "code",
   "execution_count": 486,
   "id": "2379f2a6-f518-4bdd-952b-e0521cb3abd1",
   "metadata": {},
   "outputs": [],
   "source": [
    "# train[\"Half\"] = LabelEncoder().fit_transform(train[\"Half\"])\n",
    "# test[\"Half\"] = LabelEncoder().fit_transform(test[\"Half\"])"
   ]
  },
  {
   "cell_type": "code",
   "execution_count": 487,
   "id": "0143d540-d46a-418a-8332-f569b37f66de",
   "metadata": {},
   "outputs": [
    {
     "data": {
      "text/plain": [
       "Index(['Game_ID', 'Player_ID', 'id', 'X', 'Y', 'Team', 'Action', 'Half',\n",
       "       'Manager', 'Opposition_Team', 'Shots', 'SoT', 'Goals_scored',\n",
       "       'Goals_conceded', 'Accurate passes', 'Inaccurate passes', 'Passes',\n",
       "       'Start_minutes', 'End_minutes', 'Season', 'Match_ID', 'Home Team',\n",
       "       'Away Team', 'Score', 'Year', 'Month', 'Day', 'Total_Shots',\n",
       "       'Total_min_played', 'Total_goals', 'Dist_X_Y'],\n",
       "      dtype='object')"
      ]
     },
     "execution_count": 487,
     "metadata": {},
     "output_type": "execute_result"
    }
   ],
   "source": [
    "train.columns"
   ]
  },
  {
   "cell_type": "code",
   "execution_count": 488,
   "id": "e21c28c8-60fb-4428-a25e-f6da2c6e0ab3",
   "metadata": {},
   "outputs": [
    {
     "data": {
      "text/plain": [
       "Index(['Game_ID', 'Player_ID', 'id', 'X', 'Y', 'Team', 'Action', 'Half',\n",
       "       'Manager', 'Opposition_Team', 'Shots', 'SoT', 'Goals_scored',\n",
       "       'Goals_conceded', 'Accurate passes', 'Inaccurate passes', 'Passes',\n",
       "       'Start_minutes', 'End_minutes', 'Season', 'Match_ID', 'Home Team',\n",
       "       'Away Team', 'Year', 'Month', 'Day', 'Total_Shots', 'Total_min_played',\n",
       "       'Total_goals', 'Dist_X_Y'],\n",
       "      dtype='object')"
      ]
     },
     "execution_count": 488,
     "metadata": {},
     "output_type": "execute_result"
    }
   ],
   "source": [
    "test.columns"
   ]
  },
  {
   "cell_type": "code",
   "execution_count": 489,
   "id": "9a815ae9-28c3-4e61-9132-003d4ce5c074",
   "metadata": {},
   "outputs": [
    {
     "data": {
      "text/plain": [
       "Game_ID              0\n",
       "Player_ID            0\n",
       "id                   0\n",
       "X                    0\n",
       "Y                    0\n",
       "Team                 0\n",
       "Action               0\n",
       "Half                 0\n",
       "Manager              0\n",
       "Opposition_Team      0\n",
       "Shots                0\n",
       "SoT                  0\n",
       "Goals_scored         0\n",
       "Goals_conceded       0\n",
       "Accurate passes      0\n",
       "Inaccurate passes    0\n",
       "Passes               0\n",
       "Start_minutes        0\n",
       "End_minutes          0\n",
       "Season               0\n",
       "Match_ID             0\n",
       "Home Team            0\n",
       "Away Team            0\n",
       "Year                 0\n",
       "Month                0\n",
       "Day                  0\n",
       "Total_Shots          0\n",
       "Total_min_played     0\n",
       "Total_goals          0\n",
       "Dist_X_Y             0\n",
       "dtype: int64"
      ]
     },
     "execution_count": 489,
     "metadata": {},
     "output_type": "execute_result"
    }
   ],
   "source": [
    "test.isnull().sum()"
   ]
  },
  {
   "cell_type": "markdown",
   "id": "9ec660aa-e429-4d58-8c37-29fc5a2e8009",
   "metadata": {},
   "source": [
    "## Handling Categorical Features"
   ]
  },
  {
   "cell_type": "code",
   "execution_count": 490,
   "id": "b428a39c-d28e-4a25-aa45-8e0af96fbb8f",
   "metadata": {},
   "outputs": [],
   "source": [
    "# train[\"Train\"] = 1\n",
    "# test[\"Train\"] = 0"
   ]
  },
  {
   "cell_type": "code",
   "execution_count": 491,
   "id": "b70c1584-9265-4ea0-ab1c-f6e5cb9ea95e",
   "metadata": {},
   "outputs": [],
   "source": [
    "# train.head()"
   ]
  },
  {
   "cell_type": "code",
   "execution_count": 492,
   "id": "931ea25b-8577-4681-bf16-236684f64981",
   "metadata": {},
   "outputs": [],
   "source": [
    "# test.head()"
   ]
  },
  {
   "cell_type": "code",
   "execution_count": 493,
   "id": "16d9128d-12da-40e0-b6a4-109aa74fef31",
   "metadata": {},
   "outputs": [],
   "source": [
    "# Combining both the data for encoding all the categorical features at once\n",
    "# train_test = pd.concat([train, test]) "
   ]
  },
  {
   "cell_type": "code",
   "execution_count": 494,
   "id": "6c110ac9-2366-4219-8f0d-d537d4306fe5",
   "metadata": {},
   "outputs": [],
   "source": [
    "# train_test.tail()"
   ]
  },
  {
   "cell_type": "code",
   "execution_count": 495,
   "id": "1fd079de-4d64-4070-855a-981574463343",
   "metadata": {},
   "outputs": [],
   "source": [
    "# train_test.columns"
   ]
  },
  {
   "cell_type": "code",
   "execution_count": 496,
   "id": "3c4dcd5c-4a64-4db5-8fe6-66681aea9b1f",
   "metadata": {},
   "outputs": [],
   "source": [
    "# Initializing encoders\n",
    "oe = OrdinalEncoder()\n",
    "le = LabelEncoder()\n",
    "\n",
    "# train_test[\"Player_ID\"] = le.fit_transform(train_test[[\"Player_ID\"]])\n",
    "# train_test[\"Team\"] = le.fit_transform(train_test[[\"Team\"]])\n",
    "# train_test[\"Action\"] = le.fit_transform(train_test[[\"Action\"]])\n",
    "# train_test[\"Manager\"] = le.fit_transform(train_test[[\"Manager\"]])\n",
    "# train_test[\"Home Team\"] = le.fit_transform(train_test[[\"Home Team\"]])\n",
    "# train_test[\"Away Team\"] = le.fit_transform(train_test[[\"Away Team\"]])\n",
    "# train_test[\"Opposition_Team\"] = le.fit_transform(train_test[[\"Opposition_Team\"]])"
   ]
  },
  {
   "cell_type": "code",
   "execution_count": 497,
   "id": "50eb2ee0-40d0-4aa9-a3e1-3b80ee837c87",
   "metadata": {},
   "outputs": [],
   "source": [
    "# Encoding categorical variables\n",
    "train[\"Player_ID\"] = oe.fit_transform(train[[\"Player_ID\"]])\n",
    "train[\"Team\"] = oe.fit_transform(train[[\"Team\"]])\n",
    "train[\"Action\"] = oe.fit_transform(train[[\"Action\"]])\n",
    "train[\"Manager\"] = oe.fit_transform(train[[\"Manager\"]])\n",
    "train[\"Home Team\"] = oe.fit_transform(train[[\"Home Team\"]])\n",
    "train[\"Away Team\"] = oe.fit_transform(train[[\"Away Team\"]])\n",
    "train[\"Opposition_Team\"] = oe.fit_transform(train[[\"Opposition_Team\"]])\n",
    "\n",
    "test[\"Player_ID\"] = oe.fit_transform(test[[\"Player_ID\"]])\n",
    "test[\"Team\"] = oe.fit_transform(test[[\"Team\"]])\n",
    "test[\"Action\"] = oe.fit_transform(test[[\"Action\"]])\n",
    "test[\"Manager\"] = oe.fit_transform(test[[\"Manager\"]])\n",
    "test[\"Home Team\"] = oe.fit_transform(test[[\"Home Team\"]])\n",
    "test[\"Away Team\"] = oe.fit_transform(test[[\"Away Team\"]])\n",
    "test[\"Opposition_Team\"] = oe.fit_transform(test[[\"Opposition_Team\"]])"
   ]
  },
  {
   "cell_type": "code",
   "execution_count": 498,
   "id": "9ab22770-58a9-4d3f-a507-46e433ffa986",
   "metadata": {},
   "outputs": [],
   "source": [
    "# train_test.info()"
   ]
  },
  {
   "cell_type": "code",
   "execution_count": 499,
   "id": "562f323c-f5b2-48e3-9df2-2f184b05e958",
   "metadata": {},
   "outputs": [],
   "source": [
    "# Splitting training and testing set\n",
    "# train = train_test[train_test[\"Train\"] == 1].copy()\n",
    "# test = train_test[train_test[\"Train\"] == 0].copy()\n",
    "# test.drop(\"Score\", axis=1, inplace=True)"
   ]
  },
  {
   "cell_type": "code",
   "execution_count": 500,
   "id": "6b5de4c9-d47a-46ca-bdbf-c5d7f6d0199e",
   "metadata": {},
   "outputs": [
    {
     "name": "stdout",
     "output_type": "stream",
     "text": [
      "<class 'pandas.core.frame.DataFrame'>\n",
      "Int64Index: 1626003 entries, 0 to 2428100\n",
      "Data columns (total 31 columns):\n",
      " #   Column             Non-Null Count    Dtype  \n",
      "---  ------             --------------    -----  \n",
      " 0   Game_ID            1626003 non-null  object \n",
      " 1   Player_ID          1626003 non-null  float64\n",
      " 2   id                 1626003 non-null  float64\n",
      " 3   X                  1626003 non-null  float64\n",
      " 4   Y                  1626003 non-null  float64\n",
      " 5   Team               1626003 non-null  float64\n",
      " 6   Action             1626003 non-null  float64\n",
      " 7   Half               1626003 non-null  int64  \n",
      " 8   Manager            1626003 non-null  float64\n",
      " 9   Opposition_Team    1626003 non-null  float64\n",
      " 10  Shots              1626003 non-null  float64\n",
      " 11  SoT                1626003 non-null  float64\n",
      " 12  Goals_scored       1626003 non-null  float64\n",
      " 13  Goals_conceded     1626003 non-null  float64\n",
      " 14  Accurate passes    1626003 non-null  float64\n",
      " 15  Inaccurate passes  1626003 non-null  float64\n",
      " 16  Passes             1626003 non-null  float64\n",
      " 17  Start_minutes      1626003 non-null  float64\n",
      " 18  End_minutes        1626003 non-null  float64\n",
      " 19  Season             1626003 non-null  int64  \n",
      " 20  Match_ID           1626003 non-null  float64\n",
      " 21  Home Team          1626003 non-null  float64\n",
      " 22  Away Team          1626003 non-null  float64\n",
      " 23  Score              1626003 non-null  object \n",
      " 24  Year               1626003 non-null  int64  \n",
      " 25  Month              1626003 non-null  int64  \n",
      " 26  Day                1626003 non-null  int64  \n",
      " 27  Total_Shots        1626003 non-null  float64\n",
      " 28  Total_min_played   1626003 non-null  float64\n",
      " 29  Total_goals        1626003 non-null  float64\n",
      " 30  Dist_X_Y           1626003 non-null  float64\n",
      "dtypes: float64(24), int64(5), object(2)\n",
      "memory usage: 397.0+ MB\n"
     ]
    }
   ],
   "source": [
    "train.info()"
   ]
  },
  {
   "cell_type": "code",
   "execution_count": 501,
   "id": "50e812dd-859c-4c01-90cb-542e25147725",
   "metadata": {},
   "outputs": [
    {
     "data": {
      "text/plain": [
       "(1626003, 31)"
      ]
     },
     "execution_count": 501,
     "metadata": {},
     "output_type": "execute_result"
    }
   ],
   "source": [
    "train.shape"
   ]
  },
  {
   "cell_type": "code",
   "execution_count": 502,
   "id": "08cdb78c-404a-4e89-8c55-9bd13a807f4b",
   "metadata": {},
   "outputs": [
    {
     "data": {
      "text/plain": [
       "(802098, 30)"
      ]
     },
     "execution_count": 502,
     "metadata": {},
     "output_type": "execute_result"
    }
   ],
   "source": [
    "test.shape"
   ]
  },
  {
   "cell_type": "markdown",
   "id": "a57b61ad-384d-4087-8385-0fae52454514",
   "metadata": {},
   "source": [
    "## Feature Slection"
   ]
  },
  {
   "cell_type": "code",
   "execution_count": 503,
   "id": "919ded7f-67db-4658-a96e-171b71b9dcdc",
   "metadata": {},
   "outputs": [],
   "source": [
    "# Removing duplicates\n",
    "train.drop_duplicates(subset=\"Game_ID\", inplace=True)\n",
    "test.drop_duplicates(subset=\"Game_ID\", inplace=True)"
   ]
  },
  {
   "cell_type": "code",
   "execution_count": 504,
   "id": "1ff9a159-262a-4612-9d89-cebda4fa60e0",
   "metadata": {},
   "outputs": [],
   "source": [
    "# Initializing labelencoder\n",
    "le = LabelEncoder()\n",
    "\n",
    "# Splittind data into featureS and target\n",
    "X = train.drop([\"Score\", \"Game_ID\"], axis=1)\n",
    "y = le.fit_transform(train[\"Score\"])"
   ]
  },
  {
   "cell_type": "code",
   "execution_count": 505,
   "id": "384c90e8-c3c6-4b15-9f87-6d8cce417ac3",
   "metadata": {},
   "outputs": [
    {
     "data": {
      "text/plain": [
       "(412, 29)"
      ]
     },
     "execution_count": 505,
     "metadata": {},
     "output_type": "execute_result"
    }
   ],
   "source": [
    "X.shape"
   ]
  },
  {
   "cell_type": "code",
   "execution_count": 506,
   "id": "98962be5-55ce-49ad-bf13-eeb3546eabe6",
   "metadata": {},
   "outputs": [
    {
     "data": {
      "text/plain": [
       "array(['Away win', 'Draw', 'Home Win'], dtype=object)"
      ]
     },
     "execution_count": 506,
     "metadata": {},
     "output_type": "execute_result"
    }
   ],
   "source": [
    "le.classes_"
   ]
  },
  {
   "cell_type": "code",
   "execution_count": 507,
   "id": "c69ddcfd-4e12-415d-9b05-994cbf657a8a",
   "metadata": {},
   "outputs": [],
   "source": [
    "game_id = test[\"Game_ID\"]\n",
    "test.drop(\"Game_ID\", axis=1, inplace=True)"
   ]
  },
  {
   "cell_type": "markdown",
   "id": "f7b83885-b170-46d0-8377-60de1009402b",
   "metadata": {},
   "source": [
    "# Training models"
   ]
  },
  {
   "cell_type": "code",
   "execution_count": 508,
   "id": "ffb66845-9910-4420-b5cc-8666c181a090",
   "metadata": {},
   "outputs": [],
   "source": [
    "# Splitting the data into training and testing set\n",
    "X_train, X_test, y_train, y_test = train_test_split(X.values, y, test_size=0.06, random_state=SEED)"
   ]
  },
  {
   "cell_type": "code",
   "execution_count": 509,
   "id": "6dbb2070-ccf8-413b-b3fb-93d094247453",
   "metadata": {},
   "outputs": [],
   "source": [
    "# Scaling the dataa\n",
    "scaler = StandardScaler()\n",
    "scaler.fit(X_train)\n",
    "X_train_scaled = scaler.transform(X_train)\n",
    "X_test_scaled = scaler.transform(X_test)"
   ]
  },
  {
   "cell_type": "markdown",
   "id": "6484a6f1-dbf1-41be-9803-4f808e3fd78a",
   "metadata": {},
   "source": [
    "## SVM\n"
   ]
  },
  {
   "cell_type": "code",
   "execution_count": 511,
   "id": "0ce009e7-9c2e-432c-b55d-82a48155203c",
   "metadata": {},
   "outputs": [
    {
     "name": "stdout",
     "output_type": "stream",
     "text": [
      "0.4\n"
     ]
    }
   ],
   "source": [
    "svc = SVC()\n",
    "svc.fit(X_train_scaled, y_train)\n",
    "preds = svc.predict(X_test_scaled)\n",
    "score = accuracy_score(y_test, preds)\n",
    "print(score)"
   ]
  },
  {
   "cell_type": "code",
   "execution_count": 512,
   "id": "78d6a375-f06a-4135-8ec9-47dc4b1a8d32",
   "metadata": {},
   "outputs": [],
   "source": [
    "preds_test = svc.predict(test.values)\n",
    "\n",
    "map_preds = {0:\"Away win\",\n",
    "            1:\"Draw\",\n",
    "            2:\"Home Win\"}\n",
    "\n",
    "score = np.array(list(map(lambda x: map_preds[x], preds_test.flatten())))\n",
    "sub = pd.DataFrame({\"Game_ID\": game_id,\n",
    "                   \"Score\": score})\n",
    "\n",
    "sub.to_csv(\"rf2.csv\", index=None)"
   ]
  },
  {
   "cell_type": "code",
   "execution_count": 513,
   "id": "5a118fac-f90f-4112-ab5b-39d12dd80db2",
   "metadata": {},
   "outputs": [],
   "source": [
    "# test_scaled = scaler.transform(test.values) "
   ]
  },
  {
   "cell_type": "code",
   "execution_count": 514,
   "id": "c1bf4c6a-814b-4319-bee4-c9fe0b5b73ab",
   "metadata": {},
   "outputs": [
    {
     "data": {
      "text/plain": [
       "(387, 29)"
      ]
     },
     "execution_count": 514,
     "metadata": {},
     "output_type": "execute_result"
    }
   ],
   "source": [
    "X_train.shape"
   ]
  },
  {
   "cell_type": "code",
   "execution_count": 412,
   "id": "033f0db4-224a-488a-8d23-37f09187838d",
   "metadata": {},
   "outputs": [
    {
     "data": {
      "text/plain": [
       "(25, 29)"
      ]
     },
     "execution_count": 412,
     "metadata": {},
     "output_type": "execute_result"
    }
   ],
   "source": [
    "X_test.shape"
   ]
  },
  {
   "cell_type": "markdown",
   "id": "dc7a884f-da4a-443f-8473-639ca1ca9269",
   "metadata": {},
   "source": [
    "## RandomForest Classifier"
   ]
  },
  {
   "cell_type": "code",
   "execution_count": 413,
   "id": "b91d3060-7354-4f8c-a1d4-26c8b39c25cf",
   "metadata": {},
   "outputs": [
    {
     "data": {
      "text/plain": [
       "RandomForestClassifier(max_depth=8, random_state=100)"
      ]
     },
     "execution_count": 413,
     "metadata": {},
     "output_type": "execute_result"
    }
   ],
   "source": [
    "# Initializing the model\n",
    "rf = RandomForestClassifier(n_estimators=100, max_depth=8, random_state=SEED)\n",
    "rf.fit(X_train, y_train)"
   ]
  },
  {
   "cell_type": "code",
   "execution_count": 414,
   "id": "4852072a-d555-480a-8f8e-0b6107c3fd26",
   "metadata": {},
   "outputs": [
    {
     "data": {
      "text/plain": [
       "0.44"
      ]
     },
     "execution_count": 414,
     "metadata": {},
     "output_type": "execute_result"
    }
   ],
   "source": [
    "preds = rf.predict(X_test_scaled)\n",
    "accuracy_score(y_test, preds)"
   ]
  },
  {
   "cell_type": "code",
   "execution_count": 523,
   "id": "ecd0b23f-483e-4870-b4b8-d3bd81dbafea",
   "metadata": {},
   "outputs": [
    {
     "data": {
      "text/plain": [
       "Text(0.5, 1.0, 'Random Forest Feature Importances')"
      ]
     },
     "execution_count": 523,
     "metadata": {},
     "output_type": "execute_result"
    },
    {
     "data": {
      "image/png": "[encoded data removed]",
      "text/plain": [
       "<Figure size 720x1440 with 1 Axes>"
      ]
     },
     "metadata": {
      "needs_background": "light"
     },
     "output_type": "display_data"
    }
   ],
   "source": [
    "# Plotting features importances \n",
    "rf_feature_imp = rf.feature_importances_\n",
    "columns = X.columns\n",
    "\n",
    "plt.figure(figsize=(10, 20))\n",
    "sns.barplot(x=rf_feature_imp, y=columns, orient=\"h\")\n",
    "plt.title(\"Random Forest Feature Importances\")"
   ]
  },
  {
   "cell_type": "code",
   "execution_count": 522,
   "id": "1115c0c6-2b4e-418f-8e81-d65745b110a3",
   "metadata": {},
   "outputs": [],
   "source": [
    "# mapping values to the predictions of the model\n",
    "map_preds = {0:\"Away win\",\n",
    "            1:\"Draw\",\n",
    "            2:\"Home Win\"}\n",
    "\n",
    "score = np.array(list(map(lambda x: map_preds[x], preds_test)))\n",
    "# print(score)"
   ]
  },
  {
   "cell_type": "code",
   "execution_count": 417,
   "id": "bd9ecca0-a0ce-48fd-8474-454a266728be",
   "metadata": {},
   "outputs": [],
   "source": [
    "# Creating a submission dataframe\n",
    "sub = pd.DataFrame({\"Game_ID\": game_id,\n",
    "                   \"Score\": score})\n",
    "# sub.head()\n",
    "# saving the dataframe for submission\n",
    "sub.to_csv(\"rf_sub_4.csv\", index=None)"
   ]
  },
  {
   "cell_type": "markdown",
   "id": "501a1601-d3d4-4f3a-a9a6-5901fd6e3b5b",
   "metadata": {},
   "source": [
    "## XGBoost Classifier"
   ]
  },
  {
   "cell_type": "code",
   "execution_count": 521,
   "id": "fb123354-9472-4002-9477-d140b484ce7f",
   "metadata": {},
   "outputs": [],
   "source": [
    "# xgb = XGBClassifier(n_estimators=1000, max_depth=8, random_state=SEED)\n",
    "# xgb.fit(X_train, y_train)"
   ]
  },
  {
   "cell_type": "code",
   "execution_count": 520,
   "id": "0d4c046c-95a5-4b4a-a69f-2a94a2ee85b6",
   "metadata": {},
   "outputs": [],
   "source": [
    "# preds = xgb.predict(X_test)\n",
    "# accuracy_score(y_test, preds)"
   ]
  },
  {
   "cell_type": "code",
   "execution_count": 420,
   "id": "13b2c8ea-9fb5-4c2b-884c-dd7cb7c9c534",
   "metadata": {},
   "outputs": [],
   "source": [
    "# test_scaled = scaler.transform(test.drop(\"Game_ID\", axis=1).values)\n",
    "# preds_test = xgb.predict(test_scaled)\n",
    "\n",
    "# preds_test"
   ]
  },
  {
   "cell_type": "code",
   "execution_count": 421,
   "id": "3b2ec074-1e8a-475b-b9f1-aaa78d1aa7b5",
   "metadata": {},
   "outputs": [],
   "source": [
    "# map_preds = {0:\"Away win\",\n",
    "#             1:\"Draw\",\n",
    "#             2:\"Home Win\"}\n",
    "\n",
    "# score = np.array(list(map(lambda x: map_preds[x], preds_test)))\n",
    "# print(score)"
   ]
  },
  {
   "cell_type": "code",
   "execution_count": 422,
   "id": "37b86599-4929-4abb-979e-d655488999a4",
   "metadata": {},
   "outputs": [],
   "source": [
    "# sub = pd.DataFrame({\"Game_ID\": game_id,\n",
    "#                    \"Score\": score})\n",
    "# sub.head()"
   ]
  },
  {
   "cell_type": "code",
   "execution_count": 423,
   "id": "fc0e36e1-3336-426c-ab15-19676059945c",
   "metadata": {},
   "outputs": [],
   "source": [
    "# sub.to_csv(\"xgb_2.csv\", index=None)"
   ]
  },
  {
   "cell_type": "markdown",
   "id": "53ccf622-9b55-43ce-bee2-bbc92f30e272",
   "metadata": {},
   "source": [
    "## CatBoostClassifier"
   ]
  },
  {
   "cell_type": "code",
   "execution_count": 515,
   "id": "3bd0db95-54fe-41b0-95f2-12e2f8931fa0",
   "metadata": {
    "tags": []
   },
   "outputs": [],
   "source": [
    "# cb = CatBoostClassifier()\n",
    "# cb.fit(X_train, y_train)"
   ]
  },
  {
   "cell_type": "code",
   "execution_count": 425,
   "id": "2c468706-8010-4e8b-bcfc-705ac63d83c6",
   "metadata": {},
   "outputs": [
    {
     "name": "stdout",
     "output_type": "stream",
     "text": [
      "accuracy_score: 0.32\n"
     ]
    }
   ],
   "source": [
    "# preds = cb.predict(X_test)\n",
    "# print(f\"accuracy_score: {accuracy_score(y_test, preds)}\")"
   ]
  },
  {
   "cell_type": "code",
   "execution_count": 426,
   "id": "38137c0b-d833-4d1b-9570-0d7ddb9639be",
   "metadata": {},
   "outputs": [],
   "source": [
    "# preds_test = cb.predict(test.values)\n",
    "\n",
    "# map_preds = {0:\"Away win\",\n",
    "#             1:\"Draw\",\n",
    "#             2:\"Home Win\"}\n",
    "\n",
    "# score = np.array(list(map(lambda x: map_preds[x], preds_test.flatten())))\n",
    "# sub = pd.DataFrame({\"Game_ID\": game_id,\n",
    "#                    \"Score\": score})"
   ]
  },
  {
   "cell_type": "code",
   "execution_count": 517,
   "id": "490dc1ff-1d9d-4e31-bf00-92ad537ed52f",
   "metadata": {},
   "outputs": [],
   "source": [
    "# sub.shape"
   ]
  },
  {
   "cell_type": "code",
   "execution_count": 428,
   "id": "5b2736f0-4fd3-4f94-a2ad-3b57aacbf193",
   "metadata": {},
   "outputs": [],
   "source": [
    "# sub.to_csv(\"cb_13.csv\", index=None)"
   ]
  },
  {
   "cell_type": "code",
   "execution_count": 518,
   "id": "a36695e8-9289-403c-bb46-a6370d851d5c",
   "metadata": {},
   "outputs": [],
   "source": [
    "# cb.feature_importances_"
   ]
  },
  {
   "cell_type": "code",
   "execution_count": 516,
   "id": "9bd68a6e-c6c3-4257-a9af-65b3cca14deb",
   "metadata": {},
   "outputs": [],
   "source": [
    "# plt.figure(figsize=(20, 10))\n",
    "# sns.barplot(cb.feature_importances_, X.columns)"
   ]
  },
  {
   "cell_type": "code",
   "execution_count": null,
   "id": "71708c1f-7a8c-4191-b310-b5698a4de987",
   "metadata": {},
   "outputs": [],
   "source": []
  }
 ],
 "metadata": {
  "kernelspec": {
   "display_name": "Python 3 (ipykernel)",
   "language": "python",
   "name": "python3"
  },
  "language_info": {
   "codemirror_mode": {
    "name": "ipython",
    "version": 3
   },
   "file_extension": ".py",
   "mimetype": "text/x-python",
   "name": "python",
   "nbconvert_exporter": "python",
   "pygments_lexer": "ipython3",
   "version": "3.9.9"
  }
 },
 "nbformat": 4,
 "nbformat_minor": 5
}
